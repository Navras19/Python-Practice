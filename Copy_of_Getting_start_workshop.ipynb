{
  "nbformat": 4,
  "nbformat_minor": 0,
  "metadata": {
    "colab": {
      "provenance": [],
      "authorship_tag": "ABX9TyMRrxU0rnSOiZ99KABWmIWe",
      "include_colab_link": true
    },
    "kernelspec": {
      "name": "python3",
      "display_name": "Python 3"
    },
    "language_info": {
      "name": "python"
    }
  },
  "cells": [
    {
      "cell_type": "markdown",
      "metadata": {
        "id": "view-in-github",
        "colab_type": "text"
      },
      "source": [
        "<a href=\"https://colab.research.google.com/github/Navras19/Python-Practice/blob/main/Copy_of_Getting_start_workshop.ipynb\" target=\"_parent\"><img src=\"https://colab.research.google.com/assets/colab-badge.svg\" alt=\"Open In Colab\"/></a>"
      ]
    },
    {
      "cell_type": "markdown",
      "source": [
        "**Getting** **Started** **In** **Python **"
      ],
      "metadata": {
        "id": "FqFuEzo2PzE6"
      }
    },
    {
      "cell_type": "code",
      "source": [
        "5-2"
      ],
      "metadata": {
        "colab": {
          "base_uri": "https://localhost:8080/"
        },
        "id": "K0DfTUxvRchs",
        "outputId": "28a01f06-2ba7-4564-b9c8-ebade6e168f9"
      },
      "execution_count": null,
      "outputs": [
        {
          "output_type": "execute_result",
          "data": {
            "text/plain": [
              "3"
            ]
          },
          "metadata": {},
          "execution_count": 1
        }
      ]
    },
    {
      "cell_type": "code",
      "source": [
        "4-4"
      ],
      "metadata": {
        "colab": {
          "base_uri": "https://localhost:8080/"
        },
        "id": "LhFhd46ERxl_",
        "outputId": "66514b26-ede1-4003-e973-fa5d6d71c52b"
      },
      "execution_count": null,
      "outputs": [
        {
          "output_type": "execute_result",
          "data": {
            "text/plain": [
              "0"
            ]
          },
          "metadata": {},
          "execution_count": 2
        }
      ]
    },
    {
      "cell_type": "code",
      "source": [
        "print(\"Hello World!\")# getting started\n"
      ],
      "metadata": {
        "colab": {
          "base_uri": "https://localhost:8080/"
        },
        "id": "V8wlG8yiR1PZ",
        "outputId": "903d62f6-0e56-4286-b431-bb4c4941bdad"
      },
      "execution_count": null,
      "outputs": [
        {
          "output_type": "stream",
          "name": "stdout",
          "text": [
            "Hello World!\n"
          ]
        }
      ]
    },
    {
      "cell_type": "code",
      "source": [
        "a = 10\n",
        "a"
      ],
      "metadata": {
        "colab": {
          "base_uri": "https://localhost:8080/"
        },
        "id": "tbmw-IEYX5qk",
        "outputId": "dd758910-5d62-4fba-ba14-500ca5a2d292"
      },
      "execution_count": null,
      "outputs": [
        {
          "output_type": "execute_result",
          "data": {
            "text/plain": [
              "10"
            ]
          },
          "metadata": {},
          "execution_count": 1
        }
      ]
    },
    {
      "cell_type": "code",
      "source": [
        "f = False\n",
        "print(f)"
      ],
      "metadata": {
        "colab": {
          "base_uri": "https://localhost:8080/"
        },
        "id": "oAboAAvRcDV_",
        "outputId": "65b70acd-89c8-4ee8-ff6f-7959a64d8d84"
      },
      "execution_count": null,
      "outputs": [
        {
          "output_type": "stream",
          "name": "stdout",
          "text": [
            "False\n"
          ]
        }
      ]
    },
    {
      "cell_type": "code",
      "source": [
        "type(f)"
      ],
      "metadata": {
        "colab": {
          "base_uri": "https://localhost:8080/"
        },
        "id": "hNG6sHgvcOPw",
        "outputId": "dfe7b9a1-54b8-465f-a703-024b57171f4d"
      },
      "execution_count": null,
      "outputs": [
        {
          "output_type": "execute_result",
          "data": {
            "text/plain": [
              "bool"
            ]
          },
          "metadata": {},
          "execution_count": 4
        }
      ]
    },
    {
      "cell_type": "code",
      "source": [
        "country = \"United Kingdom\"\n",
        "len(country)"
      ],
      "metadata": {
        "colab": {
          "base_uri": "https://localhost:8080/"
        },
        "id": "IYr2gTh4cRAh",
        "outputId": "5c5a66b8-f682-498f-ce0d-e79e884acbe0"
      },
      "execution_count": null,
      "outputs": [
        {
          "output_type": "execute_result",
          "data": {
            "text/plain": [
              "14"
            ]
          },
          "metadata": {},
          "execution_count": 5
        }
      ]
    },
    {
      "cell_type": "code",
      "source": [],
      "metadata": {
        "id": "JWQG6HNcd0qj"
      },
      "execution_count": null,
      "outputs": []
    },
    {
      "cell_type": "code",
      "source": [
        "num = 12134\n",
        "str(num)"
      ],
      "metadata": {
        "colab": {
          "base_uri": "https://localhost:8080/",
          "height": 35
        },
        "id": "5WJ3gqdXd4qK",
        "outputId": "f259f024-4def-496a-975e-46c765fc5bde"
      },
      "execution_count": null,
      "outputs": [
        {
          "output_type": "execute_result",
          "data": {
            "text/plain": [
              "'12134'"
            ],
            "application/vnd.google.colaboratory.intrinsic+json": {
              "type": "string"
            }
          },
          "metadata": {},
          "execution_count": 6
        }
      ]
    },
    {
      "cell_type": "code",
      "source": [
        "num = 13.333\n",
        "round((num),2)\n"
      ],
      "metadata": {
        "colab": {
          "base_uri": "https://localhost:8080/"
        },
        "id": "n9pf_UREeIjX",
        "outputId": "0c68bf78-ef60-4d3e-d655-2e3961a28bad"
      },
      "execution_count": null,
      "outputs": [
        {
          "output_type": "execute_result",
          "data": {
            "text/plain": [
              "13.33"
            ]
          },
          "metadata": {},
          "execution_count": 8
        }
      ]
    },
    {
      "cell_type": "code",
      "source": [
        "print(\"ther apparent\\\"intention\\\"was not honest\")\n"
      ],
      "metadata": {
        "colab": {
          "base_uri": "https://localhost:8080/"
        },
        "id": "EFNKHwsCfKpI",
        "outputId": "9bd43966-9cf7-4faa-dea2-8b0e619a026e"
      },
      "execution_count": null,
      "outputs": [
        {
          "output_type": "stream",
          "name": "stdout",
          "text": [
            "ther apparent\"intention\"was not honest\n"
          ]
        }
      ]
    },
    {
      "cell_type": "code",
      "source": [
        "print(\"ther apparent intention \\n was not honest\")"
      ],
      "metadata": {
        "colab": {
          "base_uri": "https://localhost:8080/"
        },
        "id": "Qarzy4hrgQBb",
        "outputId": "958ffcf5-54cf-493b-8265-8163641c9f20"
      },
      "execution_count": null,
      "outputs": [
        {
          "output_type": "stream",
          "name": "stdout",
          "text": [
            "ther apparent intention \n",
            " was not honest\n"
          ]
        }
      ]
    },
    {
      "cell_type": "code",
      "source": [
        "print(\"ther apparent intention \\t was not honest\")"
      ],
      "metadata": {
        "colab": {
          "base_uri": "https://localhost:8080/"
        },
        "id": "-dIuwDyGgnkB",
        "outputId": "05142b07-14c7-4b40-d584-1d1174328ef7"
      },
      "execution_count": null,
      "outputs": [
        {
          "output_type": "stream",
          "name": "stdout",
          "text": [
            "ther apparent intention \t was not honest\n"
          ]
        }
      ]
    },
    {
      "cell_type": "code",
      "source": [
        "print(\"ther apparent intention \\bwas not honest\")"
      ],
      "metadata": {
        "colab": {
          "base_uri": "https://localhost:8080/"
        },
        "id": "Zmcl5UPvgzrR",
        "outputId": "14a79db9-7276-4034-9e90-a1b2dd1f00cb"
      },
      "execution_count": null,
      "outputs": [
        {
          "output_type": "stream",
          "name": "stdout",
          "text": [
            "ther apparent intention \bwas not honest\n"
          ]
        }
      ]
    },
    {
      "cell_type": "code",
      "source": [
        "# p = \"hello\"\n",
        "p = \"Hello World\"\n",
        "# p[1:4]\n",
        "# p[:4]\n",
        "# p[2:]\n",
        "# p[::3]\n"
      ],
      "metadata": {
        "colab": {
          "base_uri": "https://localhost:8080/",
          "height": 35
        },
        "id": "hCVtmJmmg2w5",
        "outputId": "e7d03d0d-1363-446d-95d0-4770b88bfffc"
      },
      "execution_count": null,
      "outputs": [
        {
          "output_type": "execute_result",
          "data": {
            "text/plain": [
              "'HlWl'"
            ],
            "application/vnd.google.colaboratory.intrinsic+json": {
              "type": "string"
            }
          },
          "metadata": {},
          "execution_count": 1
        }
      ]
    },
    {
      "cell_type": "code",
      "source": [
        "pin = '12345'\n",
        "pin[-1]"
      ],
      "metadata": {
        "colab": {
          "base_uri": "https://localhost:8080/",
          "height": 35
        },
        "id": "htgZe31RkPtq",
        "outputId": "ef75b697-deee-4179-d2e8-e3f4bbaab955"
      },
      "execution_count": null,
      "outputs": [
        {
          "output_type": "execute_result",
          "data": {
            "text/plain": [
              "'5'"
            ],
            "application/vnd.google.colaboratory.intrinsic+json": {
              "type": "string"
            }
          },
          "metadata": {},
          "execution_count": 24
        }
      ]
    },
    {
      "cell_type": "code",
      "source": [
        "pin[::-1]"
      ],
      "metadata": {
        "colab": {
          "base_uri": "https://localhost:8080/",
          "height": 35
        },
        "id": "DYAtHX_CjBKb",
        "outputId": "4a43f018-8522-469f-dc3b-f85ca5394751"
      },
      "execution_count": null,
      "outputs": [
        {
          "output_type": "execute_result",
          "data": {
            "text/plain": [
              "'54321'"
            ],
            "application/vnd.google.colaboratory.intrinsic+json": {
              "type": "string"
            }
          },
          "metadata": {},
          "execution_count": 27
        }
      ]
    },
    {
      "cell_type": "code",
      "source": [
        "pin[-5 ::]"
      ],
      "metadata": {
        "colab": {
          "base_uri": "https://localhost:8080/",
          "height": 35
        },
        "id": "o-7oBMQQkvXU",
        "outputId": "166b2b72-4e04-46c8-caa3-88caeee02bf0"
      },
      "execution_count": null,
      "outputs": [
        {
          "output_type": "execute_result",
          "data": {
            "text/plain": [
              "'12345'"
            ],
            "application/vnd.google.colaboratory.intrinsic+json": {
              "type": "string"
            }
          },
          "metadata": {},
          "execution_count": 28
        }
      ]
    },
    {
      "cell_type": "code",
      "source": [
        "\"10\"+\" \"+\"6\""
      ],
      "metadata": {
        "colab": {
          "base_uri": "https://localhost:8080/",
          "height": 35
        },
        "id": "3gbZPpgVlTVt",
        "outputId": "c531905e-80f5-454f-da69-0db82d401614"
      },
      "execution_count": null,
      "outputs": [
        {
          "output_type": "execute_result",
          "data": {
            "text/plain": [
              "'10 6'"
            ],
            "application/vnd.google.colaboratory.intrinsic+json": {
              "type": "string"
            }
          },
          "metadata": {},
          "execution_count": 29
        }
      ]
    },
    {
      "cell_type": "code",
      "source": [
        "text1 = \"Hello today is \"\n",
        "text2 = \"1st of November\"\n",
        "print(text1 + text2)\n"
      ],
      "metadata": {
        "colab": {
          "base_uri": "https://localhost:8080/"
        },
        "id": "bLzbUhg3n7DF",
        "outputId": "185d8324-8493-4ddb-db11-090bda57134b"
      },
      "execution_count": null,
      "outputs": [
        {
          "output_type": "stream",
          "name": "stdout",
          "text": [
            "Hello today is 1st of November\n"
          ]
        }
      ]
    },
    {
      "cell_type": "code",
      "source": [
        "num3 = \"10\"+\"6\"\n",
        "print(num3)"
      ],
      "metadata": {
        "colab": {
          "base_uri": "https://localhost:8080/"
        },
        "id": "a7s8PsfRqZDq",
        "outputId": "3558715f-6de6-4acb-b187-228f23f3a34f"
      },
      "execution_count": null,
      "outputs": [
        {
          "output_type": "stream",
          "name": "stdout",
          "text": [
            "106\n"
          ]
        }
      ]
    },
    {
      "cell_type": "code",
      "source": [
        "sen = \"mumumumum \\n\"\n",
        "print(sen*3)"
      ],
      "metadata": {
        "colab": {
          "base_uri": "https://localhost:8080/"
        },
        "id": "ibjKkVRJrAte",
        "outputId": "10175b64-b226-4155-e4b7-27dd6f4d7fe7"
      },
      "execution_count": null,
      "outputs": [
        {
          "output_type": "stream",
          "name": "stdout",
          "text": [
            "mumumumum \n",
            "mumumumum \n",
            "mumumumum \n",
            "\n"
          ]
        }
      ]
    },
    {
      "cell_type": "code",
      "source": [
        "sen1 = \"course\"\n",
        "print(id(sen1))"
      ],
      "metadata": {
        "colab": {
          "base_uri": "https://localhost:8080/"
        },
        "id": "bo1MChM2rYpP",
        "outputId": "b60d9ae3-f358-43d0-f1bc-c4044a41e474"
      },
      "execution_count": null,
      "outputs": [
        {
          "output_type": "stream",
          "name": "stdout",
          "text": [
            "139702950760560\n"
          ]
        }
      ]
    },
    {
      "cell_type": "code",
      "source": [
        "mytext= 'hey this is my text!'\n",
        "# mytext.capitalize()\n",
        "# mytext.upper()\n",
        "# mytext.lower()\n",
        "# mytext.count(\"s\")\n",
        "# mytext.find(\"s\")\n",
        "# mytext.replace(\"hey\",\"hi\")\n",
        "# mytext.split()\n",
        "# mytext.split(\"!\")\n",
        "mytext.split(\"i\")\n"
      ],
      "metadata": {
        "colab": {
          "base_uri": "https://localhost:8080/"
        },
        "id": "Lk2Tm4tLsAr1",
        "outputId": "5773e875-29bb-4c42-8def-65732e9ed498"
      },
      "execution_count": null,
      "outputs": [
        {
          "output_type": "execute_result",
          "data": {
            "text/plain": [
              "['hey th', 's ', 's my text!']"
            ]
          },
          "metadata": {},
          "execution_count": 47
        }
      ]
    },
    {
      "cell_type": "code",
      "source": [
        "'My salary will be {} by next April'.format(50000)"
      ],
      "metadata": {
        "colab": {
          "base_uri": "https://localhost:8080/",
          "height": 35
        },
        "id": "Hz2SYplLt1QC",
        "outputId": "9aab5525-01c1-432c-87dd-a5d70d37909f"
      },
      "execution_count": null,
      "outputs": [
        {
          "output_type": "execute_result",
          "data": {
            "text/plain": [
              "'My salary will be 50000 by next April'"
            ],
            "application/vnd.google.colaboratory.intrinsic+json": {
              "type": "string"
            }
          },
          "metadata": {},
          "execution_count": 50
        }
      ]
    },
    {
      "cell_type": "code",
      "source": [
        "salary = 50000\n",
        "# job = 'My salary will be {} by next April'\n",
        "# print(job.format(salary))"
      ],
      "metadata": {
        "colab": {
          "base_uri": "https://localhost:8080/"
        },
        "id": "3nOtkA62xIqJ",
        "outputId": "5da06b21-9beb-48d0-ea05-36757aff150c"
      },
      "execution_count": null,
      "outputs": [
        {
          "output_type": "stream",
          "name": "stdout",
          "text": [
            "My salary will be  by next April50000\n"
          ]
        }
      ]
    },
    {
      "cell_type": "code",
      "source": [
        "food = \"I bought  {} kg of {} that cost {} pounds\"\n",
        "weight = 10\n",
        "product = 'apples'\n",
        "cost = 20\n",
        "print(food.format(weight,product,cost))"
      ],
      "metadata": {
        "colab": {
          "base_uri": "https://localhost:8080/"
        },
        "id": "PcfNlsPeyWhj",
        "outputId": "fb6ff94e-aa43-4f9e-8e6a-b462be4b2b6e"
      },
      "execution_count": null,
      "outputs": [
        {
          "output_type": "stream",
          "name": "stdout",
          "text": [
            "I bought  10 kg of apples that cost 20 pounds\n"
          ]
        }
      ]
    },
    {
      "cell_type": "code",
      "source": [
        "food = \"I bought {1} kg of {2} that cost {0} pounds\"\n",
        "weight = 10\n",
        "product = 'apples'\n",
        "cost = 20\n",
        "print(food.format(cost,weight,product))\n"
      ],
      "metadata": {
        "colab": {
          "base_uri": "https://localhost:8080/"
        },
        "id": "-7UywSoyz0fz",
        "outputId": "3ec62693-deb3-4ff7-d227-0137c580e317"
      },
      "execution_count": null,
      "outputs": [
        {
          "output_type": "stream",
          "name": "stdout",
          "text": [
            "I bought 10 kg of apples that cost 20 pounds\n"
          ]
        }
      ]
    },
    {
      "cell_type": "code",
      "source": [
        "food = \"I bought {a} kg of {b} that cost {c} pounds\"\n",
        "weight = 10\n",
        "product = 'apples'\n",
        "cost = 20\n",
        "print(food.format(c = cost,a = weight,b = product))"
      ],
      "metadata": {
        "id": "UClN2LGc0gZV"
      },
      "execution_count": null,
      "outputs": []
    },
    {
      "cell_type": "code",
      "source": [
        "print(\"value is {g:1.5f}\".format(g = 10/7))"
      ],
      "metadata": {
        "colab": {
          "base_uri": "https://localhost:8080/"
        },
        "id": "67f26m1e3SxR",
        "outputId": "5c25fa35-828f-4690-80dd-f3c0caa13307"
      },
      "execution_count": null,
      "outputs": [
        {
          "output_type": "stream",
          "name": "stdout",
          "text": [
            "value is 1.42857\n"
          ]
        }
      ]
    },
    {
      "cell_type": "code",
      "source": [
        "print(\"this string %has something\"%'missing')"
      ],
      "metadata": {
        "colab": {
          "base_uri": "https://localhost:8080/"
        },
        "id": "4H1oTvb9417L",
        "outputId": "d5fc111e-c170-4c16-b4fa-2efe9c0e9328"
      },
      "execution_count": null,
      "outputs": [
        {
          "output_type": "stream",
          "name": "stdout",
          "text": [
            "this string 'missing's something\n"
          ]
        }
      ]
    },
    {
      "cell_type": "code",
      "source": [
        "x=4\n",
        "print(x>2 or x < 6 )"
      ],
      "metadata": {
        "colab": {
          "base_uri": "https://localhost:8080/"
        },
        "id": "YIhW6Tit_ZHt",
        "outputId": "b9d590ff-5294-4dde-9cbc-0a70db477e76"
      },
      "execution_count": null,
      "outputs": [
        {
          "output_type": "stream",
          "name": "stdout",
          "text": [
            "True\n"
          ]
        }
      ]
    },
    {
      "cell_type": "code",
      "source": [
        "x = 0.2\n",
        "if x % 2 == 0 :\n",
        "  print(\"This is an even number!\")\n",
        "else:\n",
        "  print(\"This is an odd number!\")\n"
      ],
      "metadata": {
        "colab": {
          "base_uri": "https://localhost:8080/"
        },
        "id": "nIxgJGHuKw2P",
        "outputId": "9ee1f43a-2a45-4ab3-a1c8-8421289c461d"
      },
      "execution_count": null,
      "outputs": [
        {
          "output_type": "stream",
          "name": "stdout",
          "text": [
            "This is an odd number!\n"
          ]
        }
      ]
    },
    {
      "cell_type": "code",
      "source": [
        "a = 19\n",
        "b = 10\n",
        "if a < b:\n",
        "  print(\"The first value less than the second\")\n",
        "elif a == b:\n",
        "  print(\"The first value is equel to the second \")\n",
        "else:\n",
        "  print(\"The first value is greater than the second\")"
      ],
      "metadata": {
        "colab": {
          "base_uri": "https://localhost:8080/"
        },
        "id": "34p9fj4PN7BM",
        "outputId": "8eb24a81-7faf-46d7-811a-3b312531bcc2"
      },
      "execution_count": null,
      "outputs": [
        {
          "output_type": "stream",
          "name": "stdout",
          "text": [
            "The first value is greater than the second\n"
          ]
        }
      ]
    },
    {
      "cell_type": "code",
      "source": [
        "a = 0\n",
        "if a > 0 :\n",
        "  print('The number is positive')\n",
        "elif a < 0 :\n",
        "  print(\"The number is negative\")\n",
        "else:\n",
        "  print(\"The number is zero\")"
      ],
      "metadata": {
        "colab": {
          "base_uri": "https://localhost:8080/"
        },
        "id": "gaeGuv5tP_V-",
        "outputId": "1d8abbae-ecb4-4325-8e7c-07c895655a81"
      },
      "execution_count": null,
      "outputs": [
        {
          "output_type": "stream",
          "name": "stdout",
          "text": [
            "The number is zero\n"
          ]
        }
      ]
    },
    {
      "cell_type": "code",
      "source": [
        "for i in range(0,11):\n",
        "  print(i)"
      ],
      "metadata": {
        "colab": {
          "base_uri": "https://localhost:8080/"
        },
        "id": "aTMUke1cRGKP",
        "outputId": "d1e3a819-a969-425f-acbb-6cfd25c35569"
      },
      "execution_count": null,
      "outputs": [
        {
          "output_type": "stream",
          "name": "stdout",
          "text": [
            "0\n",
            "1\n",
            "2\n",
            "3\n",
            "4\n",
            "5\n",
            "6\n",
            "7\n",
            "8\n",
            "9\n",
            "10\n"
          ]
        }
      ]
    },
    {
      "cell_type": "code",
      "source": [
        "for i in range(0,11):\n",
        "  print(\"The iteration number is {}\".format(i))"
      ],
      "metadata": {
        "colab": {
          "base_uri": "https://localhost:8080/"
        },
        "id": "apJh0KgzR2MC",
        "outputId": "6961d8a4-b97f-4583-9c5b-2871d1f4a741"
      },
      "execution_count": null,
      "outputs": [
        {
          "output_type": "stream",
          "name": "stdout",
          "text": [
            "The iteration number is 0\n",
            "The iteration number is 1\n",
            "The iteration number is 2\n",
            "The iteration number is 3\n",
            "The iteration number is 4\n",
            "The iteration number is 5\n",
            "The iteration number is 6\n",
            "The iteration number is 7\n",
            "The iteration number is 8\n",
            "The iteration number is 9\n",
            "The iteration number is 10\n"
          ]
        }
      ]
    },
    {
      "cell_type": "code",
      "source": [
        "i = 0.1 \n",
        "while i < 11:\n",
        "  print(i)\n",
        "  i = i+1"
      ],
      "metadata": {
        "colab": {
          "base_uri": "https://localhost:8080/"
        },
        "id": "ZGcQ6_dcSXPd",
        "outputId": "8cba1ee4-bd66-4ff3-b19b-953e9c07b152"
      },
      "execution_count": null,
      "outputs": [
        {
          "output_type": "stream",
          "name": "stdout",
          "text": [
            "0.1\n",
            "1.1\n",
            "2.1\n",
            "3.1\n",
            "4.1\n",
            "5.1\n",
            "6.1\n",
            "7.1\n",
            "8.1\n",
            "9.1\n",
            "10.1\n"
          ]
        }
      ]
    },
    {
      "cell_type": "code",
      "source": [
        "target_value = 10\n",
        "iterate  = 0\n",
        "while iterate < target_value:\n",
        "  print(\"Iteration number is {}, whis is less than target value {}\".format(iterate,target_value))\n",
        "  iterate +=1\n",
        "print(\"The end\")\n"
      ],
      "metadata": {
        "colab": {
          "base_uri": "https://localhost:8080/"
        },
        "id": "3QNuP5W3Ta4P",
        "outputId": "d4e34de0-eb2c-4a9a-ee66-7b355a6b1b94"
      },
      "execution_count": null,
      "outputs": [
        {
          "output_type": "stream",
          "name": "stdout",
          "text": [
            "Iteration number is 0, whis is less than target value 10\n",
            "Iteration number is 1, whis is less than target value 10\n",
            "Iteration number is 2, whis is less than target value 10\n",
            "Iteration number is 3, whis is less than target value 10\n",
            "Iteration number is 4, whis is less than target value 10\n",
            "Iteration number is 5, whis is less than target value 10\n",
            "Iteration number is 6, whis is less than target value 10\n",
            "Iteration number is 7, whis is less than target value 10\n",
            "Iteration number is 8, whis is less than target value 10\n",
            "Iteration number is 9, whis is less than target value 10\n",
            "The end\n"
          ]
        }
      ]
    },
    {
      "cell_type": "code",
      "source": [
        "\n",
        "colours = [\"black\",\"blue\",\"white\"]\n",
        "cars= [\"range\",\"tesla\",\"ford\"]\n",
        "for colour in colours: #outer loop\n",
        "  for car in cars:  #inner loop\n",
        "    print(colour,car)"
      ],
      "metadata": {
        "colab": {
          "base_uri": "https://localhost:8080/"
        },
        "id": "LlWni3onUdKS",
        "outputId": "fc51d9e9-3cf8-41b7-cf2b-bf8d3583e93c"
      },
      "execution_count": null,
      "outputs": [
        {
          "output_type": "stream",
          "name": "stdout",
          "text": [
            "black range\n",
            "black tesla\n",
            "black ford\n",
            "blue range\n",
            "blue tesla\n",
            "blue ford\n",
            "white range\n",
            "white tesla\n",
            "white ford\n"
          ]
        }
      ]
    },
    {
      "cell_type": "code",
      "source": [
        "for i in range(1,6): # outer loop\n",
        "  for j in range(1,11): #inner loop\n",
        "    print(i*j, end = \" \")\n",
        "  print()"
      ],
      "metadata": {
        "colab": {
          "base_uri": "https://localhost:8080/"
        },
        "id": "eX3LkjoeXR6R",
        "outputId": "acff69ef-8289-4747-cf50-0e3bb12f40a7"
      },
      "execution_count": null,
      "outputs": [
        {
          "output_type": "stream",
          "name": "stdout",
          "text": [
            "1 2 3 4 5 6 7 8 9 10 \n",
            "2 4 6 8 10 12 14 16 18 20 \n",
            "3 6 9 12 15 18 21 24 27 30 \n",
            "4 8 12 16 20 24 28 32 36 40 \n",
            "5 10 15 20 25 30 35 40 45 50 \n"
          ]
        }
      ]
    },
    {
      "cell_type": "code",
      "source": [
        "target_value = 10\n",
        "iterate  = 0\n",
        "while iterate < target_value:\n",
        "  print(\"Iteration number is {} , which is less than a target value {}\".format(iterate,target_value))\n",
        "  if iterate == 5:\n",
        "    break\n",
        "  iterate +=1"
      ],
      "metadata": {
        "colab": {
          "base_uri": "https://localhost:8080/"
        },
        "id": "rhYycU6NZnJe",
        "outputId": "a0000a88-8075-47e1-aefa-2898a0261633"
      },
      "execution_count": null,
      "outputs": [
        {
          "output_type": "stream",
          "name": "stdout",
          "text": [
            "Iteration number is 0 , which is less than a target value 10\n",
            "Iteration number is 1 , which is less than a target value 10\n",
            "Iteration number is 2 , which is less than a target value 10\n",
            "Iteration number is 3 , which is less than a target value 10\n",
            "Iteration number is 4 , which is less than a target value 10\n",
            "Iteration number is 5 , which is less than a target value 10\n"
          ]
        }
      ]
    },
    {
      "cell_type": "code",
      "source": [
        "names = [\"Sylvie\",\"Mercy\",\"Kate\",\"ZAra\"]\n",
        "for name in names:\n",
        "  if name == \"Kate\":\n",
        "    continue \n",
        "  print(name)"
      ],
      "metadata": {
        "colab": {
          "base_uri": "https://localhost:8080/"
        },
        "id": "Wl3Dn3ricywg",
        "outputId": "ae9d8934-4d49-4ca0-b3b1-ad43b4d9c81e"
      },
      "execution_count": null,
      "outputs": [
        {
          "output_type": "stream",
          "name": "stdout",
          "text": [
            "Sylvie\n",
            "Mercy\n",
            "ZAra\n"
          ]
        }
      ]
    },
    {
      "cell_type": "code",
      "source": [
        "target_value = 10\n",
        "iterate_value = 0\n",
        "while iterate_value < target_value:\n",
        "  iterate_value+=1\n",
        "  if iterate_value ==5:\n",
        "    continue\n",
        "  print(\"Iteration number is {},which is less than the target value\".format(iterate_value, target_value))\n"
      ],
      "metadata": {
        "colab": {
          "base_uri": "https://localhost:8080/"
        },
        "id": "EPF_BM0rdwu5",
        "outputId": "f7a8c22b-e470-470c-ee65-0044ec5defe2"
      },
      "execution_count": null,
      "outputs": [
        {
          "output_type": "stream",
          "name": "stdout",
          "text": [
            "Iteration number is 1,which is less than the target value\n",
            "Iteration number is 2,which is less than the target value\n",
            "Iteration number is 3,which is less than the target value\n",
            "Iteration number is 4,which is less than the target value\n",
            "Iteration number is 6,which is less than the target value\n",
            "Iteration number is 7,which is less than the target value\n",
            "Iteration number is 8,which is less than the target value\n",
            "Iteration number is 9,which is less than the target value\n",
            "Iteration number is 10,which is less than the target value\n"
          ]
        }
      ]
    },
    {
      "cell_type": "markdown",
      "source": [
        "LIsts"
      ],
      "metadata": {
        "id": "nBTvuYZnjarc"
      }
    },
    {
      "cell_type": "code",
      "source": [
        "my_list = [\"Micheal\",\"Seamn\",\"Lili\"]\n",
        "type(my_list)"
      ],
      "metadata": {
        "colab": {
          "base_uri": "https://localhost:8080/"
        },
        "id": "ezYgXhD8jf6j",
        "outputId": "19aac786-a21b-4081-fe9c-e4f266d19048"
      },
      "execution_count": null,
      "outputs": [
        {
          "output_type": "execute_result",
          "data": {
            "text/plain": [
              "list"
            ]
          },
          "metadata": {},
          "execution_count": 41
        }
      ]
    },
    {
      "cell_type": "code",
      "source": [
        "my_list = [\"Micheal\",\"Seamn\",\"Lili\"]\n",
        "my_list[1]"
      ],
      "metadata": {
        "colab": {
          "base_uri": "https://localhost:8080/",
          "height": 35
        },
        "id": "SMivC0aKjyBF",
        "outputId": "286ed229-1c8c-4ec9-bc15-20eb6a53b1c0"
      },
      "execution_count": null,
      "outputs": [
        {
          "output_type": "execute_result",
          "data": {
            "text/plain": [
              "'Seamn'"
            ],
            "application/vnd.google.colaboratory.intrinsic+json": {
              "type": "string"
            }
          },
          "metadata": {},
          "execution_count": 42
        }
      ]
    },
    {
      "cell_type": "code",
      "source": [
        "my_list = [\"Micheal\",\"Sean\",\"Lili\",True,3000]\n",
        "my_list[0] = \"Paul\"\n",
        "print(my_list)"
      ],
      "metadata": {
        "colab": {
          "base_uri": "https://localhost:8080/"
        },
        "id": "ahcHbkjKj6pc",
        "outputId": "d27d8a2e-a130-4b85-a8c4-be231884bf8c"
      },
      "execution_count": null,
      "outputs": [
        {
          "output_type": "stream",
          "name": "stdout",
          "text": [
            "['Paul', 'Seamn', 'Lili', True, 3000]\n"
          ]
        }
      ]
    },
    {
      "cell_type": "code",
      "source": [
        "my_list = [\"Micheal\",\"Seamn\",\"Lili\",True,3000]\n",
        "len(my_list)"
      ],
      "metadata": {
        "colab": {
          "base_uri": "https://localhost:8080/"
        },
        "id": "KzZ7mbNZkIO3",
        "outputId": "747c017f-ccaa-4995-d075-f66e38775f1e"
      },
      "execution_count": null,
      "outputs": [
        {
          "output_type": "execute_result",
          "data": {
            "text/plain": [
              "5"
            ]
          },
          "metadata": {},
          "execution_count": 44
        }
      ]
    },
    {
      "cell_type": "code",
      "source": [
        "my_list = [\"Micheal\",\"Sean\",\"Lili\",True,3000]\n",
        "if \"Sean\" in my_list:\n",
        "  print(\"Yes , element is found\")"
      ],
      "metadata": {
        "colab": {
          "base_uri": "https://localhost:8080/"
        },
        "id": "s4Ecdo4GkPZD",
        "outputId": "3502da35-6bc7-4f19-c203-68ad87dbadf6"
      },
      "execution_count": null,
      "outputs": [
        {
          "output_type": "stream",
          "name": "stdout",
          "text": [
            "Yes , element is found\n"
          ]
        }
      ]
    },
    {
      "cell_type": "code",
      "source": [
        "my_list = [\"Micheal\",\"Seamn\",\"Lili\"]\n",
        "my_list.insert(0,\"Zara\")\n",
        "print(my_list)"
      ],
      "metadata": {
        "colab": {
          "base_uri": "https://localhost:8080/"
        },
        "id": "2fsApK_AkiJI",
        "outputId": "f4c47119-baea-4780-dac1-0c4862089565"
      },
      "execution_count": null,
      "outputs": [
        {
          "output_type": "stream",
          "name": "stdout",
          "text": [
            "['Zara', 'Micheal', 'Seamn', 'Lili']\n"
          ]
        }
      ]
    },
    {
      "cell_type": "code",
      "source": [
        "my_list = [\"Micheal\",\"Seamn\",\"Lili\"]\n",
        "my_list.insert(2,\"Cara\")\n",
        "print(my_list)"
      ],
      "metadata": {
        "colab": {
          "base_uri": "https://localhost:8080/"
        },
        "id": "HyYDCvO3lIG-",
        "outputId": "9b8365a4-1d06-491c-ef95-d8a7e23e9868"
      },
      "execution_count": null,
      "outputs": [
        {
          "output_type": "stream",
          "name": "stdout",
          "text": [
            "['Micheal', 'Seamn', 'Cara', 'Lili']\n"
          ]
        }
      ]
    },
    {
      "cell_type": "code",
      "source": [
        "my_list = [\"Micheal\",\"Seamn\",\"Lili\"]\n",
        "my_list.append(\"Lolo\")\n",
        "print(my_list)"
      ],
      "metadata": {
        "colab": {
          "base_uri": "https://localhost:8080/"
        },
        "id": "8H0c5qEQlP7i",
        "outputId": "47410ad1-216c-4112-b3f4-71bd177e4055"
      },
      "execution_count": null,
      "outputs": [
        {
          "output_type": "stream",
          "name": "stdout",
          "text": [
            "['Micheal', 'Seamn', 'Lili', 'Lolo']\n"
          ]
        }
      ]
    },
    {
      "cell_type": "code",
      "source": [
        "my_list1 = [\"Micheal\",\"Seamn\",\"Lili\"]\n",
        "my_list2 = [\"Zara\",\"Coco\",\"John\"]\n",
        "my_list2.extend(my_list1)\n",
        "print(my_list2)"
      ],
      "metadata": {
        "colab": {
          "base_uri": "https://localhost:8080/"
        },
        "id": "c7oU_LgjlurS",
        "outputId": "ea57169c-ab49-4b00-f286-7806410d2496"
      },
      "execution_count": null,
      "outputs": [
        {
          "output_type": "stream",
          "name": "stdout",
          "text": [
            "['Zara', 'Coco', 'John', 'Micheal', 'Seamn', 'Lili']\n"
          ]
        }
      ]
    },
    {
      "cell_type": "code",
      "source": [
        "my_list = [\"Micheal\",\"Sean\",\"Lili\"]\n",
        "my_list.remove(\"Sean\")\n",
        "print(my_list)"
      ],
      "metadata": {
        "id": "hLRLlQkXmL6U"
      },
      "execution_count": null,
      "outputs": []
    },
    {
      "cell_type": "code",
      "source": [
        "my_list1 = [\"Micheal\",\"Seamn\",\"Lili\"]\n",
        "removed_list = my_list1.pop(1)\n",
        "print(my_list1)\n",
        "print(removed_list)"
      ],
      "metadata": {
        "colab": {
          "base_uri": "https://localhost:8080/"
        },
        "id": "S5iE-PggmXKc",
        "outputId": "19ed4edd-7c9b-4217-a707-c037f5cad576"
      },
      "execution_count": null,
      "outputs": [
        {
          "output_type": "stream",
          "name": "stdout",
          "text": [
            "['Micheal', 'Lili']\n",
            "Seamn\n"
          ]
        }
      ]
    },
    {
      "cell_type": "code",
      "source": [
        "my_list = [\"Micheal\",\"Zara\",\"Seamn\",\"Lili\"]\n",
        "my_list.sort()\n",
        "print(my_list)"
      ],
      "metadata": {
        "colab": {
          "base_uri": "https://localhost:8080/"
        },
        "id": "93SkRJv9m4ji",
        "outputId": "5b4062fb-b311-45ae-c2f7-c72bc8f7f15b"
      },
      "execution_count": null,
      "outputs": [
        {
          "output_type": "stream",
          "name": "stdout",
          "text": [
            "['Lili', 'Micheal', 'Seamn', 'Zara']\n"
          ]
        }
      ]
    },
    {
      "cell_type": "code",
      "source": [
        "my_list = [\"Micheal\",\"Zara\",\"Seamn\",\"Lili\"]\n",
        "my_list.sort(reverse = True)\n",
        "print(my_list)"
      ],
      "metadata": {
        "colab": {
          "base_uri": "https://localhost:8080/"
        },
        "id": "OamQ-RV8nIdA",
        "outputId": "5fdf9123-4359-4b8c-f3d4-071f04d4c807"
      },
      "execution_count": null,
      "outputs": [
        {
          "output_type": "stream",
          "name": "stdout",
          "text": [
            "['Zara', 'Seamn', 'Micheal', 'Lili']\n"
          ]
        }
      ]
    },
    {
      "cell_type": "code",
      "source": [
        "my_list1 = [\"Micheal\",\"Seamn\",\"Lili\"]\n",
        "my_list2 = [\"Zara\",\"Coco\",\"John\"]\n",
        "print(my_list2 + my_list1)"
      ],
      "metadata": {
        "colab": {
          "base_uri": "https://localhost:8080/"
        },
        "id": "nU7dzzlancRT",
        "outputId": "89c27f19-788b-42f3-9f5b-1a5ceadd4858"
      },
      "execution_count": null,
      "outputs": [
        {
          "output_type": "stream",
          "name": "stdout",
          "text": [
            "['Zara', 'Coco', 'John', 'Micheal', 'Seamn', 'Lili']\n"
          ]
        }
      ]
    },
    {
      "cell_type": "code",
      "source": [
        "my_list1 = [\"Micheal\",\"Seamn\",\"Lili\"]\n",
        "my_list2 = [\"Zara\",\"Coco\",\"John\"]\n",
        "new_list = my_list2 + my_list1\n",
        "new_list.sort()\n",
        "print(new_list)"
      ],
      "metadata": {
        "colab": {
          "base_uri": "https://localhost:8080/"
        },
        "id": "dHXAwnYfnspK",
        "outputId": "b57d1abc-02c7-4eba-c5fd-2ce49eb29bb8"
      },
      "execution_count": null,
      "outputs": [
        {
          "output_type": "stream",
          "name": "stdout",
          "text": [
            "['Coco', 'John', 'Lili', 'Micheal', 'Seamn', 'Zara']\n"
          ]
        }
      ]
    },
    {
      "cell_type": "code",
      "source": [
        "my_list = [\"Micheal\",\"Zara\",\"Seamn\",\"Lili\"]\n",
        "help(my_list.append)"
      ],
      "metadata": {
        "colab": {
          "base_uri": "https://localhost:8080/"
        },
        "id": "wcaNgmhuoIGD",
        "outputId": "1af3cb75-e812-40b1-f0ec-6b081f2f8f0f"
      },
      "execution_count": null,
      "outputs": [
        {
          "output_type": "stream",
          "name": "stdout",
          "text": [
            "Help on built-in function append:\n",
            "\n",
            "append(object, /) method of builtins.list instance\n",
            "    Append object to the end of the list.\n",
            "\n"
          ]
        }
      ]
    },
    {
      "cell_type": "code",
      "source": [
        "shopping_list = ['mango','apple','banana','kiwi']\n",
        "user_list = input(\"What do you have in your shopping basket: \")\n",
        "if user_list in shopping_list:\n",
        "  print(\"You have this item in your shopping basket \")\n",
        "else:\n",
        "  shopping_list.append(user_list)\n",
        "  print(shopping_list)\n"
      ],
      "metadata": {
        "colab": {
          "base_uri": "https://localhost:8080/"
        },
        "id": "-rBoCEvUovnP",
        "outputId": "a8cd47a1-7a89-41e5-d6a3-27c407a60bfc"
      },
      "execution_count": null,
      "outputs": [
        {
          "output_type": "stream",
          "name": "stdout",
          "text": [
            "What do you have in your shopping basket: bread\n",
            "['mango', 'apple', 'banana', 'kiwi', 'bread']\n"
          ]
        }
      ]
    },
    {
      "cell_type": "code",
      "source": [
        "shopping_list = ['mango','apple','banana','kiwi']\n",
        "for i in shopping_list:\n",
        "  print(i, end= ' ')"
      ],
      "metadata": {
        "colab": {
          "base_uri": "https://localhost:8080/"
        },
        "id": "8DKzpRjPq6Zz",
        "outputId": "779f543b-0df8-4699-e7c8-a6b217d587c4"
      },
      "execution_count": null,
      "outputs": [
        {
          "output_type": "stream",
          "name": "stdout",
          "text": [
            "mango apple banana kiwi "
          ]
        }
      ]
    },
    {
      "cell_type": "code",
      "source": [
        "shopping_list = ['mango','apple','banana','kiwi']\n",
        "for i in range(len(shopping_list)):\n",
        "  print(i,shopping_list[i])"
      ],
      "metadata": {
        "colab": {
          "base_uri": "https://localhost:8080/"
        },
        "id": "y9gv_NrTsL9U",
        "outputId": "f93b0776-b377-4d36-8a4b-7cd95f9f0c5d"
      },
      "execution_count": null,
      "outputs": [
        {
          "output_type": "stream",
          "name": "stdout",
          "text": [
            "0 mango\n",
            "1 apple\n",
            "2 banana\n",
            "3 kiwi\n"
          ]
        }
      ]
    },
    {
      "cell_type": "code",
      "source": [
        "shopping_list = ['mango','apple','banana','kiwi']\n",
        "for i in range(len(shopping_list)):\n",
        "  print(i,shopping_list[i])"
      ],
      "metadata": {
        "colab": {
          "base_uri": "https://localhost:8080/"
        },
        "id": "armxo4Y3rshV",
        "outputId": "d579879e-ac82-4b84-85f9-d4d48937d849"
      },
      "execution_count": null,
      "outputs": [
        {
          "output_type": "stream",
          "name": "stdout",
          "text": [
            "0 mango\n",
            "1 apple\n",
            "2 banana\n",
            "3 kiwi\n"
          ]
        }
      ]
    },
    {
      "cell_type": "code",
      "source": [
        "x = [1,2,3,4,5,6,7] \n",
        "# conventional method\n",
        "# y = 2,4,6,8,10,12,14\n",
        "y = []\n",
        "for i in x :\n",
        "  y.append(i* 2)\n",
        "print(y)\n"
      ],
      "metadata": {
        "colab": {
          "base_uri": "https://localhost:8080/"
        },
        "id": "OqhOg5QMvSB-",
        "outputId": "8e1ec20a-6e31-4b67-9290-0338237e8b96"
      },
      "execution_count": null,
      "outputs": [
        {
          "output_type": "stream",
          "name": "stdout",
          "text": [
            "[2, 4, 6, 8, 10, 12, 14]\n"
          ]
        }
      ]
    },
    {
      "cell_type": "code",
      "source": [
        "x = [1,2,3,4,5,6,7]\n",
        "# comprehension method\n",
        "y = [i * 2 for i in x]\n",
        "print(y)"
      ],
      "metadata": {
        "colab": {
          "base_uri": "https://localhost:8080/"
        },
        "id": "M4q0b2iBwfjz",
        "outputId": "b4e58167-5a61-4421-eb35-6d07c921359b"
      },
      "execution_count": null,
      "outputs": [
        {
          "output_type": "stream",
          "name": "stdout",
          "text": [
            "[2, 4, 6, 8, 10, 12, 14]\n"
          ]
        }
      ]
    },
    {
      "cell_type": "code",
      "source": [
        "my_list =[100,20,2021,50,95, 1099] #conventional method\n",
        "my_new_list = []\n",
        "for i in my_list:\n",
        "  if i < 100:\n",
        "    my_new_list.append(i)\n",
        "print(my_new_list)\n"
      ],
      "metadata": {
        "colab": {
          "base_uri": "https://localhost:8080/"
        },
        "id": "lKZAXICmxDpL",
        "outputId": "babcd8bf-d26f-420b-a7fb-996043e76e8b"
      },
      "execution_count": null,
      "outputs": [
        {
          "output_type": "stream",
          "name": "stdout",
          "text": [
            "[20, 50, 95]\n"
          ]
        }
      ]
    },
    {
      "cell_type": "code",
      "source": [
        "# comprehension method \n",
        "my_list =[100,20,2021,50,95, 1099]\n",
        "new_list = [i for i in my_list if i < 100]\n",
        "print(new_list)\n"
      ],
      "metadata": {
        "colab": {
          "base_uri": "https://localhost:8080/"
        },
        "id": "o7xrqrkgx48N",
        "outputId": "8b69bf1c-cca0-4e27-df10-4a578dfb2087"
      },
      "execution_count": null,
      "outputs": [
        {
          "output_type": "stream",
          "name": "stdout",
          "text": [
            "[20, 50, 95]\n"
          ]
        }
      ]
    },
    {
      "cell_type": "code",
      "source": [
        "my_list = [i for i in range(0,10)]\n",
        "print(my_list)"
      ],
      "metadata": {
        "colab": {
          "base_uri": "https://localhost:8080/"
        },
        "id": "C3gor6nKyapS",
        "outputId": "b4a2f9c0-d38b-4d2e-b62d-a5d681b42773"
      },
      "execution_count": null,
      "outputs": [
        {
          "output_type": "stream",
          "name": "stdout",
          "text": [
            "[0, 1, 2, 3, 4, 5, 6, 7, 8, 9]\n"
          ]
        }
      ]
    },
    {
      "cell_type": "code",
      "source": [
        "my_list = range(0,11)\n",
        "new_list = [i for i in my_list]\n",
        "print(new_list)"
      ],
      "metadata": {
        "colab": {
          "base_uri": "https://localhost:8080/"
        },
        "id": "osjzj2Vfyldz",
        "outputId": "2268dac2-b31e-438b-f1c6-f75b0750e4c4"
      },
      "execution_count": null,
      "outputs": [
        {
          "output_type": "stream",
          "name": "stdout",
          "text": [
            "[0, 1, 2, 3, 4, 5, 6, 7, 8, 9, 10]\n"
          ]
        }
      ]
    },
    {
      "cell_type": "code",
      "source": [
        "my_list = [\"Micheal\",\"Sean\",\"Adam\"]\n",
        "my_list = [i.upper() for i in my_list]\n",
        "print(my_list)"
      ],
      "metadata": {
        "colab": {
          "base_uri": "https://localhost:8080/"
        },
        "id": "dpM3KX0Ny04X",
        "outputId": "51069f60-c419-479f-ccdf-bf6c330a0d73"
      },
      "execution_count": null,
      "outputs": [
        {
          "output_type": "stream",
          "name": "stdout",
          "text": [
            "['MICHEAL', 'SEAN', 'ADAM']\n"
          ]
        }
      ]
    },
    {
      "cell_type": "code",
      "source": [
        "my_string = [letter.upper() for letter in \"python\"]\n",
        "print(my_string)"
      ],
      "metadata": {
        "colab": {
          "base_uri": "https://localhost:8080/"
        },
        "id": "AfmNCWBD0OPD",
        "outputId": "c9b905d1-64c8-4f03-e8b6-2535c7e98138"
      },
      "execution_count": null,
      "outputs": [
        {
          "output_type": "stream",
          "name": "stdout",
          "text": [
            "['P', 'Y', 'T', 'H', 'O', 'N']\n"
          ]
        }
      ]
    },
    {
      "cell_type": "code",
      "source": [
        "word = \"Python\"\n",
        "word_list = list(word)\n",
        "new_word = [letter.upper() for letter in word_list]\n",
        "print(new_word)"
      ],
      "metadata": {
        "colab": {
          "base_uri": "https://localhost:8080/"
        },
        "id": "3y2r7zju0rx6",
        "outputId": "9490d2ac-0c27-44e6-fa15-45a43177263f"
      },
      "execution_count": null,
      "outputs": [
        {
          "output_type": "stream",
          "name": "stdout",
          "text": [
            "['P', 'Y', 'T', 'H', 'O', 'N']\n"
          ]
        }
      ]
    },
    {
      "cell_type": "code",
      "source": [
        "my_list= [1,2,[\"a\",1],3]\n",
        "my_list[2]\n"
      ],
      "metadata": {
        "colab": {
          "base_uri": "https://localhost:8080/"
        },
        "id": "CTgkR9EO17p3",
        "outputId": "ed98ee53-d1ac-4422-fec3-b2ef36260ef4"
      },
      "execution_count": null,
      "outputs": [
        {
          "output_type": "execute_result",
          "data": {
            "text/plain": [
              "['a', 1]"
            ]
          },
          "metadata": {},
          "execution_count": 107
        }
      ]
    },
    {
      "cell_type": "code",
      "source": [
        "my_list[2][0]"
      ],
      "metadata": {
        "colab": {
          "base_uri": "https://localhost:8080/",
          "height": 35
        },
        "id": "1EYQasPe3C1_",
        "outputId": "f98de182-5c16-4447-99d5-51d44d7fc74b"
      },
      "execution_count": null,
      "outputs": [
        {
          "output_type": "execute_result",
          "data": {
            "text/plain": [
              "'a'"
            ],
            "application/vnd.google.colaboratory.intrinsic+json": {
              "type": "string"
            }
          },
          "metadata": {},
          "execution_count": 108
        }
      ]
    },
    {
      "cell_type": "code",
      "source": [
        "my_list[3]"
      ],
      "metadata": {
        "colab": {
          "base_uri": "https://localhost:8080/"
        },
        "id": "BlPX_x8a3GoM",
        "outputId": "f630a65c-1e7a-4c1b-e097-4b0edac99f0a"
      },
      "execution_count": null,
      "outputs": [
        {
          "output_type": "execute_result",
          "data": {
            "text/plain": [
              "3"
            ]
          },
          "metadata": {},
          "execution_count": 109
        }
      ]
    },
    {
      "cell_type": "code",
      "source": [
        "my_list[2][1]"
      ],
      "metadata": {
        "colab": {
          "base_uri": "https://localhost:8080/"
        },
        "id": "OVOetvxF3LUf",
        "outputId": "c00c904f-fd6c-4e98-80c0-f27a8c2d5611"
      },
      "execution_count": null,
      "outputs": [
        {
          "output_type": "execute_result",
          "data": {
            "text/plain": [
              "1"
            ]
          },
          "metadata": {},
          "execution_count": 110
        }
      ]
    },
    {
      "cell_type": "code",
      "source": [
        "matrix = [[0,1,2],[3,4,5],[6,7,8],[9,10,11]]"
      ],
      "metadata": {
        "id": "IhBAJNam3TGt"
      },
      "execution_count": null,
      "outputs": []
    },
    {
      "cell_type": "code",
      "source": [
        "matrix = [[0,1,2],\n",
        "          [3,4,5],\n",
        "          [6,7,8],\n",
        "          [9,10,11]]\n",
        "          "
      ],
      "metadata": {
        "id": "t2aHykeF3ihV"
      },
      "execution_count": null,
      "outputs": []
    },
    {
      "cell_type": "code",
      "source": [
        "\n",
        "matrix = [[0,1,2],[3,4,5],[6,7,8],[9,10,11]]\n",
        "rows = len(matrix)\n",
        "print(rows)\n",
        "cols = len(matrix[0])\n",
        "print(cols)\n",
        "\n",
        "for i in range(0,rows):\n",
        "  print(matrix[i])"
      ],
      "metadata": {
        "colab": {
          "base_uri": "https://localhost:8080/"
        },
        "id": "hU7xn_fr4AZ2",
        "outputId": "af09fa74-d9f3-4ef2-f2c9-5ae9c8375d49"
      },
      "execution_count": null,
      "outputs": [
        {
          "output_type": "stream",
          "name": "stdout",
          "text": [
            "4\n",
            "3\n",
            "[0, 1, 2]\n",
            "[3, 4, 5]\n",
            "[6, 7, 8]\n",
            "[9, 10, 11]\n"
          ]
        }
      ]
    },
    {
      "cell_type": "code",
      "source": [
        "my_dict = {\"employee\":\"Zara\",\"department\":\"operation\",\"salary\":5000}"
      ],
      "metadata": {
        "id": "sHf9xHyN6j5Z"
      },
      "execution_count": null,
      "outputs": []
    },
    {
      "cell_type": "code",
      "source": [
        "my_dict = {\n",
        "    \"employee\":\"Zara\",\n",
        "    \"department\":\"operation\",\n",
        "    \"salary\":5000\n",
        "}\n",
        "print(my_dict)\n",
        "print(my_dict[\"employee\"])"
      ],
      "metadata": {
        "colab": {
          "base_uri": "https://localhost:8080/"
        },
        "id": "48dlkvYJ693o",
        "outputId": "7dd812d0-d68a-4244-a9a0-630915d3cc4b"
      },
      "execution_count": null,
      "outputs": [
        {
          "output_type": "stream",
          "name": "stdout",
          "text": [
            "{'employee': 'Zara', 'department': 'operation', 'salary': 5000}\n",
            "Zara\n"
          ]
        }
      ]
    },
    {
      "cell_type": "code",
      "source": [
        "my_dict = {\n",
        "    \"employee\":\"Zara\",\n",
        "    \"department\":\"operation\",\n",
        "    \"salary\":5000\n",
        "}\n",
        "print(my_dict.values())"
      ],
      "metadata": {
        "colab": {
          "base_uri": "https://localhost:8080/"
        },
        "id": "gdRYBKuw7Tyr",
        "outputId": "9691958d-4fa1-4540-dd5d-3f4f43a9c9d7"
      },
      "execution_count": null,
      "outputs": [
        {
          "output_type": "stream",
          "name": "stdout",
          "text": [
            "dict_values(['Zara', 'operation', 5000])\n"
          ]
        }
      ]
    },
    {
      "cell_type": "code",
      "source": [
        "print(my_dict.keys())"
      ],
      "metadata": {
        "colab": {
          "base_uri": "https://localhost:8080/"
        },
        "id": "qYtVrcx27fuW",
        "outputId": "4bf8a48c-5720-4ddb-9565-7cb6b9549647"
      },
      "execution_count": null,
      "outputs": [
        {
          "output_type": "stream",
          "name": "stdout",
          "text": [
            "dict_keys(['employee', 'department', 'salary'])\n"
          ]
        }
      ]
    },
    {
      "cell_type": "code",
      "source": [
        "my_dict = {\"employee\":\"Zara\",\"department\":\"operation\",\"salary\":5000}\n",
        "print(my_dict.items())"
      ],
      "metadata": {
        "colab": {
          "base_uri": "https://localhost:8080/"
        },
        "id": "FS-JyKqh7nmF",
        "outputId": "92725fb5-d84f-449b-da16-4a5d3d6a8bd5"
      },
      "execution_count": null,
      "outputs": [
        {
          "output_type": "stream",
          "name": "stdout",
          "text": [
            "dict_items([('employee', 'Zara'), ('department', 'operation'), ('salary', 5000)])\n"
          ]
        }
      ]
    },
    {
      "cell_type": "code",
      "source": [
        "my_dict = {\"employee\":\"Zara\",\"department\":\"operation\",\"salary\":5000}\n",
        "my_dict[\"department\"] = \"accounts\"\n",
        "print(my_dict)"
      ],
      "metadata": {
        "colab": {
          "base_uri": "https://localhost:8080/"
        },
        "id": "Y5wdoCp07uK6",
        "outputId": "81398c82-634d-4055-a985-3e29f520f524"
      },
      "execution_count": null,
      "outputs": [
        {
          "output_type": "stream",
          "name": "stdout",
          "text": [
            "{'employee': 'Zara', 'department': 'accounts', 'salary': 5000}\n"
          ]
        }
      ]
    },
    {
      "cell_type": "code",
      "source": [
        "my_dict = {\"employee\":\"Zara\",\"department\":\"operation\",\"salary\":5000}\n",
        "print(len(my_dict))"
      ],
      "metadata": {
        "colab": {
          "base_uri": "https://localhost:8080/"
        },
        "id": "wHlFOLxc8MBw",
        "outputId": "45e8dcb7-d7de-4b0c-a7f6-fe9dcc6acad5"
      },
      "execution_count": null,
      "outputs": [
        {
          "output_type": "stream",
          "name": "stdout",
          "text": [
            "3\n"
          ]
        }
      ]
    },
    {
      "cell_type": "code",
      "source": [
        "my_dict = {\"employee\":\"Zara\",\"department\":\"operation\",\"salary\":5000}\n",
        "type(my_dict)"
      ],
      "metadata": {
        "colab": {
          "base_uri": "https://localhost:8080/"
        },
        "id": "fmpmN2Kw8UIM",
        "outputId": "8661d61e-faf7-4ad7-dcc7-ebf3eb840f1b"
      },
      "execution_count": null,
      "outputs": [
        {
          "output_type": "execute_result",
          "data": {
            "text/plain": [
              "dict"
            ]
          },
          "metadata": {},
          "execution_count": 127
        }
      ]
    },
    {
      "cell_type": "code",
      "source": [
        "my_dict = {\n",
        "    1:{\"employee\":\"Zara\",\"department\":\"operation\",\"salary\":5000},\n",
        "    2:{\"employee\":\"John\",\"department\":\"accounts\",\"salary\":4000}\n",
        "}"
      ],
      "metadata": {
        "id": "ao99cF5U8Z0z"
      },
      "execution_count": null,
      "outputs": []
    },
    {
      "cell_type": "code",
      "source": [
        "my_dict[1]"
      ],
      "metadata": {
        "colab": {
          "base_uri": "https://localhost:8080/"
        },
        "id": "2s41_yR4_jkH",
        "outputId": "33e2b1bb-e02c-44ad-d606-f913b4e05bcd"
      },
      "execution_count": null,
      "outputs": [
        {
          "output_type": "execute_result",
          "data": {
            "text/plain": [
              "{'employee': 'Zara', 'department': 'operation', 'salary': 5000}"
            ]
          },
          "metadata": {},
          "execution_count": 130
        }
      ]
    },
    {
      "cell_type": "code",
      "source": [
        "my_dict[2]"
      ],
      "metadata": {
        "colab": {
          "base_uri": "https://localhost:8080/"
        },
        "id": "imMLa-np_va5",
        "outputId": "70eff5ed-f000-48b6-fd92-c005816909ca"
      },
      "execution_count": null,
      "outputs": [
        {
          "output_type": "execute_result",
          "data": {
            "text/plain": [
              "{'employee': 'John', 'department': 'accounts', 'salary': 4000}"
            ]
          },
          "metadata": {},
          "execution_count": 131
        }
      ]
    },
    {
      "cell_type": "code",
      "source": [
        "my_dict = {\n",
        "    1:{\"employee\":\"Zara\",\"department\":\"operation\",\"salary\":5000},\n",
        "    2:{\"employee\":\"John\",\"department\":\"accounts\",\"salary\":4000}\n",
        "}\n",
        "my_dict[2][\"employee\"]\n"
      ],
      "metadata": {
        "colab": {
          "base_uri": "https://localhost:8080/",
          "height": 35
        },
        "id": "qNndXbm2-pre",
        "outputId": "e9c8310a-673c-4cd5-9fe1-98105140b690"
      },
      "execution_count": null,
      "outputs": [
        {
          "output_type": "execute_result",
          "data": {
            "text/plain": [
              "'John'"
            ],
            "application/vnd.google.colaboratory.intrinsic+json": {
              "type": "string"
            }
          },
          "metadata": {},
          "execution_count": 132
        }
      ]
    },
    {
      "cell_type": "code",
      "source": [
        "my_dict = {\"employee\":\"Zara\",\"department\":\"operation\",\"salary\":5000}\n",
        "if \"employee\" in my_dict:\n",
        "  print(\"Yes key exists\")"
      ],
      "metadata": {
        "colab": {
          "base_uri": "https://localhost:8080/"
        },
        "id": "tVzNON_aAHhJ",
        "outputId": "e65b7fc1-2c7a-4bca-8272-a5c977da7aeb"
      },
      "execution_count": null,
      "outputs": [
        {
          "output_type": "stream",
          "name": "stdout",
          "text": [
            "Yes key exists\n"
          ]
        }
      ]
    },
    {
      "cell_type": "code",
      "source": [
        "for i in my_dict:\n",
        "  print(i)"
      ],
      "metadata": {
        "colab": {
          "base_uri": "https://localhost:8080/"
        },
        "id": "V7F1vtd9Avt1",
        "outputId": "2b5868fb-cf10-451f-ad0e-8a5e28e8b09d"
      },
      "execution_count": null,
      "outputs": [
        {
          "output_type": "stream",
          "name": "stdout",
          "text": [
            "employee\n",
            "department\n",
            "salary\n"
          ]
        }
      ]
    },
    {
      "cell_type": "code",
      "source": [
        "my_dict = {\"employee\":\"Zara\",\"department\":\"operation\",\"salary\":5000}\n",
        "my_dict.update({\"employee\":\"John\"})\n",
        "print(my_dict)"
      ],
      "metadata": {
        "colab": {
          "base_uri": "https://localhost:8080/"
        },
        "id": "cSZmrXBTA8J7",
        "outputId": "b8f32127-29e3-4a7b-899d-8bcae7b8baff"
      },
      "execution_count": null,
      "outputs": [
        {
          "output_type": "stream",
          "name": "stdout",
          "text": [
            "{'employee': 'John', 'department': 'operation', 'salary': 5000}\n"
          ]
        }
      ]
    },
    {
      "cell_type": "code",
      "source": [
        "my_dict = {\"employee\":\"Zara\",\"department\":\"operation\",\"salary\":5000}\n",
        "my_dict.update({\"status\":\"permanent\"})\n",
        "print(my_dict)"
      ],
      "metadata": {
        "colab": {
          "base_uri": "https://localhost:8080/"
        },
        "id": "ZfEfcVJRBSEu",
        "outputId": "844dc0ba-d2d4-4997-847d-7d2d6b4351ee"
      },
      "execution_count": null,
      "outputs": [
        {
          "output_type": "stream",
          "name": "stdout",
          "text": [
            "{'employee': 'Zara', 'department': 'operation', 'salary': 5000, 'status': 'permanent'}\n"
          ]
        }
      ]
    },
    {
      "cell_type": "code",
      "source": [
        "my_dict = {\"employee\":\"Zara\",\"department\":\"operation\",\"salary\":5000}\n",
        "my_dict.pop(\"salary\")\n",
        "print(my_dict)"
      ],
      "metadata": {
        "colab": {
          "base_uri": "https://localhost:8080/"
        },
        "id": "79xIU41JBaa8",
        "outputId": "c77e47a6-c2fd-4b32-8f35-52cae1f0ddb1"
      },
      "execution_count": null,
      "outputs": [
        {
          "output_type": "stream",
          "name": "stdout",
          "text": [
            "{'employee': 'Zara', 'department': 'operation'}\n"
          ]
        }
      ]
    },
    {
      "cell_type": "code",
      "source": [
        "my_dict = {\"employee\":\"Zara\",\"department\":\"operation\",\"salary\":5000}\n",
        "del my_dict[\"salary\"]\n",
        "print(my_dict)"
      ],
      "metadata": {
        "colab": {
          "base_uri": "https://localhost:8080/"
        },
        "id": "rdq-Q6AnB6dV",
        "outputId": "e3ba1f13-e66a-49e2-e714-2a5fd255931c"
      },
      "execution_count": null,
      "outputs": [
        {
          "output_type": "stream",
          "name": "stdout",
          "text": [
            "{'employee': 'Zara', 'department': 'operation'}\n"
          ]
        }
      ]
    },
    {
      "cell_type": "code",
      "source": [
        "my_dict = {\"employee\":\"Zara\",\"department\":\"operation\",\"salary\":5000}\n",
        "del my_dict\n",
        "print(my_dict)"
      ],
      "metadata": {
        "colab": {
          "base_uri": "https://localhost:8080/",
          "height": 204
        },
        "id": "6DrtRFhaCR8X",
        "outputId": "4c72aeff-ce58-4562-8d43-cf91d500088d"
      },
      "execution_count": null,
      "outputs": [
        {
          "output_type": "error",
          "ename": "NameError",
          "evalue": "ignored",
          "traceback": [
            "\u001b[0;31m---------------------------------------------------------------------------\u001b[0m",
            "\u001b[0;31mNameError\u001b[0m                                 Traceback (most recent call last)",
            "\u001b[0;32m<ipython-input-140-6a38766682c3>\u001b[0m in \u001b[0;36m<module>\u001b[0;34m\u001b[0m\n\u001b[1;32m      1\u001b[0m \u001b[0mmy_dict\u001b[0m \u001b[0;34m=\u001b[0m \u001b[0;34m{\u001b[0m\u001b[0;34m\"employee\"\u001b[0m\u001b[0;34m:\u001b[0m\u001b[0;34m\"Zara\"\u001b[0m\u001b[0;34m,\u001b[0m\u001b[0;34m\"department\"\u001b[0m\u001b[0;34m:\u001b[0m\u001b[0;34m\"operation\"\u001b[0m\u001b[0;34m,\u001b[0m\u001b[0;34m\"salary\"\u001b[0m\u001b[0;34m:\u001b[0m\u001b[0;36m5000\u001b[0m\u001b[0;34m}\u001b[0m\u001b[0;34m\u001b[0m\u001b[0;34m\u001b[0m\u001b[0m\n\u001b[1;32m      2\u001b[0m \u001b[0;32mdel\u001b[0m \u001b[0mmy_dict\u001b[0m\u001b[0;34m\u001b[0m\u001b[0;34m\u001b[0m\u001b[0m\n\u001b[0;32m----> 3\u001b[0;31m \u001b[0mprint\u001b[0m\u001b[0;34m(\u001b[0m\u001b[0mmy_dict\u001b[0m\u001b[0;34m)\u001b[0m\u001b[0;34m\u001b[0m\u001b[0;34m\u001b[0m\u001b[0m\n\u001b[0m",
            "\u001b[0;31mNameError\u001b[0m: name 'my_dict' is not defined"
          ]
        }
      ]
    },
    {
      "cell_type": "code",
      "source": [
        "my_dict = {\"employee\":\"Zara\",\"department\":\"operation\",\"salary\":5000}\n",
        "my_dict.clear()\n",
        "print(my_dict)"
      ],
      "metadata": {
        "colab": {
          "base_uri": "https://localhost:8080/"
        },
        "id": "kUFfsuwECaNU",
        "outputId": "9b6186d9-e614-4e0a-fec1-ec3956496801"
      },
      "execution_count": null,
      "outputs": [
        {
          "output_type": "stream",
          "name": "stdout",
          "text": [
            "{}\n"
          ]
        }
      ]
    },
    {
      "cell_type": "code",
      "source": [
        "my_dict = {\"employee\":\"Zara\",\"department\":\"operation\",\"salary\":5000}\n",
        "for i in my_dict.values():\n",
        "  print(i)\n"
      ],
      "metadata": {
        "colab": {
          "base_uri": "https://localhost:8080/"
        },
        "id": "2UFwJnbdCi_O",
        "outputId": "8d15747a-c24f-4925-b12a-143511490d31"
      },
      "execution_count": null,
      "outputs": [
        {
          "output_type": "stream",
          "name": "stdout",
          "text": [
            "Zara\n",
            "operation\n",
            "5000\n"
          ]
        }
      ]
    },
    {
      "cell_type": "code",
      "source": [
        "my_dict = {\"employee\":\"Zara\",\"department\":\"operation\",\"salary\":5000}\n",
        "for i in my_dict.keys():\n",
        "  print(i)"
      ],
      "metadata": {
        "colab": {
          "base_uri": "https://localhost:8080/"
        },
        "id": "g45_jWqeCmea",
        "outputId": "29a9f1f0-0c1c-4649-8afa-f4047ef0fdc9"
      },
      "execution_count": null,
      "outputs": [
        {
          "output_type": "stream",
          "name": "stdout",
          "text": [
            "employee\n",
            "department\n",
            "salary\n"
          ]
        }
      ]
    },
    {
      "cell_type": "code",
      "source": [
        "my_dict = {\"employee\":\"Zara\",\"department\":\"operation\",\"salary\":5000}\n",
        "for keys ,values in my_dict.items():\n",
        "  print(keys,values)"
      ],
      "metadata": {
        "colab": {
          "base_uri": "https://localhost:8080/"
        },
        "id": "m6wJGjULC9EX",
        "outputId": "ae309a19-6ead-457f-c558-c8173c5baffa"
      },
      "execution_count": null,
      "outputs": [
        {
          "output_type": "stream",
          "name": "stdout",
          "text": [
            "employee Zara\n",
            "department operation\n",
            "salary 5000\n"
          ]
        }
      ]
    },
    {
      "cell_type": "code",
      "source": [],
      "metadata": {
        "id": "B3Qg4PN4DRxn"
      },
      "execution_count": null,
      "outputs": []
    },
    {
      "cell_type": "markdown",
      "source": [
        "Tuple\n"
      ],
      "metadata": {
        "id": "B9agabOWGWmx"
      }
    },
    {
      "cell_type": "code",
      "source": [
        "mytuples = ('Audi',\"Ford\",\"Tesla\",500,True)\n",
        "mytuples[0:3]"
      ],
      "metadata": {
        "colab": {
          "base_uri": "https://localhost:8080/"
        },
        "id": "lU2kWyryGYuf",
        "outputId": "2520727d-7406-4ffc-d174-a7a08c4fd171"
      },
      "execution_count": null,
      "outputs": [
        {
          "output_type": "execute_result",
          "data": {
            "text/plain": [
              "('Audi', 'Ford', 'Tesla')"
            ]
          },
          "metadata": {},
          "execution_count": 145
        }
      ]
    },
    {
      "cell_type": "code",
      "source": [
        "mytuples = ('Audi',\"Ford\",\"Tesla\")\n",
        "my_list = list(mytuples)\n",
        "my_list[0]= \"Toyota\"\n",
        "mytuples = tuple(my_list)\n",
        "print(mytuples)\n"
      ],
      "metadata": {
        "colab": {
          "base_uri": "https://localhost:8080/"
        },
        "id": "_1iW0ZINGsuX",
        "outputId": "607bd341-f74b-4637-9f2f-b0790cd3a0e0"
      },
      "execution_count": null,
      "outputs": [
        {
          "output_type": "stream",
          "name": "stdout",
          "text": [
            "('Toyota', 'Ford', 'Tesla')\n"
          ]
        }
      ]
    },
    {
      "cell_type": "code",
      "source": [
        "mytuples = ('Audi',\"Ford\",\"Tesla\")\n",
        "print(mytuples.index(\"Tesla\"))"
      ],
      "metadata": {
        "colab": {
          "base_uri": "https://localhost:8080/"
        },
        "id": "yxDpeNr6HQfH",
        "outputId": "16ed175c-0f7f-4b65-f1e7-a1dfea186b35"
      },
      "execution_count": null,
      "outputs": [
        {
          "output_type": "stream",
          "name": "stdout",
          "text": [
            "2\n"
          ]
        }
      ]
    },
    {
      "cell_type": "code",
      "source": [
        "mytuples = ('Audi',\"Ford\",\"Audi\",\"Audi\",\"Tesla\")\n",
        "print(mytuples.count(\"Audi\"))"
      ],
      "metadata": {
        "colab": {
          "base_uri": "https://localhost:8080/"
        },
        "id": "gLJyOV_OHZrQ",
        "outputId": "c0553163-b431-4539-b0b5-c0cbe85a9cfc"
      },
      "execution_count": null,
      "outputs": [
        {
          "output_type": "stream",
          "name": "stdout",
          "text": [
            "3\n"
          ]
        }
      ]
    },
    {
      "cell_type": "code",
      "source": [
        " mytuples = ('Audi',\"Ford\",\"Tesla\")\n",
        " for i in mytuples:\n",
        "   print(i)"
      ],
      "metadata": {
        "colab": {
          "base_uri": "https://localhost:8080/"
        },
        "id": "sbaDsa-5H5w2",
        "outputId": "6bf91f09-ea91-44e6-a5a4-11bf84a69541"
      },
      "execution_count": null,
      "outputs": [
        {
          "output_type": "stream",
          "name": "stdout",
          "text": [
            "Audi\n",
            "Ford\n",
            "Tesla\n"
          ]
        }
      ]
    },
    {
      "cell_type": "code",
      "source": [
        "mytuples = ('Audi',\"Ford\",\"Tesla\") # packing\n",
        "car1,car2,car3 = mytuples # unpacking\n",
        "print(car1)\n",
        "print(car2)\n",
        "print(car3)"
      ],
      "metadata": {
        "colab": {
          "base_uri": "https://localhost:8080/"
        },
        "id": "4MGf78R5IFjH",
        "outputId": "487d8d71-908f-4b9d-f457-5c17e2cf51ce"
      },
      "execution_count": null,
      "outputs": [
        {
          "output_type": "stream",
          "name": "stdout",
          "text": [
            "Audi\n",
            "Ford\n",
            "Tesla\n"
          ]
        }
      ]
    },
    {
      "cell_type": "markdown",
      "source": [
        "SETS"
      ],
      "metadata": {
        "id": "3Gd5bzAxIZFD"
      }
    },
    {
      "cell_type": "code",
      "source": [
        "mysets = {'Audi',\"Ford\",\"Tesla\",500,True}\n",
        "type(mysets)"
      ],
      "metadata": {
        "colab": {
          "base_uri": "https://localhost:8080/"
        },
        "id": "sSLJONTWIabB",
        "outputId": "7db4ea26-ecc3-42d9-acab-7bd510bcde71"
      },
      "execution_count": null,
      "outputs": [
        {
          "output_type": "execute_result",
          "data": {
            "text/plain": [
              "set"
            ]
          },
          "metadata": {},
          "execution_count": 152
        }
      ]
    },
    {
      "cell_type": "code",
      "source": [
        "mysets = {'Audi',\"Ford\",\"Tesla\",500,True}\n",
        "len(mysets)"
      ],
      "metadata": {
        "colab": {
          "base_uri": "https://localhost:8080/"
        },
        "id": "yYSOJHX5I5fn",
        "outputId": "278cb9f7-b823-42dd-8059-7c35b463d435"
      },
      "execution_count": null,
      "outputs": [
        {
          "output_type": "execute_result",
          "data": {
            "text/plain": [
              "5"
            ]
          },
          "metadata": {},
          "execution_count": 153
        }
      ]
    },
    {
      "cell_type": "code",
      "source": [
        "mysets = {'Audi',\"Ford\",\"Tesla\",500,True}\n",
        "for i in mysets:\n",
        "  print(i)"
      ],
      "metadata": {
        "colab": {
          "base_uri": "https://localhost:8080/"
        },
        "id": "UJhtudgLI-Ez",
        "outputId": "079f2b8e-c115-430a-cda4-41ffc8298742"
      },
      "execution_count": null,
      "outputs": [
        {
          "output_type": "stream",
          "name": "stdout",
          "text": [
            "True\n",
            "Tesla\n",
            "Audi\n",
            "Ford\n",
            "500\n"
          ]
        }
      ]
    },
    {
      "cell_type": "code",
      "source": [
        "mysets = {'Audi',\"Ford\",\"Tesla\",500,True}\n",
        "mysets.add(\"BMW\")\n",
        "print(mysets)"
      ],
      "metadata": {
        "colab": {
          "base_uri": "https://localhost:8080/"
        },
        "id": "xtd7S1S9JTSq",
        "outputId": "45480b9b-8075-49fc-ecd1-ee11a418f038"
      },
      "execution_count": null,
      "outputs": [
        {
          "output_type": "stream",
          "name": "stdout",
          "text": [
            "{True, 'Tesla', 'Audi', 'Ford', 'BMW', 500}\n"
          ]
        }
      ]
    },
    {
      "cell_type": "code",
      "source": [
        "mysets = {'Audi',\"Ford\",\"Tesla\",500,True}\n",
        "mysets.pop()\n",
        "print(mysets)"
      ],
      "metadata": {
        "colab": {
          "base_uri": "https://localhost:8080/"
        },
        "id": "jwRZDGt1KB1K",
        "outputId": "e44f8170-9d0a-4c45-ef53-fac5ba5d45df"
      },
      "execution_count": null,
      "outputs": [
        {
          "output_type": "stream",
          "name": "stdout",
          "text": [
            "{'Tesla', 'Audi', 'Ford', 500}\n"
          ]
        }
      ]
    },
    {
      "cell_type": "code",
      "source": [
        "myset1 ={3,4}\n",
        "myset2 = {1,2,3,4,5,6}\n",
        "myset3 = myset1.intersection(myset2)\n",
        "print(myset3)"
      ],
      "metadata": {
        "colab": {
          "base_uri": "https://localhost:8080/"
        },
        "id": "owK8jif8KN4e",
        "outputId": "e27c127b-b598-4fd5-bdfc-e22af72caa9f"
      },
      "execution_count": null,
      "outputs": [
        {
          "output_type": "stream",
          "name": "stdout",
          "text": [
            "{3, 4}\n"
          ]
        }
      ]
    },
    {
      "cell_type": "code",
      "source": [
        "myset1 ={3,4}\n",
        "myset2 = {1,2,3,4,5,6}\n",
        "myset3 = myset1.union(myset2)\n",
        "print(myset3)"
      ],
      "metadata": {
        "colab": {
          "base_uri": "https://localhost:8080/"
        },
        "id": "GXDPGsU1KjUs",
        "outputId": "cc15eb2e-c722-4a2c-caff-3d1bfb9b9806"
      },
      "execution_count": null,
      "outputs": [
        {
          "output_type": "stream",
          "name": "stdout",
          "text": [
            "{1, 2, 3, 4, 5, 6}\n"
          ]
        }
      ]
    },
    {
      "cell_type": "code",
      "source": [
        "myset1 ={3,4}\n",
        "myset2 = {1,2,3,4,5,6}\n",
        "myset1.issubset(myset2)"
      ],
      "metadata": {
        "colab": {
          "base_uri": "https://localhost:8080/"
        },
        "id": "x7wCvBQSKtJ3",
        "outputId": "72e84bb4-9057-4dab-9d47-196686a6806d"
      },
      "execution_count": null,
      "outputs": [
        {
          "output_type": "execute_result",
          "data": {
            "text/plain": [
              "True"
            ]
          },
          "metadata": {},
          "execution_count": 160
        }
      ]
    },
    {
      "cell_type": "code",
      "source": [
        "myset1 ={3,4}\n",
        "myset2 = {1,2,3,4,5,6}\n",
        "myset1.issuperset(myset2)"
      ],
      "metadata": {
        "colab": {
          "base_uri": "https://localhost:8080/"
        },
        "id": "IegAvIk_K-OP",
        "outputId": "546266ec-4ae9-41e4-dc8c-888799469ede"
      },
      "execution_count": null,
      "outputs": [
        {
          "output_type": "execute_result",
          "data": {
            "text/plain": [
              "False"
            ]
          },
          "metadata": {},
          "execution_count": 161
        }
      ]
    },
    {
      "cell_type": "code",
      "source": [
        "myset1 ={3,4}\n",
        "myset2 = {1,2,3,4,5,6}\n",
        "myset2.issuperset(myset1)"
      ],
      "metadata": {
        "colab": {
          "base_uri": "https://localhost:8080/"
        },
        "id": "qURbWGWOLCYt",
        "outputId": "07457ca7-ae3e-4567-f97a-41e0d86444eb"
      },
      "execution_count": null,
      "outputs": [
        {
          "output_type": "execute_result",
          "data": {
            "text/plain": [
              "True"
            ]
          },
          "metadata": {},
          "execution_count": 162
        }
      ]
    },
    {
      "cell_type": "code",
      "source": [
        "import numpy as np"
      ],
      "metadata": {
        "id": "pSB6EcGJNA0w"
      },
      "execution_count": null,
      "outputs": []
    },
    {
      "cell_type": "code",
      "source": [
        "import pandas as pd"
      ],
      "metadata": {
        "id": "xJUwavsyNNbz"
      },
      "execution_count": null,
      "outputs": []
    },
    {
      "cell_type": "code",
      "source": [
        "import seaborn as sns"
      ],
      "metadata": {
        "id": "AkulJKQcNTAN"
      },
      "execution_count": null,
      "outputs": []
    },
    {
      "cell_type": "code",
      "source": [
        "import matplotlib.pyplot as plt\n"
      ],
      "metadata": {
        "id": "wULfcR3bNY0Q"
      },
      "execution_count": null,
      "outputs": []
    },
    {
      "cell_type": "code",
      "source": [
        "import math "
      ],
      "metadata": {
        "id": "NjXrac_SNf0N"
      },
      "execution_count": null,
      "outputs": []
    },
    {
      "cell_type": "code",
      "source": [
        "import scipy"
      ],
      "metadata": {
        "id": "Skq1Jf_pNiZr"
      },
      "execution_count": null,
      "outputs": []
    },
    {
      "cell_type": "code",
      "source": [
        "# pyodbc"
      ],
      "metadata": {
        "id": "myttQY43Nm7h"
      },
      "execution_count": null,
      "outputs": []
    },
    {
      "cell_type": "code",
      "source": [
        "import pyodbc"
      ],
      "metadata": {
        "colab": {
          "base_uri": "https://localhost:8080/",
          "height": 312
        },
        "id": "Uto_wzkHOA4x",
        "outputId": "abc4a31f-b6cf-4a06-ca53-12aa58214fbf"
      },
      "execution_count": null,
      "outputs": [
        {
          "output_type": "error",
          "ename": "ModuleNotFoundError",
          "evalue": "ignored",
          "traceback": [
            "\u001b[0;31m---------------------------------------------------------------------------\u001b[0m",
            "\u001b[0;31mModuleNotFoundError\u001b[0m                       Traceback (most recent call last)",
            "\u001b[0;32m<ipython-input-18-0a9cb9987950>\u001b[0m in \u001b[0;36m<module>\u001b[0;34m\u001b[0m\n\u001b[0;32m----> 1\u001b[0;31m \u001b[0;32mimport\u001b[0m \u001b[0mpyodbc\u001b[0m\u001b[0;34m\u001b[0m\u001b[0;34m\u001b[0m\u001b[0m\n\u001b[0m",
            "\u001b[0;31mModuleNotFoundError\u001b[0m: No module named 'pyodbc'",
            "",
            "\u001b[0;31m---------------------------------------------------------------------------\u001b[0;32m\nNOTE: If your import is failing due to a missing package, you can\nmanually install dependencies using either !pip or !apt.\n\nTo view examples of installing some common dependencies, click the\n\"Open Examples\" button below.\n\u001b[0;31m---------------------------------------------------------------------------\u001b[0m\n"
          ],
          "errorDetails": {
            "actions": [
              {
                "action": "open_url",
                "actionText": "Open Examples",
                "url": "/notebooks/snippets/importing_libraries.ipynb"
              }
            ]
          }
        }
      ]
    },
    {
      "cell_type": "code",
      "source": [
        "!pip install pyodbc\n",
        "import pyodbc"
      ],
      "metadata": {
        "colab": {
          "base_uri": "https://localhost:8080/"
        },
        "id": "B9Ilcw23OGMy",
        "outputId": "b7d57bd0-bedf-446c-d787-be5452b3a3d5"
      },
      "execution_count": null,
      "outputs": [
        {
          "output_type": "stream",
          "name": "stdout",
          "text": [
            "Looking in indexes: https://pypi.org/simple, https://us-python.pkg.dev/colab-wheels/public/simple/\n",
            "Collecting pyodbc\n",
            "  Downloading pyodbc-4.0.35-cp37-cp37m-manylinux_2_17_x86_64.manylinux2014_x86_64.whl (324 kB)\n",
            "\u001b[K     |████████████████████████████████| 324 kB 38.0 MB/s \n",
            "\u001b[?25hInstalling collected packages: pyodbc\n",
            "Successfully installed pyodbc-4.0.35\n"
          ]
        }
      ]
    },
    {
      "cell_type": "code",
      "source": [],
      "metadata": {
        "id": "D0iJ9wzFOTqk"
      },
      "execution_count": null,
      "outputs": []
    },
    {
      "cell_type": "code",
      "source": [],
      "metadata": {
        "id": "kV-AkOA80EwU"
      },
      "execution_count": null,
      "outputs": []
    },
    {
      "cell_type": "code",
      "source": [
        "from google.colab import drive\n",
        "drive.mount('/content/drive')"
      ],
      "metadata": {
        "colab": {
          "base_uri": "https://localhost:8080/"
        },
        "id": "DC-yG_-_0G2K",
        "outputId": "7070fc67-57c9-4877-da10-d4d59ffaecf8"
      },
      "execution_count": null,
      "outputs": [
        {
          "output_type": "stream",
          "name": "stdout",
          "text": [
            "Drive already mounted at /content/drive; to attempt to forcibly remount, call drive.mount(\"/content/drive\", force_remount=True).\n"
          ]
        }
      ]
    },
    {
      "cell_type": "markdown",
      "source": [
        "# New section"
      ],
      "metadata": {
        "id": "ORdeEDYx0OzL"
      }
    },
    {
      "cell_type": "code",
      "source": [
        "from google.colab import drive\n",
        "drive.mount('drive')"
      ],
      "metadata": {
        "colab": {
          "base_uri": "https://localhost:8080/"
        },
        "id": "cMlqZ7200kyw",
        "outputId": "5b7dd1e7-b7ae-4731-f4e7-6d792e5cca77"
      },
      "execution_count": null,
      "outputs": [
        {
          "output_type": "stream",
          "name": "stdout",
          "text": [
            "Drive already mounted at drive; to attempt to forcibly remount, call drive.mount(\"drive\", force_remount=True).\n"
          ]
        }
      ]
    },
    {
      "cell_type": "code",
      "source": [],
      "metadata": {
        "id": "X_IJdrz01EUi"
      },
      "execution_count": null,
      "outputs": []
    },
    {
      "cell_type": "code",
      "source": [
        "df = pd.read_csv(\"/content/drive/MyDrive/Food_Sale_Full_Data(1).csv\")\n",
        "df"
      ],
      "metadata": {
        "colab": {
          "base_uri": "https://localhost:8080/",
          "height": 424
        },
        "id": "MThfimqz2A8U",
        "outputId": "b1847865-6256-4ea8-d247-32853f4e1a20"
      },
      "execution_count": null,
      "outputs": [
        {
          "output_type": "execute_result",
          "data": {
            "text/plain": [
              "      OrderDate Region         City  Category         Product  Quantity  \\\n",
              "0      1/1/2020   East       Boston      Bars          Carrot        33   \n",
              "1      1/4/2020   East       Boston  Crackers     Whole Wheat        87   \n",
              "2      1/7/2020   West  Los Angeles   Cookies  Chocolate Chip        58   \n",
              "3     1/10/2020   East     New York   Cookies  Chocolate Chip        82   \n",
              "4     1/13/2020   East       Boston   Cookies       Arrowroot        38   \n",
              "..          ...    ...          ...       ...             ...       ...   \n",
              "239  12/18/2021   East       Boston   Cookies       Arrowroot        34   \n",
              "240  12/21/2021   East       Boston   Cookies  Chocolate Chip       245   \n",
              "241  12/24/2021   East       Boston  Crackers     Whole Wheat        30   \n",
              "242  12/27/2021   West  Los Angeles      Bars            Bran        30   \n",
              "243  12/30/2021   West  Los Angeles   Cookies  Oatmeal Raisin        44   \n",
              "\n",
              "     UnitPrice  TotalPrice  \n",
              "0         1.77       58.41  \n",
              "1         3.49      303.63  \n",
              "2         1.87      108.46  \n",
              "3         1.87      153.34  \n",
              "4         2.18       82.84  \n",
              "..         ...         ...  \n",
              "239       2.18       74.12  \n",
              "240       1.87      458.15  \n",
              "241       3.49      104.70  \n",
              "242       1.87       56.10  \n",
              "243       2.84      124.96  \n",
              "\n",
              "[244 rows x 8 columns]"
            ],
            "text/html": [
              "\n",
              "  <div id=\"df-cf15dccd-4fdd-4212-984b-c5cc50d13edd\">\n",
              "    <div class=\"colab-df-container\">\n",
              "      <div>\n",
              "<style scoped>\n",
              "    .dataframe tbody tr th:only-of-type {\n",
              "        vertical-align: middle;\n",
              "    }\n",
              "\n",
              "    .dataframe tbody tr th {\n",
              "        vertical-align: top;\n",
              "    }\n",
              "\n",
              "    .dataframe thead th {\n",
              "        text-align: right;\n",
              "    }\n",
              "</style>\n",
              "<table border=\"1\" class=\"dataframe\">\n",
              "  <thead>\n",
              "    <tr style=\"text-align: right;\">\n",
              "      <th></th>\n",
              "      <th>OrderDate</th>\n",
              "      <th>Region</th>\n",
              "      <th>City</th>\n",
              "      <th>Category</th>\n",
              "      <th>Product</th>\n",
              "      <th>Quantity</th>\n",
              "      <th>UnitPrice</th>\n",
              "      <th>TotalPrice</th>\n",
              "    </tr>\n",
              "  </thead>\n",
              "  <tbody>\n",
              "    <tr>\n",
              "      <th>0</th>\n",
              "      <td>1/1/2020</td>\n",
              "      <td>East</td>\n",
              "      <td>Boston</td>\n",
              "      <td>Bars</td>\n",
              "      <td>Carrot</td>\n",
              "      <td>33</td>\n",
              "      <td>1.77</td>\n",
              "      <td>58.41</td>\n",
              "    </tr>\n",
              "    <tr>\n",
              "      <th>1</th>\n",
              "      <td>1/4/2020</td>\n",
              "      <td>East</td>\n",
              "      <td>Boston</td>\n",
              "      <td>Crackers</td>\n",
              "      <td>Whole Wheat</td>\n",
              "      <td>87</td>\n",
              "      <td>3.49</td>\n",
              "      <td>303.63</td>\n",
              "    </tr>\n",
              "    <tr>\n",
              "      <th>2</th>\n",
              "      <td>1/7/2020</td>\n",
              "      <td>West</td>\n",
              "      <td>Los Angeles</td>\n",
              "      <td>Cookies</td>\n",
              "      <td>Chocolate Chip</td>\n",
              "      <td>58</td>\n",
              "      <td>1.87</td>\n",
              "      <td>108.46</td>\n",
              "    </tr>\n",
              "    <tr>\n",
              "      <th>3</th>\n",
              "      <td>1/10/2020</td>\n",
              "      <td>East</td>\n",
              "      <td>New York</td>\n",
              "      <td>Cookies</td>\n",
              "      <td>Chocolate Chip</td>\n",
              "      <td>82</td>\n",
              "      <td>1.87</td>\n",
              "      <td>153.34</td>\n",
              "    </tr>\n",
              "    <tr>\n",
              "      <th>4</th>\n",
              "      <td>1/13/2020</td>\n",
              "      <td>East</td>\n",
              "      <td>Boston</td>\n",
              "      <td>Cookies</td>\n",
              "      <td>Arrowroot</td>\n",
              "      <td>38</td>\n",
              "      <td>2.18</td>\n",
              "      <td>82.84</td>\n",
              "    </tr>\n",
              "    <tr>\n",
              "      <th>...</th>\n",
              "      <td>...</td>\n",
              "      <td>...</td>\n",
              "      <td>...</td>\n",
              "      <td>...</td>\n",
              "      <td>...</td>\n",
              "      <td>...</td>\n",
              "      <td>...</td>\n",
              "      <td>...</td>\n",
              "    </tr>\n",
              "    <tr>\n",
              "      <th>239</th>\n",
              "      <td>12/18/2021</td>\n",
              "      <td>East</td>\n",
              "      <td>Boston</td>\n",
              "      <td>Cookies</td>\n",
              "      <td>Arrowroot</td>\n",
              "      <td>34</td>\n",
              "      <td>2.18</td>\n",
              "      <td>74.12</td>\n",
              "    </tr>\n",
              "    <tr>\n",
              "      <th>240</th>\n",
              "      <td>12/21/2021</td>\n",
              "      <td>East</td>\n",
              "      <td>Boston</td>\n",
              "      <td>Cookies</td>\n",
              "      <td>Chocolate Chip</td>\n",
              "      <td>245</td>\n",
              "      <td>1.87</td>\n",
              "      <td>458.15</td>\n",
              "    </tr>\n",
              "    <tr>\n",
              "      <th>241</th>\n",
              "      <td>12/24/2021</td>\n",
              "      <td>East</td>\n",
              "      <td>Boston</td>\n",
              "      <td>Crackers</td>\n",
              "      <td>Whole Wheat</td>\n",
              "      <td>30</td>\n",
              "      <td>3.49</td>\n",
              "      <td>104.70</td>\n",
              "    </tr>\n",
              "    <tr>\n",
              "      <th>242</th>\n",
              "      <td>12/27/2021</td>\n",
              "      <td>West</td>\n",
              "      <td>Los Angeles</td>\n",
              "      <td>Bars</td>\n",
              "      <td>Bran</td>\n",
              "      <td>30</td>\n",
              "      <td>1.87</td>\n",
              "      <td>56.10</td>\n",
              "    </tr>\n",
              "    <tr>\n",
              "      <th>243</th>\n",
              "      <td>12/30/2021</td>\n",
              "      <td>West</td>\n",
              "      <td>Los Angeles</td>\n",
              "      <td>Cookies</td>\n",
              "      <td>Oatmeal Raisin</td>\n",
              "      <td>44</td>\n",
              "      <td>2.84</td>\n",
              "      <td>124.96</td>\n",
              "    </tr>\n",
              "  </tbody>\n",
              "</table>\n",
              "<p>244 rows × 8 columns</p>\n",
              "</div>\n",
              "      <button class=\"colab-df-convert\" onclick=\"convertToInteractive('df-cf15dccd-4fdd-4212-984b-c5cc50d13edd')\"\n",
              "              title=\"Convert this dataframe to an interactive table.\"\n",
              "              style=\"display:none;\">\n",
              "        \n",
              "  <svg xmlns=\"http://www.w3.org/2000/svg\" height=\"24px\"viewBox=\"0 0 24 24\"\n",
              "       width=\"24px\">\n",
              "    <path d=\"M0 0h24v24H0V0z\" fill=\"none\"/>\n",
              "    <path d=\"M18.56 5.44l.94 2.06.94-2.06 2.06-.94-2.06-.94-.94-2.06-.94 2.06-2.06.94zm-11 1L8.5 8.5l.94-2.06 2.06-.94-2.06-.94L8.5 2.5l-.94 2.06-2.06.94zm10 10l.94 2.06.94-2.06 2.06-.94-2.06-.94-.94-2.06-.94 2.06-2.06.94z\"/><path d=\"M17.41 7.96l-1.37-1.37c-.4-.4-.92-.59-1.43-.59-.52 0-1.04.2-1.43.59L10.3 9.45l-7.72 7.72c-.78.78-.78 2.05 0 2.83L4 21.41c.39.39.9.59 1.41.59.51 0 1.02-.2 1.41-.59l7.78-7.78 2.81-2.81c.8-.78.8-2.07 0-2.86zM5.41 20L4 18.59l7.72-7.72 1.47 1.35L5.41 20z\"/>\n",
              "  </svg>\n",
              "      </button>\n",
              "      \n",
              "  <style>\n",
              "    .colab-df-container {\n",
              "      display:flex;\n",
              "      flex-wrap:wrap;\n",
              "      gap: 12px;\n",
              "    }\n",
              "\n",
              "    .colab-df-convert {\n",
              "      background-color: #E8F0FE;\n",
              "      border: none;\n",
              "      border-radius: 50%;\n",
              "      cursor: pointer;\n",
              "      display: none;\n",
              "      fill: #1967D2;\n",
              "      height: 32px;\n",
              "      padding: 0 0 0 0;\n",
              "      width: 32px;\n",
              "    }\n",
              "\n",
              "    .colab-df-convert:hover {\n",
              "      background-color: #E2EBFA;\n",
              "      box-shadow: 0px 1px 2px rgba(60, 64, 67, 0.3), 0px 1px 3px 1px rgba(60, 64, 67, 0.15);\n",
              "      fill: #174EA6;\n",
              "    }\n",
              "\n",
              "    [theme=dark] .colab-df-convert {\n",
              "      background-color: #3B4455;\n",
              "      fill: #D2E3FC;\n",
              "    }\n",
              "\n",
              "    [theme=dark] .colab-df-convert:hover {\n",
              "      background-color: #434B5C;\n",
              "      box-shadow: 0px 1px 3px 1px rgba(0, 0, 0, 0.15);\n",
              "      filter: drop-shadow(0px 1px 2px rgba(0, 0, 0, 0.3));\n",
              "      fill: #FFFFFF;\n",
              "    }\n",
              "  </style>\n",
              "\n",
              "      <script>\n",
              "        const buttonEl =\n",
              "          document.querySelector('#df-cf15dccd-4fdd-4212-984b-c5cc50d13edd button.colab-df-convert');\n",
              "        buttonEl.style.display =\n",
              "          google.colab.kernel.accessAllowed ? 'block' : 'none';\n",
              "\n",
              "        async function convertToInteractive(key) {\n",
              "          const element = document.querySelector('#df-cf15dccd-4fdd-4212-984b-c5cc50d13edd');\n",
              "          const dataTable =\n",
              "            await google.colab.kernel.invokeFunction('convertToInteractive',\n",
              "                                                     [key], {});\n",
              "          if (!dataTable) return;\n",
              "\n",
              "          const docLinkHtml = 'Like what you see? Visit the ' +\n",
              "            '<a target=\"_blank\" href=https://colab.research.google.com/notebooks/data_table.ipynb>data table notebook</a>'\n",
              "            + ' to learn more about interactive tables.';\n",
              "          element.innerHTML = '';\n",
              "          dataTable['output_type'] = 'display_data';\n",
              "          await google.colab.output.renderOutput(dataTable, element);\n",
              "          const docLink = document.createElement('div');\n",
              "          docLink.innerHTML = docLinkHtml;\n",
              "          element.appendChild(docLink);\n",
              "        }\n",
              "      </script>\n",
              "    </div>\n",
              "  </div>\n",
              "  "
            ]
          },
          "metadata": {},
          "execution_count": 22
        }
      ]
    },
    {
      "cell_type": "code",
      "source": [
        "df.head(10)#FIRST FEW ROWS"
      ],
      "metadata": {
        "colab": {
          "base_uri": "https://localhost:8080/",
          "height": 363
        },
        "id": "cOflem2Q4XNA",
        "outputId": "08d684b5-5f2d-459f-b62f-b1ce75f32e39"
      },
      "execution_count": null,
      "outputs": [
        {
          "output_type": "execute_result",
          "data": {
            "text/plain": [
              "   OrderDate Region         City  Category         Product  Quantity  \\\n",
              "0   1/1/2020   East       Boston      Bars          Carrot        33   \n",
              "1   1/4/2020   East       Boston  Crackers     Whole Wheat        87   \n",
              "2   1/7/2020   West  Los Angeles   Cookies  Chocolate Chip        58   \n",
              "3  1/10/2020   East     New York   Cookies  Chocolate Chip        82   \n",
              "4  1/13/2020   East       Boston   Cookies       Arrowroot        38   \n",
              "5  1/16/2020   East       Boston      Bars          Carrot        54   \n",
              "6  1/19/2020   East       Boston  Crackers     Whole Wheat       149   \n",
              "7  1/22/2020   West  Los Angeles      Bars          Carrot        51   \n",
              "8  1/25/2020   East     New York      Bars          Carrot       100   \n",
              "9  1/28/2020   East     New York    Snacks    Potato Chips        28   \n",
              "\n",
              "   UnitPrice  TotalPrice  \n",
              "0       1.77       58.41  \n",
              "1       3.49      303.63  \n",
              "2       1.87      108.46  \n",
              "3       1.87      153.34  \n",
              "4       2.18       82.84  \n",
              "5       1.77       95.58  \n",
              "6       3.49      520.01  \n",
              "7       1.77       90.27  \n",
              "8       1.77      177.00  \n",
              "9       1.35       37.80  "
            ],
            "text/html": [
              "\n",
              "  <div id=\"df-b36aa49a-98d4-4a7d-9458-0c4b5c56a3a8\">\n",
              "    <div class=\"colab-df-container\">\n",
              "      <div>\n",
              "<style scoped>\n",
              "    .dataframe tbody tr th:only-of-type {\n",
              "        vertical-align: middle;\n",
              "    }\n",
              "\n",
              "    .dataframe tbody tr th {\n",
              "        vertical-align: top;\n",
              "    }\n",
              "\n",
              "    .dataframe thead th {\n",
              "        text-align: right;\n",
              "    }\n",
              "</style>\n",
              "<table border=\"1\" class=\"dataframe\">\n",
              "  <thead>\n",
              "    <tr style=\"text-align: right;\">\n",
              "      <th></th>\n",
              "      <th>OrderDate</th>\n",
              "      <th>Region</th>\n",
              "      <th>City</th>\n",
              "      <th>Category</th>\n",
              "      <th>Product</th>\n",
              "      <th>Quantity</th>\n",
              "      <th>UnitPrice</th>\n",
              "      <th>TotalPrice</th>\n",
              "    </tr>\n",
              "  </thead>\n",
              "  <tbody>\n",
              "    <tr>\n",
              "      <th>0</th>\n",
              "      <td>1/1/2020</td>\n",
              "      <td>East</td>\n",
              "      <td>Boston</td>\n",
              "      <td>Bars</td>\n",
              "      <td>Carrot</td>\n",
              "      <td>33</td>\n",
              "      <td>1.77</td>\n",
              "      <td>58.41</td>\n",
              "    </tr>\n",
              "    <tr>\n",
              "      <th>1</th>\n",
              "      <td>1/4/2020</td>\n",
              "      <td>East</td>\n",
              "      <td>Boston</td>\n",
              "      <td>Crackers</td>\n",
              "      <td>Whole Wheat</td>\n",
              "      <td>87</td>\n",
              "      <td>3.49</td>\n",
              "      <td>303.63</td>\n",
              "    </tr>\n",
              "    <tr>\n",
              "      <th>2</th>\n",
              "      <td>1/7/2020</td>\n",
              "      <td>West</td>\n",
              "      <td>Los Angeles</td>\n",
              "      <td>Cookies</td>\n",
              "      <td>Chocolate Chip</td>\n",
              "      <td>58</td>\n",
              "      <td>1.87</td>\n",
              "      <td>108.46</td>\n",
              "    </tr>\n",
              "    <tr>\n",
              "      <th>3</th>\n",
              "      <td>1/10/2020</td>\n",
              "      <td>East</td>\n",
              "      <td>New York</td>\n",
              "      <td>Cookies</td>\n",
              "      <td>Chocolate Chip</td>\n",
              "      <td>82</td>\n",
              "      <td>1.87</td>\n",
              "      <td>153.34</td>\n",
              "    </tr>\n",
              "    <tr>\n",
              "      <th>4</th>\n",
              "      <td>1/13/2020</td>\n",
              "      <td>East</td>\n",
              "      <td>Boston</td>\n",
              "      <td>Cookies</td>\n",
              "      <td>Arrowroot</td>\n",
              "      <td>38</td>\n",
              "      <td>2.18</td>\n",
              "      <td>82.84</td>\n",
              "    </tr>\n",
              "    <tr>\n",
              "      <th>5</th>\n",
              "      <td>1/16/2020</td>\n",
              "      <td>East</td>\n",
              "      <td>Boston</td>\n",
              "      <td>Bars</td>\n",
              "      <td>Carrot</td>\n",
              "      <td>54</td>\n",
              "      <td>1.77</td>\n",
              "      <td>95.58</td>\n",
              "    </tr>\n",
              "    <tr>\n",
              "      <th>6</th>\n",
              "      <td>1/19/2020</td>\n",
              "      <td>East</td>\n",
              "      <td>Boston</td>\n",
              "      <td>Crackers</td>\n",
              "      <td>Whole Wheat</td>\n",
              "      <td>149</td>\n",
              "      <td>3.49</td>\n",
              "      <td>520.01</td>\n",
              "    </tr>\n",
              "    <tr>\n",
              "      <th>7</th>\n",
              "      <td>1/22/2020</td>\n",
              "      <td>West</td>\n",
              "      <td>Los Angeles</td>\n",
              "      <td>Bars</td>\n",
              "      <td>Carrot</td>\n",
              "      <td>51</td>\n",
              "      <td>1.77</td>\n",
              "      <td>90.27</td>\n",
              "    </tr>\n",
              "    <tr>\n",
              "      <th>8</th>\n",
              "      <td>1/25/2020</td>\n",
              "      <td>East</td>\n",
              "      <td>New York</td>\n",
              "      <td>Bars</td>\n",
              "      <td>Carrot</td>\n",
              "      <td>100</td>\n",
              "      <td>1.77</td>\n",
              "      <td>177.00</td>\n",
              "    </tr>\n",
              "    <tr>\n",
              "      <th>9</th>\n",
              "      <td>1/28/2020</td>\n",
              "      <td>East</td>\n",
              "      <td>New York</td>\n",
              "      <td>Snacks</td>\n",
              "      <td>Potato Chips</td>\n",
              "      <td>28</td>\n",
              "      <td>1.35</td>\n",
              "      <td>37.80</td>\n",
              "    </tr>\n",
              "  </tbody>\n",
              "</table>\n",
              "</div>\n",
              "      <button class=\"colab-df-convert\" onclick=\"convertToInteractive('df-b36aa49a-98d4-4a7d-9458-0c4b5c56a3a8')\"\n",
              "              title=\"Convert this dataframe to an interactive table.\"\n",
              "              style=\"display:none;\">\n",
              "        \n",
              "  <svg xmlns=\"http://www.w3.org/2000/svg\" height=\"24px\"viewBox=\"0 0 24 24\"\n",
              "       width=\"24px\">\n",
              "    <path d=\"M0 0h24v24H0V0z\" fill=\"none\"/>\n",
              "    <path d=\"M18.56 5.44l.94 2.06.94-2.06 2.06-.94-2.06-.94-.94-2.06-.94 2.06-2.06.94zm-11 1L8.5 8.5l.94-2.06 2.06-.94-2.06-.94L8.5 2.5l-.94 2.06-2.06.94zm10 10l.94 2.06.94-2.06 2.06-.94-2.06-.94-.94-2.06-.94 2.06-2.06.94z\"/><path d=\"M17.41 7.96l-1.37-1.37c-.4-.4-.92-.59-1.43-.59-.52 0-1.04.2-1.43.59L10.3 9.45l-7.72 7.72c-.78.78-.78 2.05 0 2.83L4 21.41c.39.39.9.59 1.41.59.51 0 1.02-.2 1.41-.59l7.78-7.78 2.81-2.81c.8-.78.8-2.07 0-2.86zM5.41 20L4 18.59l7.72-7.72 1.47 1.35L5.41 20z\"/>\n",
              "  </svg>\n",
              "      </button>\n",
              "      \n",
              "  <style>\n",
              "    .colab-df-container {\n",
              "      display:flex;\n",
              "      flex-wrap:wrap;\n",
              "      gap: 12px;\n",
              "    }\n",
              "\n",
              "    .colab-df-convert {\n",
              "      background-color: #E8F0FE;\n",
              "      border: none;\n",
              "      border-radius: 50%;\n",
              "      cursor: pointer;\n",
              "      display: none;\n",
              "      fill: #1967D2;\n",
              "      height: 32px;\n",
              "      padding: 0 0 0 0;\n",
              "      width: 32px;\n",
              "    }\n",
              "\n",
              "    .colab-df-convert:hover {\n",
              "      background-color: #E2EBFA;\n",
              "      box-shadow: 0px 1px 2px rgba(60, 64, 67, 0.3), 0px 1px 3px 1px rgba(60, 64, 67, 0.15);\n",
              "      fill: #174EA6;\n",
              "    }\n",
              "\n",
              "    [theme=dark] .colab-df-convert {\n",
              "      background-color: #3B4455;\n",
              "      fill: #D2E3FC;\n",
              "    }\n",
              "\n",
              "    [theme=dark] .colab-df-convert:hover {\n",
              "      background-color: #434B5C;\n",
              "      box-shadow: 0px 1px 3px 1px rgba(0, 0, 0, 0.15);\n",
              "      filter: drop-shadow(0px 1px 2px rgba(0, 0, 0, 0.3));\n",
              "      fill: #FFFFFF;\n",
              "    }\n",
              "  </style>\n",
              "\n",
              "      <script>\n",
              "        const buttonEl =\n",
              "          document.querySelector('#df-b36aa49a-98d4-4a7d-9458-0c4b5c56a3a8 button.colab-df-convert');\n",
              "        buttonEl.style.display =\n",
              "          google.colab.kernel.accessAllowed ? 'block' : 'none';\n",
              "\n",
              "        async function convertToInteractive(key) {\n",
              "          const element = document.querySelector('#df-b36aa49a-98d4-4a7d-9458-0c4b5c56a3a8');\n",
              "          const dataTable =\n",
              "            await google.colab.kernel.invokeFunction('convertToInteractive',\n",
              "                                                     [key], {});\n",
              "          if (!dataTable) return;\n",
              "\n",
              "          const docLinkHtml = 'Like what you see? Visit the ' +\n",
              "            '<a target=\"_blank\" href=https://colab.research.google.com/notebooks/data_table.ipynb>data table notebook</a>'\n",
              "            + ' to learn more about interactive tables.';\n",
              "          element.innerHTML = '';\n",
              "          dataTable['output_type'] = 'display_data';\n",
              "          await google.colab.output.renderOutput(dataTable, element);\n",
              "          const docLink = document.createElement('div');\n",
              "          docLink.innerHTML = docLinkHtml;\n",
              "          element.appendChild(docLink);\n",
              "        }\n",
              "      </script>\n",
              "    </div>\n",
              "  </div>\n",
              "  "
            ]
          },
          "metadata": {},
          "execution_count": 23
        }
      ]
    },
    {
      "cell_type": "code",
      "source": [],
      "metadata": {
        "id": "4dz2_1i14Vmq"
      },
      "execution_count": null,
      "outputs": []
    },
    {
      "cell_type": "code",
      "source": [
        "df.tail(10)"
      ],
      "metadata": {
        "colab": {
          "base_uri": "https://localhost:8080/",
          "height": 363
        },
        "id": "YFWszPbw4hVH",
        "outputId": "b26ba100-a957-4854-a5de-08c351e51cce"
      },
      "execution_count": null,
      "outputs": [
        {
          "output_type": "execute_result",
          "data": {
            "text/plain": [
              "      OrderDate Region         City  Category         Product  Quantity  \\\n",
              "234   12/3/2021   West  Los Angeles      Bars            Bran        42   \n",
              "235   12/6/2021   West  Los Angeles   Cookies  Oatmeal Raisin       100   \n",
              "236   12/9/2021   East     New York      Bars          Carrot        38   \n",
              "237  12/12/2021   East     New York  Crackers     Whole Wheat        25   \n",
              "238  12/15/2021   West    San Diego   Cookies  Chocolate Chip        96   \n",
              "239  12/18/2021   East       Boston   Cookies       Arrowroot        34   \n",
              "240  12/21/2021   East       Boston   Cookies  Chocolate Chip       245   \n",
              "241  12/24/2021   East       Boston  Crackers     Whole Wheat        30   \n",
              "242  12/27/2021   West  Los Angeles      Bars            Bran        30   \n",
              "243  12/30/2021   West  Los Angeles   Cookies  Oatmeal Raisin        44   \n",
              "\n",
              "     UnitPrice  TotalPrice  \n",
              "234       1.87       78.54  \n",
              "235       2.84      284.00  \n",
              "236       1.77       67.26  \n",
              "237       3.49       87.25  \n",
              "238       1.87      179.52  \n",
              "239       2.18       74.12  \n",
              "240       1.87      458.15  \n",
              "241       3.49      104.70  \n",
              "242       1.87       56.10  \n",
              "243       2.84      124.96  "
            ],
            "text/html": [
              "\n",
              "  <div id=\"df-3bd1f85f-33da-4929-9318-b26ea17761b5\">\n",
              "    <div class=\"colab-df-container\">\n",
              "      <div>\n",
              "<style scoped>\n",
              "    .dataframe tbody tr th:only-of-type {\n",
              "        vertical-align: middle;\n",
              "    }\n",
              "\n",
              "    .dataframe tbody tr th {\n",
              "        vertical-align: top;\n",
              "    }\n",
              "\n",
              "    .dataframe thead th {\n",
              "        text-align: right;\n",
              "    }\n",
              "</style>\n",
              "<table border=\"1\" class=\"dataframe\">\n",
              "  <thead>\n",
              "    <tr style=\"text-align: right;\">\n",
              "      <th></th>\n",
              "      <th>OrderDate</th>\n",
              "      <th>Region</th>\n",
              "      <th>City</th>\n",
              "      <th>Category</th>\n",
              "      <th>Product</th>\n",
              "      <th>Quantity</th>\n",
              "      <th>UnitPrice</th>\n",
              "      <th>TotalPrice</th>\n",
              "    </tr>\n",
              "  </thead>\n",
              "  <tbody>\n",
              "    <tr>\n",
              "      <th>234</th>\n",
              "      <td>12/3/2021</td>\n",
              "      <td>West</td>\n",
              "      <td>Los Angeles</td>\n",
              "      <td>Bars</td>\n",
              "      <td>Bran</td>\n",
              "      <td>42</td>\n",
              "      <td>1.87</td>\n",
              "      <td>78.54</td>\n",
              "    </tr>\n",
              "    <tr>\n",
              "      <th>235</th>\n",
              "      <td>12/6/2021</td>\n",
              "      <td>West</td>\n",
              "      <td>Los Angeles</td>\n",
              "      <td>Cookies</td>\n",
              "      <td>Oatmeal Raisin</td>\n",
              "      <td>100</td>\n",
              "      <td>2.84</td>\n",
              "      <td>284.00</td>\n",
              "    </tr>\n",
              "    <tr>\n",
              "      <th>236</th>\n",
              "      <td>12/9/2021</td>\n",
              "      <td>East</td>\n",
              "      <td>New York</td>\n",
              "      <td>Bars</td>\n",
              "      <td>Carrot</td>\n",
              "      <td>38</td>\n",
              "      <td>1.77</td>\n",
              "      <td>67.26</td>\n",
              "    </tr>\n",
              "    <tr>\n",
              "      <th>237</th>\n",
              "      <td>12/12/2021</td>\n",
              "      <td>East</td>\n",
              "      <td>New York</td>\n",
              "      <td>Crackers</td>\n",
              "      <td>Whole Wheat</td>\n",
              "      <td>25</td>\n",
              "      <td>3.49</td>\n",
              "      <td>87.25</td>\n",
              "    </tr>\n",
              "    <tr>\n",
              "      <th>238</th>\n",
              "      <td>12/15/2021</td>\n",
              "      <td>West</td>\n",
              "      <td>San Diego</td>\n",
              "      <td>Cookies</td>\n",
              "      <td>Chocolate Chip</td>\n",
              "      <td>96</td>\n",
              "      <td>1.87</td>\n",
              "      <td>179.52</td>\n",
              "    </tr>\n",
              "    <tr>\n",
              "      <th>239</th>\n",
              "      <td>12/18/2021</td>\n",
              "      <td>East</td>\n",
              "      <td>Boston</td>\n",
              "      <td>Cookies</td>\n",
              "      <td>Arrowroot</td>\n",
              "      <td>34</td>\n",
              "      <td>2.18</td>\n",
              "      <td>74.12</td>\n",
              "    </tr>\n",
              "    <tr>\n",
              "      <th>240</th>\n",
              "      <td>12/21/2021</td>\n",
              "      <td>East</td>\n",
              "      <td>Boston</td>\n",
              "      <td>Cookies</td>\n",
              "      <td>Chocolate Chip</td>\n",
              "      <td>245</td>\n",
              "      <td>1.87</td>\n",
              "      <td>458.15</td>\n",
              "    </tr>\n",
              "    <tr>\n",
              "      <th>241</th>\n",
              "      <td>12/24/2021</td>\n",
              "      <td>East</td>\n",
              "      <td>Boston</td>\n",
              "      <td>Crackers</td>\n",
              "      <td>Whole Wheat</td>\n",
              "      <td>30</td>\n",
              "      <td>3.49</td>\n",
              "      <td>104.70</td>\n",
              "    </tr>\n",
              "    <tr>\n",
              "      <th>242</th>\n",
              "      <td>12/27/2021</td>\n",
              "      <td>West</td>\n",
              "      <td>Los Angeles</td>\n",
              "      <td>Bars</td>\n",
              "      <td>Bran</td>\n",
              "      <td>30</td>\n",
              "      <td>1.87</td>\n",
              "      <td>56.10</td>\n",
              "    </tr>\n",
              "    <tr>\n",
              "      <th>243</th>\n",
              "      <td>12/30/2021</td>\n",
              "      <td>West</td>\n",
              "      <td>Los Angeles</td>\n",
              "      <td>Cookies</td>\n",
              "      <td>Oatmeal Raisin</td>\n",
              "      <td>44</td>\n",
              "      <td>2.84</td>\n",
              "      <td>124.96</td>\n",
              "    </tr>\n",
              "  </tbody>\n",
              "</table>\n",
              "</div>\n",
              "      <button class=\"colab-df-convert\" onclick=\"convertToInteractive('df-3bd1f85f-33da-4929-9318-b26ea17761b5')\"\n",
              "              title=\"Convert this dataframe to an interactive table.\"\n",
              "              style=\"display:none;\">\n",
              "        \n",
              "  <svg xmlns=\"http://www.w3.org/2000/svg\" height=\"24px\"viewBox=\"0 0 24 24\"\n",
              "       width=\"24px\">\n",
              "    <path d=\"M0 0h24v24H0V0z\" fill=\"none\"/>\n",
              "    <path d=\"M18.56 5.44l.94 2.06.94-2.06 2.06-.94-2.06-.94-.94-2.06-.94 2.06-2.06.94zm-11 1L8.5 8.5l.94-2.06 2.06-.94-2.06-.94L8.5 2.5l-.94 2.06-2.06.94zm10 10l.94 2.06.94-2.06 2.06-.94-2.06-.94-.94-2.06-.94 2.06-2.06.94z\"/><path d=\"M17.41 7.96l-1.37-1.37c-.4-.4-.92-.59-1.43-.59-.52 0-1.04.2-1.43.59L10.3 9.45l-7.72 7.72c-.78.78-.78 2.05 0 2.83L4 21.41c.39.39.9.59 1.41.59.51 0 1.02-.2 1.41-.59l7.78-7.78 2.81-2.81c.8-.78.8-2.07 0-2.86zM5.41 20L4 18.59l7.72-7.72 1.47 1.35L5.41 20z\"/>\n",
              "  </svg>\n",
              "      </button>\n",
              "      \n",
              "  <style>\n",
              "    .colab-df-container {\n",
              "      display:flex;\n",
              "      flex-wrap:wrap;\n",
              "      gap: 12px;\n",
              "    }\n",
              "\n",
              "    .colab-df-convert {\n",
              "      background-color: #E8F0FE;\n",
              "      border: none;\n",
              "      border-radius: 50%;\n",
              "      cursor: pointer;\n",
              "      display: none;\n",
              "      fill: #1967D2;\n",
              "      height: 32px;\n",
              "      padding: 0 0 0 0;\n",
              "      width: 32px;\n",
              "    }\n",
              "\n",
              "    .colab-df-convert:hover {\n",
              "      background-color: #E2EBFA;\n",
              "      box-shadow: 0px 1px 2px rgba(60, 64, 67, 0.3), 0px 1px 3px 1px rgba(60, 64, 67, 0.15);\n",
              "      fill: #174EA6;\n",
              "    }\n",
              "\n",
              "    [theme=dark] .colab-df-convert {\n",
              "      background-color: #3B4455;\n",
              "      fill: #D2E3FC;\n",
              "    }\n",
              "\n",
              "    [theme=dark] .colab-df-convert:hover {\n",
              "      background-color: #434B5C;\n",
              "      box-shadow: 0px 1px 3px 1px rgba(0, 0, 0, 0.15);\n",
              "      filter: drop-shadow(0px 1px 2px rgba(0, 0, 0, 0.3));\n",
              "      fill: #FFFFFF;\n",
              "    }\n",
              "  </style>\n",
              "\n",
              "      <script>\n",
              "        const buttonEl =\n",
              "          document.querySelector('#df-3bd1f85f-33da-4929-9318-b26ea17761b5 button.colab-df-convert');\n",
              "        buttonEl.style.display =\n",
              "          google.colab.kernel.accessAllowed ? 'block' : 'none';\n",
              "\n",
              "        async function convertToInteractive(key) {\n",
              "          const element = document.querySelector('#df-3bd1f85f-33da-4929-9318-b26ea17761b5');\n",
              "          const dataTable =\n",
              "            await google.colab.kernel.invokeFunction('convertToInteractive',\n",
              "                                                     [key], {});\n",
              "          if (!dataTable) return;\n",
              "\n",
              "          const docLinkHtml = 'Like what you see? Visit the ' +\n",
              "            '<a target=\"_blank\" href=https://colab.research.google.com/notebooks/data_table.ipynb>data table notebook</a>'\n",
              "            + ' to learn more about interactive tables.';\n",
              "          element.innerHTML = '';\n",
              "          dataTable['output_type'] = 'display_data';\n",
              "          await google.colab.output.renderOutput(dataTable, element);\n",
              "          const docLink = document.createElement('div');\n",
              "          docLink.innerHTML = docLinkHtml;\n",
              "          element.appendChild(docLink);\n",
              "        }\n",
              "      </script>\n",
              "    </div>\n",
              "  </div>\n",
              "  "
            ]
          },
          "metadata": {},
          "execution_count": 24
        }
      ]
    },
    {
      "cell_type": "code",
      "source": [
        "df.info()"
      ],
      "metadata": {
        "colab": {
          "base_uri": "https://localhost:8080/"
        },
        "id": "xqsz8S9X4vuP",
        "outputId": "6612fba1-e6fe-4b17-e080-b038d7f061e2"
      },
      "execution_count": null,
      "outputs": [
        {
          "output_type": "stream",
          "name": "stdout",
          "text": [
            "<class 'pandas.core.frame.DataFrame'>\n",
            "RangeIndex: 244 entries, 0 to 243\n",
            "Data columns (total 8 columns):\n",
            " #   Column      Non-Null Count  Dtype  \n",
            "---  ------      --------------  -----  \n",
            " 0   OrderDate   244 non-null    object \n",
            " 1   Region      244 non-null    object \n",
            " 2   City        244 non-null    object \n",
            " 3   Category    244 non-null    object \n",
            " 4   Product     244 non-null    object \n",
            " 5   Quantity    244 non-null    int64  \n",
            " 6   UnitPrice   244 non-null    float64\n",
            " 7   TotalPrice  244 non-null    float64\n",
            "dtypes: float64(2), int64(1), object(5)\n",
            "memory usage: 15.4+ KB\n"
          ]
        }
      ]
    },
    {
      "cell_type": "code",
      "source": [
        "df.loc[0,'OrderDate'].day_name()"
      ],
      "metadata": {
        "colab": {
          "base_uri": "https://localhost:8080/",
          "height": 169
        },
        "id": "TqI7I6xW5iYM",
        "outputId": "e502b022-acc4-4de3-f686-95c467cc9337"
      },
      "execution_count": null,
      "outputs": [
        {
          "output_type": "error",
          "ename": "AttributeError",
          "evalue": "ignored",
          "traceback": [
            "\u001b[0;31m---------------------------------------------------------------------------\u001b[0m",
            "\u001b[0;31mAttributeError\u001b[0m                            Traceback (most recent call last)",
            "\u001b[0;32m<ipython-input-28-dbb023cf3998>\u001b[0m in \u001b[0;36m<module>\u001b[0;34m\u001b[0m\n\u001b[0;32m----> 1\u001b[0;31m \u001b[0mdf\u001b[0m\u001b[0;34m.\u001b[0m\u001b[0mloc\u001b[0m\u001b[0;34m[\u001b[0m\u001b[0;36m0\u001b[0m\u001b[0;34m,\u001b[0m\u001b[0;34m'OrderDate'\u001b[0m\u001b[0;34m]\u001b[0m\u001b[0;34m.\u001b[0m\u001b[0mday_name\u001b[0m\u001b[0;34m(\u001b[0m\u001b[0;34m)\u001b[0m\u001b[0;34m\u001b[0m\u001b[0;34m\u001b[0m\u001b[0m\n\u001b[0m",
            "\u001b[0;31mAttributeError\u001b[0m: 'str' object has no attribute 'day_name'"
          ]
        }
      ]
    },
    {
      "cell_type": "code",
      "source": [
        "# Convert column into data format\n",
        "df[\"OrderDate\"]=pd.to_datetime(df[\"OrderDate\"])"
      ],
      "metadata": {
        "id": "fxvYmA3J6B-F"
      },
      "execution_count": null,
      "outputs": []
    },
    {
      "cell_type": "code",
      "source": [
        "df.loc[0,'OrderDate'].day_name()"
      ],
      "metadata": {
        "colab": {
          "base_uri": "https://localhost:8080/",
          "height": 35
        },
        "id": "RzGjjM6_7Ago",
        "outputId": "d649db95-f714-43f2-aac3-5ada10183c79"
      },
      "execution_count": null,
      "outputs": [
        {
          "output_type": "execute_result",
          "data": {
            "text/plain": [
              "'Wednesday'"
            ],
            "application/vnd.google.colaboratory.intrinsic+json": {
              "type": "string"
            }
          },
          "metadata": {},
          "execution_count": 31
        }
      ]
    },
    {
      "cell_type": "code",
      "source": [
        "#another way to convert\n",
        "df[\"OrderDate\"]=pd.to_datetime(df[\"OrderDate\"],format=\"%m/%d/%Y\")"
      ],
      "metadata": {
        "id": "PCqQKyXp7FFz"
      },
      "execution_count": null,
      "outputs": []
    },
    {
      "cell_type": "code",
      "source": [
        "df[\"OrderDate\"]"
      ],
      "metadata": {
        "colab": {
          "base_uri": "https://localhost:8080/"
        },
        "id": "C8zuh6mu8qT2",
        "outputId": "a1ff5c3f-93f2-49d7-9ed7-383a8e8e84ea"
      },
      "execution_count": null,
      "outputs": [
        {
          "output_type": "execute_result",
          "data": {
            "text/plain": [
              "0     2020-01-01\n",
              "1     2020-01-04\n",
              "2     2020-01-07\n",
              "3     2020-01-10\n",
              "4     2020-01-13\n",
              "         ...    \n",
              "239   2021-12-18\n",
              "240   2021-12-21\n",
              "241   2021-12-24\n",
              "242   2021-12-27\n",
              "243   2021-12-30\n",
              "Name: OrderDate, Length: 244, dtype: datetime64[ns]"
            ]
          },
          "metadata": {},
          "execution_count": 33
        }
      ]
    },
    {
      "cell_type": "code",
      "source": [
        "df[\"TotalPrice\"].max() # maximum total price\n"
      ],
      "metadata": {
        "colab": {
          "base_uri": "https://localhost:8080/"
        },
        "id": "cERXK8jQ9JRA",
        "outputId": "f70d8922-f020-4303-a6ed-a58e5619114b"
      },
      "execution_count": null,
      "outputs": [
        {
          "output_type": "execute_result",
          "data": {
            "text/plain": [
              "817.92"
            ]
          },
          "metadata": {},
          "execution_count": 35
        }
      ]
    },
    {
      "cell_type": "code",
      "source": [
        "df[\"TotalPrice\"].min() # minimum total price"
      ],
      "metadata": {
        "colab": {
          "base_uri": "https://localhost:8080/"
        },
        "id": "hVr8eKdf9dTw",
        "outputId": "f54c4a47-ea36-46f9-bb95-514463f487f8"
      },
      "execution_count": null,
      "outputs": [
        {
          "output_type": "execute_result",
          "data": {
            "text/plain": [
              "33.6"
            ]
          },
          "metadata": {},
          "execution_count": 36
        }
      ]
    },
    {
      "cell_type": "code",
      "source": [
        "df.columns"
      ],
      "metadata": {
        "colab": {
          "base_uri": "https://localhost:8080/"
        },
        "id": "haaBZxJB9ifQ",
        "outputId": "da213802-c41a-40c4-a5fe-004cbb300248"
      },
      "execution_count": null,
      "outputs": [
        {
          "output_type": "execute_result",
          "data": {
            "text/plain": [
              "Index(['OrderDate', 'Region', 'City', 'Category', 'Product', 'Quantity',\n",
              "       'UnitPrice', 'TotalPrice'],\n",
              "      dtype='object')"
            ]
          },
          "metadata": {},
          "execution_count": 37
        }
      ]
    },
    {
      "cell_type": "code",
      "source": [
        "df[[\"OrderDate\",\"City\"]] # multiple columns"
      ],
      "metadata": {
        "colab": {
          "base_uri": "https://localhost:8080/",
          "height": 169
        },
        "id": "b-06e8QY9phz",
        "outputId": "b6722737-ac25-4869-de84-01fd12065843"
      },
      "execution_count": null,
      "outputs": [
        {
          "output_type": "error",
          "ename": "NameError",
          "evalue": "ignored",
          "traceback": [
            "\u001b[0;31m---------------------------------------------------------------------------\u001b[0m",
            "\u001b[0;31mNameError\u001b[0m                                 Traceback (most recent call last)",
            "\u001b[0;32m<ipython-input-1-8559c4069a85>\u001b[0m in \u001b[0;36m<module>\u001b[0;34m\u001b[0m\n\u001b[0;32m----> 1\u001b[0;31m \u001b[0mdf\u001b[0m\u001b[0;34m[\u001b[0m\u001b[0;34m[\u001b[0m\u001b[0;34m\"OrderDate\"\u001b[0m\u001b[0;34m,\u001b[0m\u001b[0;34m\"City\"\u001b[0m\u001b[0;34m]\u001b[0m\u001b[0;34m]\u001b[0m \u001b[0;31m# multiple columns\u001b[0m\u001b[0;34m\u001b[0m\u001b[0;34m\u001b[0m\u001b[0m\n\u001b[0m",
            "\u001b[0;31mNameError\u001b[0m: name 'df' is not defined"
          ]
        }
      ]
    },
    {
      "cell_type": "code",
      "source": [
        "# broad overview of data- statistical overview\n",
        "df.describe()"
      ],
      "metadata": {
        "colab": {
          "base_uri": "https://localhost:8080/",
          "height": 300
        },
        "id": "f5ED5UXx97_v",
        "outputId": "685eacbb-8700-4d9d-9519-8fe38d36051f"
      },
      "execution_count": null,
      "outputs": [
        {
          "output_type": "execute_result",
          "data": {
            "text/plain": [
              "         Quantity   UnitPrice  TotalPrice\n",
              "count  244.000000  244.000000  244.000000\n",
              "mean    63.286885    2.200820  136.580246\n",
              "std     47.112505    0.600169  108.354231\n",
              "min     20.000000    1.350000   33.600000\n",
              "25%     31.000000    1.770000   72.570000\n",
              "50%     47.000000    1.870000  102.755000\n",
              "75%     80.000000    2.840000  159.300000\n",
              "max    306.000000    3.490000  817.920000"
            ],
            "text/html": [
              "\n",
              "  <div id=\"df-ec132d6a-9209-4468-b6fd-c29573139511\">\n",
              "    <div class=\"colab-df-container\">\n",
              "      <div>\n",
              "<style scoped>\n",
              "    .dataframe tbody tr th:only-of-type {\n",
              "        vertical-align: middle;\n",
              "    }\n",
              "\n",
              "    .dataframe tbody tr th {\n",
              "        vertical-align: top;\n",
              "    }\n",
              "\n",
              "    .dataframe thead th {\n",
              "        text-align: right;\n",
              "    }\n",
              "</style>\n",
              "<table border=\"1\" class=\"dataframe\">\n",
              "  <thead>\n",
              "    <tr style=\"text-align: right;\">\n",
              "      <th></th>\n",
              "      <th>Quantity</th>\n",
              "      <th>UnitPrice</th>\n",
              "      <th>TotalPrice</th>\n",
              "    </tr>\n",
              "  </thead>\n",
              "  <tbody>\n",
              "    <tr>\n",
              "      <th>count</th>\n",
              "      <td>244.000000</td>\n",
              "      <td>244.000000</td>\n",
              "      <td>244.000000</td>\n",
              "    </tr>\n",
              "    <tr>\n",
              "      <th>mean</th>\n",
              "      <td>63.286885</td>\n",
              "      <td>2.200820</td>\n",
              "      <td>136.580246</td>\n",
              "    </tr>\n",
              "    <tr>\n",
              "      <th>std</th>\n",
              "      <td>47.112505</td>\n",
              "      <td>0.600169</td>\n",
              "      <td>108.354231</td>\n",
              "    </tr>\n",
              "    <tr>\n",
              "      <th>min</th>\n",
              "      <td>20.000000</td>\n",
              "      <td>1.350000</td>\n",
              "      <td>33.600000</td>\n",
              "    </tr>\n",
              "    <tr>\n",
              "      <th>25%</th>\n",
              "      <td>31.000000</td>\n",
              "      <td>1.770000</td>\n",
              "      <td>72.570000</td>\n",
              "    </tr>\n",
              "    <tr>\n",
              "      <th>50%</th>\n",
              "      <td>47.000000</td>\n",
              "      <td>1.870000</td>\n",
              "      <td>102.755000</td>\n",
              "    </tr>\n",
              "    <tr>\n",
              "      <th>75%</th>\n",
              "      <td>80.000000</td>\n",
              "      <td>2.840000</td>\n",
              "      <td>159.300000</td>\n",
              "    </tr>\n",
              "    <tr>\n",
              "      <th>max</th>\n",
              "      <td>306.000000</td>\n",
              "      <td>3.490000</td>\n",
              "      <td>817.920000</td>\n",
              "    </tr>\n",
              "  </tbody>\n",
              "</table>\n",
              "</div>\n",
              "      <button class=\"colab-df-convert\" onclick=\"convertToInteractive('df-ec132d6a-9209-4468-b6fd-c29573139511')\"\n",
              "              title=\"Convert this dataframe to an interactive table.\"\n",
              "              style=\"display:none;\">\n",
              "        \n",
              "  <svg xmlns=\"http://www.w3.org/2000/svg\" height=\"24px\"viewBox=\"0 0 24 24\"\n",
              "       width=\"24px\">\n",
              "    <path d=\"M0 0h24v24H0V0z\" fill=\"none\"/>\n",
              "    <path d=\"M18.56 5.44l.94 2.06.94-2.06 2.06-.94-2.06-.94-.94-2.06-.94 2.06-2.06.94zm-11 1L8.5 8.5l.94-2.06 2.06-.94-2.06-.94L8.5 2.5l-.94 2.06-2.06.94zm10 10l.94 2.06.94-2.06 2.06-.94-2.06-.94-.94-2.06-.94 2.06-2.06.94z\"/><path d=\"M17.41 7.96l-1.37-1.37c-.4-.4-.92-.59-1.43-.59-.52 0-1.04.2-1.43.59L10.3 9.45l-7.72 7.72c-.78.78-.78 2.05 0 2.83L4 21.41c.39.39.9.59 1.41.59.51 0 1.02-.2 1.41-.59l7.78-7.78 2.81-2.81c.8-.78.8-2.07 0-2.86zM5.41 20L4 18.59l7.72-7.72 1.47 1.35L5.41 20z\"/>\n",
              "  </svg>\n",
              "      </button>\n",
              "      \n",
              "  <style>\n",
              "    .colab-df-container {\n",
              "      display:flex;\n",
              "      flex-wrap:wrap;\n",
              "      gap: 12px;\n",
              "    }\n",
              "\n",
              "    .colab-df-convert {\n",
              "      background-color: #E8F0FE;\n",
              "      border: none;\n",
              "      border-radius: 50%;\n",
              "      cursor: pointer;\n",
              "      display: none;\n",
              "      fill: #1967D2;\n",
              "      height: 32px;\n",
              "      padding: 0 0 0 0;\n",
              "      width: 32px;\n",
              "    }\n",
              "\n",
              "    .colab-df-convert:hover {\n",
              "      background-color: #E2EBFA;\n",
              "      box-shadow: 0px 1px 2px rgba(60, 64, 67, 0.3), 0px 1px 3px 1px rgba(60, 64, 67, 0.15);\n",
              "      fill: #174EA6;\n",
              "    }\n",
              "\n",
              "    [theme=dark] .colab-df-convert {\n",
              "      background-color: #3B4455;\n",
              "      fill: #D2E3FC;\n",
              "    }\n",
              "\n",
              "    [theme=dark] .colab-df-convert:hover {\n",
              "      background-color: #434B5C;\n",
              "      box-shadow: 0px 1px 3px 1px rgba(0, 0, 0, 0.15);\n",
              "      filter: drop-shadow(0px 1px 2px rgba(0, 0, 0, 0.3));\n",
              "      fill: #FFFFFF;\n",
              "    }\n",
              "  </style>\n",
              "\n",
              "      <script>\n",
              "        const buttonEl =\n",
              "          document.querySelector('#df-ec132d6a-9209-4468-b6fd-c29573139511 button.colab-df-convert');\n",
              "        buttonEl.style.display =\n",
              "          google.colab.kernel.accessAllowed ? 'block' : 'none';\n",
              "\n",
              "        async function convertToInteractive(key) {\n",
              "          const element = document.querySelector('#df-ec132d6a-9209-4468-b6fd-c29573139511');\n",
              "          const dataTable =\n",
              "            await google.colab.kernel.invokeFunction('convertToInteractive',\n",
              "                                                     [key], {});\n",
              "          if (!dataTable) return;\n",
              "\n",
              "          const docLinkHtml = 'Like what you see? Visit the ' +\n",
              "            '<a target=\"_blank\" href=https://colab.research.google.com/notebooks/data_table.ipynb>data table notebook</a>'\n",
              "            + ' to learn more about interactive tables.';\n",
              "          element.innerHTML = '';\n",
              "          dataTable['output_type'] = 'display_data';\n",
              "          await google.colab.output.renderOutput(dataTable, element);\n",
              "          const docLink = document.createElement('div');\n",
              "          docLink.innerHTML = docLinkHtml;\n",
              "          element.appendChild(docLink);\n",
              "        }\n",
              "      </script>\n",
              "    </div>\n",
              "  </div>\n",
              "  "
            ]
          },
          "metadata": {},
          "execution_count": 39
        }
      ]
    },
    {
      "cell_type": "code",
      "source": [
        "df[\"City\"].value_counts()"
      ],
      "metadata": {
        "colab": {
          "base_uri": "https://localhost:8080/"
        },
        "id": "hm_cPWgI-HcV",
        "outputId": "47c79372-a9b2-4a3f-db9c-0ac4eae88eb7"
      },
      "execution_count": null,
      "outputs": [
        {
          "output_type": "execute_result",
          "data": {
            "text/plain": [
              "Boston         88\n",
              "New York       62\n",
              "Los Angeles    55\n",
              "San Diego      39\n",
              "Name: City, dtype: int64"
            ]
          },
          "metadata": {},
          "execution_count": 40
        }
      ]
    },
    {
      "cell_type": "code",
      "source": [],
      "metadata": {
        "id": "pwJSZL0f-VUI"
      },
      "execution_count": null,
      "outputs": []
    },
    {
      "cell_type": "markdown",
      "source": [
        "bar chart"
      ],
      "metadata": {
        "id": "ZI-GC6YJ_ftq"
      }
    },
    {
      "cell_type": "code",
      "source": [
        "# matplotlib\n",
        "plt.barh(df[\"Region\"],df[\"TotalPrice\"])\n",
        "plt.show()"
      ],
      "metadata": {
        "colab": {
          "base_uri": "https://localhost:8080/",
          "height": 265
        },
        "id": "7AZmy2OP_hEy",
        "outputId": "309d9405-0e3b-4a88-8fc3-9c8c642e0270"
      },
      "execution_count": null,
      "outputs": [
        {
          "output_type": "display_data",
          "data": {
            "text/plain": [
              "<Figure size 432x288 with 1 Axes>"
            ],
            "image/png": "[encoded data removed]"
          },
          "metadata": {
            "needs_background": "light"
          }
        }
      ]
    },
    {
      "cell_type": "code",
      "source": [
        "# seaborn\n",
        "sns.barplot(df[\"TotalPrice\"],df[\"Region\"])\n",
        "plt.show()"
      ],
      "metadata": {
        "colab": {
          "base_uri": "https://localhost:8080/",
          "height": 335
        },
        "id": "gXKcDb03_8II",
        "outputId": "cd9fb3cf-56cc-4956-851a-18fcf20c1c6a"
      },
      "execution_count": null,
      "outputs": [
        {
          "output_type": "stream",
          "name": "stderr",
          "text": [
            "/usr/local/lib/python3.7/dist-packages/seaborn/_decorators.py:43: FutureWarning: Pass the following variables as keyword args: x, y. From version 0.12, the only valid positional argument will be `data`, and passing other arguments without an explicit keyword will result in an error or misinterpretation.\n",
            "  FutureWarning\n"
          ]
        },
        {
          "output_type": "display_data",
          "data": {
            "text/plain": [
              "<Figure size 432x288 with 1 Axes>"
            ],
            "image/png": "[encoded data removed]"
          },
          "metadata": {
            "needs_background": "light"
          }
        }
      ]
    },
    {
      "cell_type": "code",
      "source": [
        "# seaborn\n",
        "sns.barplot(x = \"TotalPrice\",y = \"Region\",data = df)\n",
        "plt.show()\n"
      ],
      "metadata": {
        "colab": {
          "base_uri": "https://localhost:8080/",
          "height": 279
        },
        "id": "-7XmbgfjGhjP",
        "outputId": "c256808b-4614-40a5-dc52-999a12f6dce9"
      },
      "execution_count": null,
      "outputs": [
        {
          "output_type": "display_data",
          "data": {
            "text/plain": [
              "<Figure size 432x288 with 1 Axes>"
            ],
            "image/png": "[encoded data removed]"
          },
          "metadata": {
            "needs_background": "light"
          }
        }
      ]
    },
    {
      "cell_type": "code",
      "source": [
        "#Grouping total price according to regions\n",
        "Region_price= df.groupby(\"Region\")[\"TotalPrice\"].sum().to_frame().reset_index()\n",
        "Region_price"
      ],
      "metadata": {
        "colab": {
          "base_uri": "https://localhost:8080/",
          "height": 112
        },
        "id": "W5FVn9QmHpVZ",
        "outputId": "0e98a8fc-589a-4614-d60d-41aa3cae88e7"
      },
      "execution_count": null,
      "outputs": [
        {
          "output_type": "execute_result",
          "data": {
            "text/plain": [
              "  Region  TotalPrice\n",
              "0   East    21524.36\n",
              "1   West    11801.22"
            ],
            "text/html": [
              "\n",
              "  <div id=\"df-349dae29-bb1e-4369-8fb4-0caf02eb8aa2\">\n",
              "    <div class=\"colab-df-container\">\n",
              "      <div>\n",
              "<style scoped>\n",
              "    .dataframe tbody tr th:only-of-type {\n",
              "        vertical-align: middle;\n",
              "    }\n",
              "\n",
              "    .dataframe tbody tr th {\n",
              "        vertical-align: top;\n",
              "    }\n",
              "\n",
              "    .dataframe thead th {\n",
              "        text-align: right;\n",
              "    }\n",
              "</style>\n",
              "<table border=\"1\" class=\"dataframe\">\n",
              "  <thead>\n",
              "    <tr style=\"text-align: right;\">\n",
              "      <th></th>\n",
              "      <th>Region</th>\n",
              "      <th>TotalPrice</th>\n",
              "    </tr>\n",
              "  </thead>\n",
              "  <tbody>\n",
              "    <tr>\n",
              "      <th>0</th>\n",
              "      <td>East</td>\n",
              "      <td>21524.36</td>\n",
              "    </tr>\n",
              "    <tr>\n",
              "      <th>1</th>\n",
              "      <td>West</td>\n",
              "      <td>11801.22</td>\n",
              "    </tr>\n",
              "  </tbody>\n",
              "</table>\n",
              "</div>\n",
              "      <button class=\"colab-df-convert\" onclick=\"convertToInteractive('df-349dae29-bb1e-4369-8fb4-0caf02eb8aa2')\"\n",
              "              title=\"Convert this dataframe to an interactive table.\"\n",
              "              style=\"display:none;\">\n",
              "        \n",
              "  <svg xmlns=\"http://www.w3.org/2000/svg\" height=\"24px\"viewBox=\"0 0 24 24\"\n",
              "       width=\"24px\">\n",
              "    <path d=\"M0 0h24v24H0V0z\" fill=\"none\"/>\n",
              "    <path d=\"M18.56 5.44l.94 2.06.94-2.06 2.06-.94-2.06-.94-.94-2.06-.94 2.06-2.06.94zm-11 1L8.5 8.5l.94-2.06 2.06-.94-2.06-.94L8.5 2.5l-.94 2.06-2.06.94zm10 10l.94 2.06.94-2.06 2.06-.94-2.06-.94-.94-2.06-.94 2.06-2.06.94z\"/><path d=\"M17.41 7.96l-1.37-1.37c-.4-.4-.92-.59-1.43-.59-.52 0-1.04.2-1.43.59L10.3 9.45l-7.72 7.72c-.78.78-.78 2.05 0 2.83L4 21.41c.39.39.9.59 1.41.59.51 0 1.02-.2 1.41-.59l7.78-7.78 2.81-2.81c.8-.78.8-2.07 0-2.86zM5.41 20L4 18.59l7.72-7.72 1.47 1.35L5.41 20z\"/>\n",
              "  </svg>\n",
              "      </button>\n",
              "      \n",
              "  <style>\n",
              "    .colab-df-container {\n",
              "      display:flex;\n",
              "      flex-wrap:wrap;\n",
              "      gap: 12px;\n",
              "    }\n",
              "\n",
              "    .colab-df-convert {\n",
              "      background-color: #E8F0FE;\n",
              "      border: none;\n",
              "      border-radius: 50%;\n",
              "      cursor: pointer;\n",
              "      display: none;\n",
              "      fill: #1967D2;\n",
              "      height: 32px;\n",
              "      padding: 0 0 0 0;\n",
              "      width: 32px;\n",
              "    }\n",
              "\n",
              "    .colab-df-convert:hover {\n",
              "      background-color: #E2EBFA;\n",
              "      box-shadow: 0px 1px 2px rgba(60, 64, 67, 0.3), 0px 1px 3px 1px rgba(60, 64, 67, 0.15);\n",
              "      fill: #174EA6;\n",
              "    }\n",
              "\n",
              "    [theme=dark] .colab-df-convert {\n",
              "      background-color: #3B4455;\n",
              "      fill: #D2E3FC;\n",
              "    }\n",
              "\n",
              "    [theme=dark] .colab-df-convert:hover {\n",
              "      background-color: #434B5C;\n",
              "      box-shadow: 0px 1px 3px 1px rgba(0, 0, 0, 0.15);\n",
              "      filter: drop-shadow(0px 1px 2px rgba(0, 0, 0, 0.3));\n",
              "      fill: #FFFFFF;\n",
              "    }\n",
              "  </style>\n",
              "\n",
              "      <script>\n",
              "        const buttonEl =\n",
              "          document.querySelector('#df-349dae29-bb1e-4369-8fb4-0caf02eb8aa2 button.colab-df-convert');\n",
              "        buttonEl.style.display =\n",
              "          google.colab.kernel.accessAllowed ? 'block' : 'none';\n",
              "\n",
              "        async function convertToInteractive(key) {\n",
              "          const element = document.querySelector('#df-349dae29-bb1e-4369-8fb4-0caf02eb8aa2');\n",
              "          const dataTable =\n",
              "            await google.colab.kernel.invokeFunction('convertToInteractive',\n",
              "                                                     [key], {});\n",
              "          if (!dataTable) return;\n",
              "\n",
              "          const docLinkHtml = 'Like what you see? Visit the ' +\n",
              "            '<a target=\"_blank\" href=https://colab.research.google.com/notebooks/data_table.ipynb>data table notebook</a>'\n",
              "            + ' to learn more about interactive tables.';\n",
              "          element.innerHTML = '';\n",
              "          dataTable['output_type'] = 'display_data';\n",
              "          await google.colab.output.renderOutput(dataTable, element);\n",
              "          const docLink = document.createElement('div');\n",
              "          docLink.innerHTML = docLinkHtml;\n",
              "          element.appendChild(docLink);\n",
              "        }\n",
              "      </script>\n",
              "    </div>\n",
              "  </div>\n",
              "  "
            ]
          },
          "metadata": {},
          "execution_count": 48
        }
      ]
    },
    {
      "cell_type": "code",
      "source": [
        "#Use grouped data to create a barchart\n",
        "#matplot\n",
        "plt.barh(Region_price[\"Region\"],Region_price[\"TotalPrice\"])\n",
        "plt.show() \n",
        "\n"
      ],
      "metadata": {
        "colab": {
          "base_uri": "https://localhost:8080/",
          "height": 265
        },
        "id": "la-MB30iJKR1",
        "outputId": "df1bb881-42d5-456a-e9f4-eacceb48af4a"
      },
      "execution_count": null,
      "outputs": [
        {
          "output_type": "display_data",
          "data": {
            "text/plain": [
              "<Figure size 432x288 with 1 Axes>"
            ],
            "image/png": "[encoded data removed]"
          },
          "metadata": {
            "needs_background": "light"
          }
        }
      ]
    },
    {
      "cell_type": "code",
      "source": [
        "# use grouped data using seaborn\n",
        "# seaborn\n",
        "sns.barplot(Region_price[\"TotalPrice\"],Region_price[\"Region\"])\n",
        "plt.show()"
      ],
      "metadata": {
        "colab": {
          "base_uri": "https://localhost:8080/",
          "height": 335
        },
        "id": "ZEKHBT2AJ0On",
        "outputId": "5b45d3f4-b733-49cb-f567-d2ddda74039f"
      },
      "execution_count": null,
      "outputs": [
        {
          "output_type": "stream",
          "name": "stderr",
          "text": [
            "/usr/local/lib/python3.7/dist-packages/seaborn/_decorators.py:43: FutureWarning: Pass the following variables as keyword args: x, y. From version 0.12, the only valid positional argument will be `data`, and passing other arguments without an explicit keyword will result in an error or misinterpretation.\n",
            "  FutureWarning\n"
          ]
        },
        {
          "output_type": "display_data",
          "data": {
            "text/plain": [
              "<Figure size 432x288 with 1 Axes>"
            ],
            "image/png": "[encoded data removed]"
          },
          "metadata": {
            "needs_background": "light"
          }
        }
      ]
    },
    {
      "cell_type": "code",
      "source": [
        "# seaborn\n",
        "sns.barplot(x = \"TotalPrice\",y = \"Region\",data = Region_price)\n",
        "plt.show()"
      ],
      "metadata": {
        "colab": {
          "base_uri": "https://localhost:8080/",
          "height": 279
        },
        "id": "8fPf25IdKxGz",
        "outputId": "7142bea0-3df8-4513-93c0-89ba40e6e2c1"
      },
      "execution_count": null,
      "outputs": [
        {
          "output_type": "display_data",
          "data": {
            "text/plain": [
              "<Figure size 432x288 with 1 Axes>"
            ],
            "image/png": "[encoded data removed]"
          },
          "metadata": {
            "needs_background": "light"
          }
        }
      ]
    },
    {
      "cell_type": "code",
      "source": [
        "#adding aesthetics\n",
        "#matplot\n",
        "plt.barh(Region_price[\"Region\"],Region_price[\"TotalPrice\"])\n",
        "plt.title(\"Total price per Region\")\n",
        "plt.xlabel(\"TotalPrice\")\n",
        "plt.ylabel(\"Region\")\n",
        "plt.show()"
      ],
      "metadata": {
        "colab": {
          "base_uri": "https://localhost:8080/",
          "height": 295
        },
        "id": "7CTX4ZW_LG8U",
        "outputId": "fb399e38-403a-443f-83c3-bf58a847fbbc"
      },
      "execution_count": null,
      "outputs": [
        {
          "output_type": "display_data",
          "data": {
            "text/plain": [
              "<Figure size 432x288 with 1 Axes>"
            ],
            "image/png": "[encoded data removed]"
          },
          "metadata": {
            "needs_background": "light"
          }
        }
      ]
    },
    {
      "cell_type": "code",
      "source": [
        "#adding aesthetics\n",
        "#matplot\n",
        "plt.barh(Region_price[\"Region\"],Region_price[\"TotalPrice\"],color = [\"orange\",\"blue\"])\n",
        "plt.title(\"Total price per Region\")\n",
        "plt.xlabel(\"TotalPrice\")\n",
        "plt.ylabel(\"Region\")\n",
        "plt.grid(color = \"whitesmoke\",linestyle = \"dotted\",linewidth = 0.9)\n",
        "plt.show()"
      ],
      "metadata": {
        "colab": {
          "base_uri": "https://localhost:8080/",
          "height": 295
        },
        "id": "TuKFOgzQLuL1",
        "outputId": "abc16bc1-0304-4af7-eb46-98ac39032328"
      },
      "execution_count": null,
      "outputs": [
        {
          "output_type": "display_data",
          "data": {
            "text/plain": [
              "<Figure size 432x288 with 1 Axes>"
            ],
            "image/png": "[encoded data removed]"
          },
          "metadata": {
            "needs_background": "light"
          }
        }
      ]
    },
    {
      "cell_type": "code",
      "source": [
        "sns.barplot(x=\"TotalPrice\", y = \"Region\",data = Region_price, )\n",
        "plt.title('Total price per Region')\n",
        "plt.xlabel(\"TotalPrice\")\n",
        "plt.ylabel(\"Region\")\n",
        "plt.grid(color = \"whitesmoke\",linestyle = \"--\",linewidth = 0.5)\n",
        "plt.show()\n"
      ],
      "metadata": {
        "colab": {
          "base_uri": "https://localhost:8080/",
          "height": 295
        },
        "id": "ptPX91ROM-sL",
        "outputId": "787a9fa0-e240-47dd-8e68-b75b4d88ea37"
      },
      "execution_count": null,
      "outputs": [
        {
          "output_type": "display_data",
          "data": {
            "text/plain": [
              "<Figure size 432x288 with 1 Axes>"
            ],
            "image/png": "[encoded data removed]"
          },
          "metadata": {
            "needs_background": "light"
          }
        }
      ]
    },
    {
      "cell_type": "markdown",
      "source": [
        "Stacked column charts\n"
      ],
      "metadata": {
        "id": "f_uc37o-OIIn"
      }
    },
    {
      "cell_type": "markdown",
      "source": [
        "Creating pivot table"
      ],
      "metadata": {
        "id": "Cs0BIZ1yPq5a"
      }
    },
    {
      "cell_type": "code",
      "source": [
        "df_pivot = pd.pivot_table(df,values = \"TotalPrice\", index = \"Category\", columns = \"City\",aggfunc = np.mean)\n",
        "df_pivot"
      ],
      "metadata": {
        "colab": {
          "base_uri": "https://localhost:8080/",
          "height": 206
        },
        "id": "FG-M2nSUOKa1",
        "outputId": "2dee81aa-ce0c-48bc-d56b-00c78116fc1d"
      },
      "execution_count": null,
      "outputs": [
        {
          "output_type": "execute_result",
          "data": {
            "text/plain": [
              "City          Boston  Los Angeles    New York   San Diego\n",
              "Category                                                 \n",
              "Bars      114.482414   120.265417  116.738846   86.266667\n",
              "Cookies   202.546875   183.842273  191.000000  130.756842\n",
              "Crackers  149.043529    73.290000   98.418000   83.760000\n",
              "Snacks     93.030000    87.120000   58.836667   56.000000"
            ],
            "text/html": [
              "\n",
              "  <div id=\"df-3cb570cc-9396-412d-b77b-a6d14653f6cd\">\n",
              "    <div class=\"colab-df-container\">\n",
              "      <div>\n",
              "<style scoped>\n",
              "    .dataframe tbody tr th:only-of-type {\n",
              "        vertical-align: middle;\n",
              "    }\n",
              "\n",
              "    .dataframe tbody tr th {\n",
              "        vertical-align: top;\n",
              "    }\n",
              "\n",
              "    .dataframe thead th {\n",
              "        text-align: right;\n",
              "    }\n",
              "</style>\n",
              "<table border=\"1\" class=\"dataframe\">\n",
              "  <thead>\n",
              "    <tr style=\"text-align: right;\">\n",
              "      <th>City</th>\n",
              "      <th>Boston</th>\n",
              "      <th>Los Angeles</th>\n",
              "      <th>New York</th>\n",
              "      <th>San Diego</th>\n",
              "    </tr>\n",
              "    <tr>\n",
              "      <th>Category</th>\n",
              "      <th></th>\n",
              "      <th></th>\n",
              "      <th></th>\n",
              "      <th></th>\n",
              "    </tr>\n",
              "  </thead>\n",
              "  <tbody>\n",
              "    <tr>\n",
              "      <th>Bars</th>\n",
              "      <td>114.482414</td>\n",
              "      <td>120.265417</td>\n",
              "      <td>116.738846</td>\n",
              "      <td>86.266667</td>\n",
              "    </tr>\n",
              "    <tr>\n",
              "      <th>Cookies</th>\n",
              "      <td>202.546875</td>\n",
              "      <td>183.842273</td>\n",
              "      <td>191.000000</td>\n",
              "      <td>130.756842</td>\n",
              "    </tr>\n",
              "    <tr>\n",
              "      <th>Crackers</th>\n",
              "      <td>149.043529</td>\n",
              "      <td>73.290000</td>\n",
              "      <td>98.418000</td>\n",
              "      <td>83.760000</td>\n",
              "    </tr>\n",
              "    <tr>\n",
              "      <th>Snacks</th>\n",
              "      <td>93.030000</td>\n",
              "      <td>87.120000</td>\n",
              "      <td>58.836667</td>\n",
              "      <td>56.000000</td>\n",
              "    </tr>\n",
              "  </tbody>\n",
              "</table>\n",
              "</div>\n",
              "      <button class=\"colab-df-convert\" onclick=\"convertToInteractive('df-3cb570cc-9396-412d-b77b-a6d14653f6cd')\"\n",
              "              title=\"Convert this dataframe to an interactive table.\"\n",
              "              style=\"display:none;\">\n",
              "        \n",
              "  <svg xmlns=\"http://www.w3.org/2000/svg\" height=\"24px\"viewBox=\"0 0 24 24\"\n",
              "       width=\"24px\">\n",
              "    <path d=\"M0 0h24v24H0V0z\" fill=\"none\"/>\n",
              "    <path d=\"M18.56 5.44l.94 2.06.94-2.06 2.06-.94-2.06-.94-.94-2.06-.94 2.06-2.06.94zm-11 1L8.5 8.5l.94-2.06 2.06-.94-2.06-.94L8.5 2.5l-.94 2.06-2.06.94zm10 10l.94 2.06.94-2.06 2.06-.94-2.06-.94-.94-2.06-.94 2.06-2.06.94z\"/><path d=\"M17.41 7.96l-1.37-1.37c-.4-.4-.92-.59-1.43-.59-.52 0-1.04.2-1.43.59L10.3 9.45l-7.72 7.72c-.78.78-.78 2.05 0 2.83L4 21.41c.39.39.9.59 1.41.59.51 0 1.02-.2 1.41-.59l7.78-7.78 2.81-2.81c.8-.78.8-2.07 0-2.86zM5.41 20L4 18.59l7.72-7.72 1.47 1.35L5.41 20z\"/>\n",
              "  </svg>\n",
              "      </button>\n",
              "      \n",
              "  <style>\n",
              "    .colab-df-container {\n",
              "      display:flex;\n",
              "      flex-wrap:wrap;\n",
              "      gap: 12px;\n",
              "    }\n",
              "\n",
              "    .colab-df-convert {\n",
              "      background-color: #E8F0FE;\n",
              "      border: none;\n",
              "      border-radius: 50%;\n",
              "      cursor: pointer;\n",
              "      display: none;\n",
              "      fill: #1967D2;\n",
              "      height: 32px;\n",
              "      padding: 0 0 0 0;\n",
              "      width: 32px;\n",
              "    }\n",
              "\n",
              "    .colab-df-convert:hover {\n",
              "      background-color: #E2EBFA;\n",
              "      box-shadow: 0px 1px 2px rgba(60, 64, 67, 0.3), 0px 1px 3px 1px rgba(60, 64, 67, 0.15);\n",
              "      fill: #174EA6;\n",
              "    }\n",
              "\n",
              "    [theme=dark] .colab-df-convert {\n",
              "      background-color: #3B4455;\n",
              "      fill: #D2E3FC;\n",
              "    }\n",
              "\n",
              "    [theme=dark] .colab-df-convert:hover {\n",
              "      background-color: #434B5C;\n",
              "      box-shadow: 0px 1px 3px 1px rgba(0, 0, 0, 0.15);\n",
              "      filter: drop-shadow(0px 1px 2px rgba(0, 0, 0, 0.3));\n",
              "      fill: #FFFFFF;\n",
              "    }\n",
              "  </style>\n",
              "\n",
              "      <script>\n",
              "        const buttonEl =\n",
              "          document.querySelector('#df-3cb570cc-9396-412d-b77b-a6d14653f6cd button.colab-df-convert');\n",
              "        buttonEl.style.display =\n",
              "          google.colab.kernel.accessAllowed ? 'block' : 'none';\n",
              "\n",
              "        async function convertToInteractive(key) {\n",
              "          const element = document.querySelector('#df-3cb570cc-9396-412d-b77b-a6d14653f6cd');\n",
              "          const dataTable =\n",
              "            await google.colab.kernel.invokeFunction('convertToInteractive',\n",
              "                                                     [key], {});\n",
              "          if (!dataTable) return;\n",
              "\n",
              "          const docLinkHtml = 'Like what you see? Visit the ' +\n",
              "            '<a target=\"_blank\" href=https://colab.research.google.com/notebooks/data_table.ipynb>data table notebook</a>'\n",
              "            + ' to learn more about interactive tables.';\n",
              "          element.innerHTML = '';\n",
              "          dataTable['output_type'] = 'display_data';\n",
              "          await google.colab.output.renderOutput(dataTable, element);\n",
              "          const docLink = document.createElement('div');\n",
              "          docLink.innerHTML = docLinkHtml;\n",
              "          element.appendChild(docLink);\n",
              "        }\n",
              "      </script>\n",
              "    </div>\n",
              "  </div>\n",
              "  "
            ]
          },
          "metadata": {},
          "execution_count": 72
        }
      ]
    },
    {
      "cell_type": "code",
      "source": [
        "#matplotlib\n",
        "#grouped column chart\n",
        "ax = df_pivot.plot(kind = \"bar\", alpha = 0.9,color = [\"red\",\"green\",\"purple\",\"yellow\"])\n",
        "plt.title('Total sales  per City')\n",
        "plt.xlabel(None)\n",
        "plt.ylabel(\"Total Price\")\n",
        "plt.grid(color = \"whitesmoke\",linestyle = \"--\",linewidth = 0.5)\n",
        "plt.show()\n"
      ],
      "metadata": {
        "colab": {
          "base_uri": "https://localhost:8080/",
          "height": 315
        },
        "id": "gJdoFN55Ptu0",
        "outputId": "8718aa22-1a24-42c9-cc94-4eecd1a868b6"
      },
      "execution_count": null,
      "outputs": [
        {
          "output_type": "display_data",
          "data": {
            "text/plain": [
              "<Figure size 432x288 with 1 Axes>"
            ],
            "image/png": "[encoded data removed]"
          },
          "metadata": {
            "needs_background": "light"
          }
        }
      ]
    },
    {
      "cell_type": "code",
      "source": [
        "#seaborn stracked column\n",
        "sns.barplot(x=\"Category\",y = \"TotalPrice\",hue = \"City\", data = df, palette = \"Reds\")\n",
        "plt.title(\"Total sales per city\")\n",
        "plt.xlabel(None)\n",
        "plt.ylabel(\"Total Price\")\n",
        "plt.show()"
      ],
      "metadata": {
        "colab": {
          "base_uri": "https://localhost:8080/",
          "height": 281
        },
        "id": "RvNor-PCPu-j",
        "outputId": "8b8319b7-38e2-4385-e315-42c75260b95a"
      },
      "execution_count": null,
      "outputs": [
        {
          "output_type": "display_data",
          "data": {
            "text/plain": [
              "<Figure size 432x288 with 1 Axes>"
            ],
            "image/png": "[encoded data removed]"
          },
          "metadata": {
            "needs_background": "light"
          }
        }
      ]
    },
    {
      "cell_type": "code",
      "source": [
        "#grouping data\n",
        "City_price = df.groupby(\"City\")[\"TotalPrice\"].sum().to_frame().reset_index()\n",
        "City_price"
      ],
      "metadata": {
        "colab": {
          "base_uri": "https://localhost:8080/",
          "height": 175
        },
        "id": "zNeyLIJzTKYc",
        "outputId": "ff431fda-dd46-4cf1-e3ee-8ffad4bd78aa"
      },
      "execution_count": null,
      "outputs": [
        {
          "output_type": "execute_result",
          "data": {
            "text/plain": [
              "          City  TotalPrice\n",
              "0       Boston    13265.53\n",
              "1  Los Angeles     7687.32\n",
              "2     New York     8258.83\n",
              "3    San Diego     4113.90"
            ],
            "text/html": [
              "\n",
              "  <div id=\"df-1b7c8012-4726-42cf-a138-5fcfbc253a75\">\n",
              "    <div class=\"colab-df-container\">\n",
              "      <div>\n",
              "<style scoped>\n",
              "    .dataframe tbody tr th:only-of-type {\n",
              "        vertical-align: middle;\n",
              "    }\n",
              "\n",
              "    .dataframe tbody tr th {\n",
              "        vertical-align: top;\n",
              "    }\n",
              "\n",
              "    .dataframe thead th {\n",
              "        text-align: right;\n",
              "    }\n",
              "</style>\n",
              "<table border=\"1\" class=\"dataframe\">\n",
              "  <thead>\n",
              "    <tr style=\"text-align: right;\">\n",
              "      <th></th>\n",
              "      <th>City</th>\n",
              "      <th>TotalPrice</th>\n",
              "    </tr>\n",
              "  </thead>\n",
              "  <tbody>\n",
              "    <tr>\n",
              "      <th>0</th>\n",
              "      <td>Boston</td>\n",
              "      <td>13265.53</td>\n",
              "    </tr>\n",
              "    <tr>\n",
              "      <th>1</th>\n",
              "      <td>Los Angeles</td>\n",
              "      <td>7687.32</td>\n",
              "    </tr>\n",
              "    <tr>\n",
              "      <th>2</th>\n",
              "      <td>New York</td>\n",
              "      <td>8258.83</td>\n",
              "    </tr>\n",
              "    <tr>\n",
              "      <th>3</th>\n",
              "      <td>San Diego</td>\n",
              "      <td>4113.90</td>\n",
              "    </tr>\n",
              "  </tbody>\n",
              "</table>\n",
              "</div>\n",
              "      <button class=\"colab-df-convert\" onclick=\"convertToInteractive('df-1b7c8012-4726-42cf-a138-5fcfbc253a75')\"\n",
              "              title=\"Convert this dataframe to an interactive table.\"\n",
              "              style=\"display:none;\">\n",
              "        \n",
              "  <svg xmlns=\"http://www.w3.org/2000/svg\" height=\"24px\"viewBox=\"0 0 24 24\"\n",
              "       width=\"24px\">\n",
              "    <path d=\"M0 0h24v24H0V0z\" fill=\"none\"/>\n",
              "    <path d=\"M18.56 5.44l.94 2.06.94-2.06 2.06-.94-2.06-.94-.94-2.06-.94 2.06-2.06.94zm-11 1L8.5 8.5l.94-2.06 2.06-.94-2.06-.94L8.5 2.5l-.94 2.06-2.06.94zm10 10l.94 2.06.94-2.06 2.06-.94-2.06-.94-.94-2.06-.94 2.06-2.06.94z\"/><path d=\"M17.41 7.96l-1.37-1.37c-.4-.4-.92-.59-1.43-.59-.52 0-1.04.2-1.43.59L10.3 9.45l-7.72 7.72c-.78.78-.78 2.05 0 2.83L4 21.41c.39.39.9.59 1.41.59.51 0 1.02-.2 1.41-.59l7.78-7.78 2.81-2.81c.8-.78.8-2.07 0-2.86zM5.41 20L4 18.59l7.72-7.72 1.47 1.35L5.41 20z\"/>\n",
              "  </svg>\n",
              "      </button>\n",
              "      \n",
              "  <style>\n",
              "    .colab-df-container {\n",
              "      display:flex;\n",
              "      flex-wrap:wrap;\n",
              "      gap: 12px;\n",
              "    }\n",
              "\n",
              "    .colab-df-convert {\n",
              "      background-color: #E8F0FE;\n",
              "      border: none;\n",
              "      border-radius: 50%;\n",
              "      cursor: pointer;\n",
              "      display: none;\n",
              "      fill: #1967D2;\n",
              "      height: 32px;\n",
              "      padding: 0 0 0 0;\n",
              "      width: 32px;\n",
              "    }\n",
              "\n",
              "    .colab-df-convert:hover {\n",
              "      background-color: #E2EBFA;\n",
              "      box-shadow: 0px 1px 2px rgba(60, 64, 67, 0.3), 0px 1px 3px 1px rgba(60, 64, 67, 0.15);\n",
              "      fill: #174EA6;\n",
              "    }\n",
              "\n",
              "    [theme=dark] .colab-df-convert {\n",
              "      background-color: #3B4455;\n",
              "      fill: #D2E3FC;\n",
              "    }\n",
              "\n",
              "    [theme=dark] .colab-df-convert:hover {\n",
              "      background-color: #434B5C;\n",
              "      box-shadow: 0px 1px 3px 1px rgba(0, 0, 0, 0.15);\n",
              "      filter: drop-shadow(0px 1px 2px rgba(0, 0, 0, 0.3));\n",
              "      fill: #FFFFFF;\n",
              "    }\n",
              "  </style>\n",
              "\n",
              "      <script>\n",
              "        const buttonEl =\n",
              "          document.querySelector('#df-1b7c8012-4726-42cf-a138-5fcfbc253a75 button.colab-df-convert');\n",
              "        buttonEl.style.display =\n",
              "          google.colab.kernel.accessAllowed ? 'block' : 'none';\n",
              "\n",
              "        async function convertToInteractive(key) {\n",
              "          const element = document.querySelector('#df-1b7c8012-4726-42cf-a138-5fcfbc253a75');\n",
              "          const dataTable =\n",
              "            await google.colab.kernel.invokeFunction('convertToInteractive',\n",
              "                                                     [key], {});\n",
              "          if (!dataTable) return;\n",
              "\n",
              "          const docLinkHtml = 'Like what you see? Visit the ' +\n",
              "            '<a target=\"_blank\" href=https://colab.research.google.com/notebooks/data_table.ipynb>data table notebook</a>'\n",
              "            + ' to learn more about interactive tables.';\n",
              "          element.innerHTML = '';\n",
              "          dataTable['output_type'] = 'display_data';\n",
              "          await google.colab.output.renderOutput(dataTable, element);\n",
              "          const docLink = document.createElement('div');\n",
              "          docLink.innerHTML = docLinkHtml;\n",
              "          element.appendChild(docLink);\n",
              "        }\n",
              "      </script>\n",
              "    </div>\n",
              "  </div>\n",
              "  "
            ]
          },
          "metadata": {},
          "execution_count": 84
        }
      ]
    },
    {
      "cell_type": "code",
      "source": [
        "#defioning variables\n",
        "City_price = df.groupby(\"City\")[\"TotalPrice\"].sum().to_frame().reset_index()\n",
        "price_data = City_price[\"TotalPrice\"]\n",
        "city_data = City_price[\"City\"]\n"
      ],
      "metadata": {
        "id": "ebmG-qnRU_o5"
      },
      "execution_count": null,
      "outputs": []
    },
    {
      "cell_type": "code",
      "source": [
        "palette_colour = sns.color_palette(\"Blues\")\n",
        "plt.pie(price_data,labels = city_data, colors = palette_colour,autopct=\"%0.0f%%\")\n",
        "plt.show()"
      ],
      "metadata": {
        "colab": {
          "base_uri": "https://localhost:8080/",
          "height": 248
        },
        "id": "KSkYpgCEWMEa",
        "outputId": "b3227155-1d35-46fe-a709-40eaedf3fe62"
      },
      "execution_count": null,
      "outputs": [
        {
          "output_type": "display_data",
          "data": {
            "text/plain": [
              "<Figure size 432x288 with 1 Axes>"
            ],
            "image/png": "[encoded data removed]"
          },
          "metadata": {}
        }
      ]
    },
    {
      "cell_type": "markdown",
      "source": [
        "Blox Plots"
      ],
      "metadata": {
        "id": "9yJSlQaub-9w"
      }
    },
    {
      "cell_type": "code",
      "source": [
        "#matplotlib\n",
        "columns =[df[\"Quantity\"],df[\"TotalPrice\"]] \n",
        "plt.boxplot(columns)\n",
        "plt.show()\n",
        "#checking\n",
        "df[\"TotalPrice\"].max()\n",
        "df[\"Quantity\"].max()"
      ],
      "metadata": {
        "colab": {
          "base_uri": "https://localhost:8080/",
          "height": 283
        },
        "id": "Yk0A6g2IcA7O",
        "outputId": "bcbafac6-649e-47e7-c8d2-8e683e9bd2f8"
      },
      "execution_count": null,
      "outputs": [
        {
          "output_type": "display_data",
          "data": {
            "text/plain": [
              "<Figure size 432x288 with 1 Axes>"
            ],
            "image/png": "[encoded data removed]"
          },
          "metadata": {
            "needs_background": "light"
          }
        },
        {
          "output_type": "execute_result",
          "data": {
            "text/plain": [
              "306"
            ]
          },
          "metadata": {},
          "execution_count": 96
        }
      ]
    },
    {
      "cell_type": "code",
      "source": [
        "#Seaborn\n",
        "sns.boxplot(data = [df[\"Quantity\"],df[\"TotalPrice\"]],orient = \"v\")\n",
        "plt.show()\n"
      ],
      "metadata": {
        "colab": {
          "base_uri": "https://localhost:8080/",
          "height": 265
        },
        "id": "rS8Tu-KSb-dk",
        "outputId": "79794aed-c4d6-41bc-9aef-cbc855bbec9c"
      },
      "execution_count": null,
      "outputs": [
        {
          "output_type": "display_data",
          "data": {
            "text/plain": [
              "<Figure size 432x288 with 1 Axes>"
            ],
            "image/png": "[encoded data removed]"
          },
          "metadata": {
            "needs_background": "light"
          }
        }
      ]
    },
    {
      "cell_type": "markdown",
      "source": [
        "Line Chart"
      ],
      "metadata": {
        "id": "_19RvnSleg1o"
      }
    },
    {
      "cell_type": "code",
      "source": [
        "Data = {'Year': [1990,1995,2000,2010,2015,2020,],\n",
        "         'Population':[57,58,59,60,63,65,68]}\n",
        "df1= pd.DataFrame(Data,columns = [\"Year\",\"Population\"])# creating data frame\n",
        "plt.plot(df1[\"Year\"],df1[\"Population\"],color = \"blue\",marker = \"o\")\n",
        "plt.title(\"Population Vs Year\")\n",
        "plt.xlabel(\"Year\")\n",
        "plt.ylabel(\"Population\")\n",
        "plt.grid(color = \"blue\",linestyle= \"--\", linewidth = 0.5)\n",
        "plt.xticks(rotation = 45)\n",
        "plt.show()"
      ],
      "metadata": {
        "colab": {
          "base_uri": "https://localhost:8080/",
          "height": 133
        },
        "id": "sVHgZnCsel-D",
        "outputId": "c3dc045d-703b-4ce8-bf70-9a241d6a41af"
      },
      "execution_count": null,
      "outputs": [
        {
          "output_type": "error",
          "ename": "SyntaxError",
          "evalue": "ignored",
          "traceback": [
            "\u001b[0;36m  File \u001b[0;32m\"<ipython-input-107-65c961a4b6ba>\"\u001b[0;36m, line \u001b[0;32m4\u001b[0m\n\u001b[0;31m    plt.plot(df1[\"Year\",df1[\"Population\"],color = \"blue\",marker = \"o\")\u001b[0m\n\u001b[0m                                                ^\u001b[0m\n\u001b[0;31mSyntaxError\u001b[0m\u001b[0;31m:\u001b[0m invalid syntax\n"
          ]
        }
      ]
    },
    {
      "cell_type": "code",
      "source": [
        "Data = {'Year': [1990,1995,2000,2005,2010,2015,2020],\n",
        "        'Population': [57,58,59,60,63,65,68]\n",
        "       }\n",
        "df1=pd.DataFrame(Data,columns=[\"Year\",\"Population\"])#creating data frame\n",
        "plt.plot(df1[\"Year\"],df1[\"Population\"], color=\"slategrey\", marker=\"o\")\n",
        "plt.title(\"Population Vs Year\")\n",
        "plt.xlabel(\"Year\")\n",
        "plt.ylabel(\"Population\")\n",
        "plt.grid(color=\"lightgrey\", linestyle=\"--\",linewidth=0.5)\n",
        "plt.xticks(rotation=45)\n",
        "plt.show()"
      ],
      "metadata": {
        "colab": {
          "base_uri": "https://localhost:8080/",
          "height": 310
        },
        "id": "bYltYEjShIXe",
        "outputId": "ecf3be3b-d1d9-4907-f323-0bca620cc463"
      },
      "execution_count": null,
      "outputs": [
        {
          "output_type": "display_data",
          "data": {
            "text/plain": [
              "<Figure size 432x288 with 1 Axes>"
            ],
            "image/png": "[encoded data removed]"
          },
          "metadata": {
            "needs_background": "light"
          }
        }
      ]
    },
    {
      "cell_type": "code",
      "source": [
        "df_date = df.groupby(\"OrderDate\")[\"TotalPrice\"].sum().to_frame().reset_index()\n",
        "df_date\n",
        "plt.plot(df_date[\"OrderDate\"],df_date[\"TotalPrice\"],color = \"blue\",marker = \"o\")\n",
        "plt.show()"
      ],
      "metadata": {
        "colab": {
          "base_uri": "https://localhost:8080/",
          "height": 265
        },
        "id": "46t-TIJOhf35",
        "outputId": "ee165f4f-3891-429f-8662-5fb5e6eb4c62"
      },
      "execution_count": null,
      "outputs": [
        {
          "output_type": "display_data",
          "data": {
            "text/plain": [
              "<Figure size 432x288 with 1 Axes>"
            ],
            "image/png": "[encoded data removed]"
          },
          "metadata": {
            "needs_background": "light"
          }
        }
      ]
    },
    {
      "cell_type": "code",
      "source": [
        "df_date=df.groupby(\"OrderDate\")[\"TotalPrice\"].sum().to_frame().reset_index()\n",
        "df_date\n",
        "plt.plot(df_date[\"OrderDate\"],df_date[\"TotalPrice\"], color=\"blue\", marker=\"*\")\n",
        "plt.title(\"Total Price vs Year\")\n",
        "plt.xlabel(\"Order Date\")\n",
        "plt.ylabel(\"Total Price\")\n",
        "plt.grid(color=\"lightgrey\", linestyle=\"--\",linewidth=0.5)\n",
        "plt.xticks(rotation=45)\n",
        "plt.show()"
      ],
      "metadata": {
        "colab": {
          "base_uri": "https://localhost:8080/",
          "height": 322
        },
        "id": "wyVwiN_-lLFZ",
        "outputId": "370c18ca-5c11-45a7-ad53-ef3565d936b6"
      },
      "execution_count": null,
      "outputs": [
        {
          "output_type": "display_data",
          "data": {
            "text/plain": [
              "<Figure size 432x288 with 1 Axes>"
            ],
            "image/png": "[encoded data removed]"
          },
          "metadata": {
            "needs_background": "light"
          }
        }
      ]
    },
    {
      "cell_type": "code",
      "source": [
        "df_data = df.groupby(\"OrderDate\")[\"TotalPrice\"].sum().to_frame().reset_index()\n",
        "df_date\n",
        "sns.lineplot(data = df_date,x = \"OrdeDate\",y = \"Totalprice\",marker = \"o\",palette = \"Reds\")\n",
        "plt.title(\"Total Price vs Year\")\n",
        "plt.xlabel(\"Order Date\")\n",
        "plt.ylabel(\"Total Price\")\n",
        "plt.grid(color=\"lightgrey\", linestyle=\"--\",linewidth=0.5)\n",
        "plt.xticks(rotation=45)\n",
        "plt.show()"
      ],
      "metadata": {
        "colab": {
          "base_uri": "https://localhost:8080/",
          "height": 389
        },
        "id": "SCWiVqK1lUDY",
        "outputId": "0f54cc82-7701-475f-9656-19429d2a596b"
      },
      "execution_count": null,
      "outputs": [
        {
          "output_type": "error",
          "ename": "ValueError",
          "evalue": "ignored",
          "traceback": [
            "\u001b[0;31m---------------------------------------------------------------------------\u001b[0m",
            "\u001b[0;31mValueError\u001b[0m                                Traceback (most recent call last)",
            "\u001b[0;32m<ipython-input-115-46d013585fd2>\u001b[0m in \u001b[0;36m<module>\u001b[0;34m\u001b[0m\n\u001b[1;32m      1\u001b[0m \u001b[0mdf_data\u001b[0m \u001b[0;34m=\u001b[0m \u001b[0mdf\u001b[0m\u001b[0;34m.\u001b[0m\u001b[0mgroupby\u001b[0m\u001b[0;34m(\u001b[0m\u001b[0;34m\"OrderDate\"\u001b[0m\u001b[0;34m)\u001b[0m\u001b[0;34m[\u001b[0m\u001b[0;34m\"TotalPrice\"\u001b[0m\u001b[0;34m]\u001b[0m\u001b[0;34m.\u001b[0m\u001b[0msum\u001b[0m\u001b[0;34m(\u001b[0m\u001b[0;34m)\u001b[0m\u001b[0;34m.\u001b[0m\u001b[0mto_frame\u001b[0m\u001b[0;34m(\u001b[0m\u001b[0;34m)\u001b[0m\u001b[0;34m.\u001b[0m\u001b[0mreset_index\u001b[0m\u001b[0;34m(\u001b[0m\u001b[0;34m)\u001b[0m\u001b[0;34m\u001b[0m\u001b[0;34m\u001b[0m\u001b[0m\n\u001b[1;32m      2\u001b[0m \u001b[0mdf_date\u001b[0m\u001b[0;34m\u001b[0m\u001b[0;34m\u001b[0m\u001b[0m\n\u001b[0;32m----> 3\u001b[0;31m \u001b[0msns\u001b[0m\u001b[0;34m.\u001b[0m\u001b[0mlineplot\u001b[0m\u001b[0;34m(\u001b[0m\u001b[0mdata\u001b[0m \u001b[0;34m=\u001b[0m \u001b[0mdf_date\u001b[0m\u001b[0;34m,\u001b[0m\u001b[0mx\u001b[0m \u001b[0;34m=\u001b[0m \u001b[0;34m\"OrdeDate\"\u001b[0m\u001b[0;34m,\u001b[0m\u001b[0my\u001b[0m \u001b[0;34m=\u001b[0m \u001b[0;34m\"Totalprice\"\u001b[0m\u001b[0;34m,\u001b[0m\u001b[0mmarker\u001b[0m \u001b[0;34m=\u001b[0m \u001b[0;34m\"o\"\u001b[0m\u001b[0;34m,\u001b[0m\u001b[0mpalette\u001b[0m \u001b[0;34m=\u001b[0m \u001b[0;34m\"Reds\"\u001b[0m\u001b[0;34m)\u001b[0m\u001b[0;34m\u001b[0m\u001b[0;34m\u001b[0m\u001b[0m\n\u001b[0m\u001b[1;32m      4\u001b[0m \u001b[0mplt\u001b[0m\u001b[0;34m.\u001b[0m\u001b[0mtitle\u001b[0m\u001b[0;34m(\u001b[0m\u001b[0;34m\"Total Price vs Year\"\u001b[0m\u001b[0;34m)\u001b[0m\u001b[0;34m\u001b[0m\u001b[0;34m\u001b[0m\u001b[0m\n\u001b[1;32m      5\u001b[0m \u001b[0mplt\u001b[0m\u001b[0;34m.\u001b[0m\u001b[0mxlabel\u001b[0m\u001b[0;34m(\u001b[0m\u001b[0;34m\"Order Date\"\u001b[0m\u001b[0;34m)\u001b[0m\u001b[0;34m\u001b[0m\u001b[0;34m\u001b[0m\u001b[0m\n",
            "\u001b[0;32m/usr/local/lib/python3.7/dist-packages/seaborn/_decorators.py\u001b[0m in \u001b[0;36minner_f\u001b[0;34m(*args, **kwargs)\u001b[0m\n\u001b[1;32m     44\u001b[0m             )\n\u001b[1;32m     45\u001b[0m         \u001b[0mkwargs\u001b[0m\u001b[0;34m.\u001b[0m\u001b[0mupdate\u001b[0m\u001b[0;34m(\u001b[0m\u001b[0;34m{\u001b[0m\u001b[0mk\u001b[0m\u001b[0;34m:\u001b[0m \u001b[0marg\u001b[0m \u001b[0;32mfor\u001b[0m \u001b[0mk\u001b[0m\u001b[0;34m,\u001b[0m \u001b[0marg\u001b[0m \u001b[0;32min\u001b[0m \u001b[0mzip\u001b[0m\u001b[0;34m(\u001b[0m\u001b[0msig\u001b[0m\u001b[0;34m.\u001b[0m\u001b[0mparameters\u001b[0m\u001b[0;34m,\u001b[0m \u001b[0margs\u001b[0m\u001b[0;34m)\u001b[0m\u001b[0;34m}\u001b[0m\u001b[0;34m)\u001b[0m\u001b[0;34m\u001b[0m\u001b[0;34m\u001b[0m\u001b[0m\n\u001b[0;32m---> 46\u001b[0;31m         \u001b[0;32mreturn\u001b[0m \u001b[0mf\u001b[0m\u001b[0;34m(\u001b[0m\u001b[0;34m**\u001b[0m\u001b[0mkwargs\u001b[0m\u001b[0;34m)\u001b[0m\u001b[0;34m\u001b[0m\u001b[0;34m\u001b[0m\u001b[0m\n\u001b[0m\u001b[1;32m     47\u001b[0m     \u001b[0;32mreturn\u001b[0m \u001b[0minner_f\u001b[0m\u001b[0;34m\u001b[0m\u001b[0;34m\u001b[0m\u001b[0m\n\u001b[1;32m     48\u001b[0m \u001b[0;34m\u001b[0m\u001b[0m\n",
            "\u001b[0;32m/usr/local/lib/python3.7/dist-packages/seaborn/relational.py\u001b[0m in \u001b[0;36mlineplot\u001b[0;34m(x, y, hue, size, style, data, palette, hue_order, hue_norm, sizes, size_order, size_norm, dashes, markers, style_order, units, estimator, ci, n_boot, seed, sort, err_style, err_kws, legend, ax, **kwargs)\u001b[0m\n\u001b[1;32m    693\u001b[0m         \u001b[0mdata\u001b[0m\u001b[0;34m=\u001b[0m\u001b[0mdata\u001b[0m\u001b[0;34m,\u001b[0m \u001b[0mvariables\u001b[0m\u001b[0;34m=\u001b[0m\u001b[0mvariables\u001b[0m\u001b[0;34m,\u001b[0m\u001b[0;34m\u001b[0m\u001b[0;34m\u001b[0m\u001b[0m\n\u001b[1;32m    694\u001b[0m         \u001b[0mestimator\u001b[0m\u001b[0;34m=\u001b[0m\u001b[0mestimator\u001b[0m\u001b[0;34m,\u001b[0m \u001b[0mci\u001b[0m\u001b[0;34m=\u001b[0m\u001b[0mci\u001b[0m\u001b[0;34m,\u001b[0m \u001b[0mn_boot\u001b[0m\u001b[0;34m=\u001b[0m\u001b[0mn_boot\u001b[0m\u001b[0;34m,\u001b[0m \u001b[0mseed\u001b[0m\u001b[0;34m=\u001b[0m\u001b[0mseed\u001b[0m\u001b[0;34m,\u001b[0m\u001b[0;34m\u001b[0m\u001b[0;34m\u001b[0m\u001b[0m\n\u001b[0;32m--> 695\u001b[0;31m         \u001b[0msort\u001b[0m\u001b[0;34m=\u001b[0m\u001b[0msort\u001b[0m\u001b[0;34m,\u001b[0m \u001b[0merr_style\u001b[0m\u001b[0;34m=\u001b[0m\u001b[0merr_style\u001b[0m\u001b[0;34m,\u001b[0m \u001b[0merr_kws\u001b[0m\u001b[0;34m=\u001b[0m\u001b[0merr_kws\u001b[0m\u001b[0;34m,\u001b[0m \u001b[0mlegend\u001b[0m\u001b[0;34m=\u001b[0m\u001b[0mlegend\u001b[0m\u001b[0;34m,\u001b[0m\u001b[0;34m\u001b[0m\u001b[0;34m\u001b[0m\u001b[0m\n\u001b[0m\u001b[1;32m    696\u001b[0m     )\n\u001b[1;32m    697\u001b[0m \u001b[0;34m\u001b[0m\u001b[0m\n",
            "\u001b[0;32m/usr/local/lib/python3.7/dist-packages/seaborn/relational.py\u001b[0m in \u001b[0;36m__init__\u001b[0;34m(self, data, variables, estimator, ci, n_boot, seed, sort, err_style, err_kws, legend)\u001b[0m\n\u001b[1;32m    365\u001b[0m         )\n\u001b[1;32m    366\u001b[0m \u001b[0;34m\u001b[0m\u001b[0m\n\u001b[0;32m--> 367\u001b[0;31m         \u001b[0msuper\u001b[0m\u001b[0;34m(\u001b[0m\u001b[0;34m)\u001b[0m\u001b[0;34m.\u001b[0m\u001b[0m__init__\u001b[0m\u001b[0;34m(\u001b[0m\u001b[0mdata\u001b[0m\u001b[0;34m=\u001b[0m\u001b[0mdata\u001b[0m\u001b[0;34m,\u001b[0m \u001b[0mvariables\u001b[0m\u001b[0;34m=\u001b[0m\u001b[0mvariables\u001b[0m\u001b[0;34m)\u001b[0m\u001b[0;34m\u001b[0m\u001b[0;34m\u001b[0m\u001b[0m\n\u001b[0m\u001b[1;32m    368\u001b[0m \u001b[0;34m\u001b[0m\u001b[0m\n\u001b[1;32m    369\u001b[0m         \u001b[0mself\u001b[0m\u001b[0;34m.\u001b[0m\u001b[0mestimator\u001b[0m \u001b[0;34m=\u001b[0m \u001b[0mestimator\u001b[0m\u001b[0;34m\u001b[0m\u001b[0;34m\u001b[0m\u001b[0m\n",
            "\u001b[0;32m/usr/local/lib/python3.7/dist-packages/seaborn/_core.py\u001b[0m in \u001b[0;36m__init__\u001b[0;34m(self, data, variables)\u001b[0m\n\u001b[1;32m    603\u001b[0m     \u001b[0;32mdef\u001b[0m \u001b[0m__init__\u001b[0m\u001b[0;34m(\u001b[0m\u001b[0mself\u001b[0m\u001b[0;34m,\u001b[0m \u001b[0mdata\u001b[0m\u001b[0;34m=\u001b[0m\u001b[0;32mNone\u001b[0m\u001b[0;34m,\u001b[0m \u001b[0mvariables\u001b[0m\u001b[0;34m=\u001b[0m\u001b[0;34m{\u001b[0m\u001b[0;34m}\u001b[0m\u001b[0;34m)\u001b[0m\u001b[0;34m:\u001b[0m\u001b[0;34m\u001b[0m\u001b[0;34m\u001b[0m\u001b[0m\n\u001b[1;32m    604\u001b[0m \u001b[0;34m\u001b[0m\u001b[0m\n\u001b[0;32m--> 605\u001b[0;31m         \u001b[0mself\u001b[0m\u001b[0;34m.\u001b[0m\u001b[0massign_variables\u001b[0m\u001b[0;34m(\u001b[0m\u001b[0mdata\u001b[0m\u001b[0;34m,\u001b[0m \u001b[0mvariables\u001b[0m\u001b[0;34m)\u001b[0m\u001b[0;34m\u001b[0m\u001b[0;34m\u001b[0m\u001b[0m\n\u001b[0m\u001b[1;32m    606\u001b[0m \u001b[0;34m\u001b[0m\u001b[0m\n\u001b[1;32m    607\u001b[0m         \u001b[0;32mfor\u001b[0m \u001b[0mvar\u001b[0m\u001b[0;34m,\u001b[0m \u001b[0mcls\u001b[0m \u001b[0;32min\u001b[0m \u001b[0mself\u001b[0m\u001b[0;34m.\u001b[0m\u001b[0m_semantic_mappings\u001b[0m\u001b[0;34m.\u001b[0m\u001b[0mitems\u001b[0m\u001b[0;34m(\u001b[0m\u001b[0;34m)\u001b[0m\u001b[0;34m:\u001b[0m\u001b[0;34m\u001b[0m\u001b[0;34m\u001b[0m\u001b[0m\n",
            "\u001b[0;32m/usr/local/lib/python3.7/dist-packages/seaborn/_core.py\u001b[0m in \u001b[0;36massign_variables\u001b[0;34m(self, data, variables)\u001b[0m\n\u001b[1;32m    667\u001b[0m             \u001b[0mself\u001b[0m\u001b[0;34m.\u001b[0m\u001b[0minput_format\u001b[0m \u001b[0;34m=\u001b[0m \u001b[0;34m\"long\"\u001b[0m\u001b[0;34m\u001b[0m\u001b[0;34m\u001b[0m\u001b[0m\n\u001b[1;32m    668\u001b[0m             plot_data, variables = self._assign_variables_longform(\n\u001b[0;32m--> 669\u001b[0;31m                 \u001b[0mdata\u001b[0m\u001b[0;34m,\u001b[0m \u001b[0;34m**\u001b[0m\u001b[0mvariables\u001b[0m\u001b[0;34m,\u001b[0m\u001b[0;34m\u001b[0m\u001b[0;34m\u001b[0m\u001b[0m\n\u001b[0m\u001b[1;32m    670\u001b[0m             )\n\u001b[1;32m    671\u001b[0m \u001b[0;34m\u001b[0m\u001b[0m\n",
            "\u001b[0;32m/usr/local/lib/python3.7/dist-packages/seaborn/_core.py\u001b[0m in \u001b[0;36m_assign_variables_longform\u001b[0;34m(self, data, **kwargs)\u001b[0m\n\u001b[1;32m    901\u001b[0m \u001b[0;34m\u001b[0m\u001b[0m\n\u001b[1;32m    902\u001b[0m                 \u001b[0merr\u001b[0m \u001b[0;34m=\u001b[0m \u001b[0;34mf\"Could not interpret value `{val}` for parameter `{key}`\"\u001b[0m\u001b[0;34m\u001b[0m\u001b[0;34m\u001b[0m\u001b[0m\n\u001b[0;32m--> 903\u001b[0;31m                 \u001b[0;32mraise\u001b[0m \u001b[0mValueError\u001b[0m\u001b[0;34m(\u001b[0m\u001b[0merr\u001b[0m\u001b[0;34m)\u001b[0m\u001b[0;34m\u001b[0m\u001b[0;34m\u001b[0m\u001b[0m\n\u001b[0m\u001b[1;32m    904\u001b[0m \u001b[0;34m\u001b[0m\u001b[0m\n\u001b[1;32m    905\u001b[0m             \u001b[0;32melse\u001b[0m\u001b[0;34m:\u001b[0m\u001b[0;34m\u001b[0m\u001b[0;34m\u001b[0m\u001b[0m\n",
            "\u001b[0;31mValueError\u001b[0m: Could not interpret value `OrdeDate` for parameter `x`"
          ]
        }
      ]
    },
    {
      "cell_type": "code",
      "source": [
        "#seaborn\n",
        "df_date=df.groupby(\"OrderDate\")[\"TotalPrice\"].sum().to_frame().reset_index()\n",
        "df_date\n",
        "sns.lineplot(data=df_date,x=\"OrderDate\",y=\"TotalPrice\", marker=\"o\")\n",
        "plt.title(\"Total Price vs Year\")\n",
        "plt.xlabel(\"Order Date\")\n",
        "plt.ylabel(\"Total Price\")\n",
        "plt.grid(color=\"lightgrey\", linestyle=\"--\",linewidth=0.5)\n",
        "plt.xticks(rotation=45)\n",
        "plt.show()"
      ],
      "metadata": {
        "colab": {
          "base_uri": "https://localhost:8080/",
          "height": 322
        },
        "id": "wMU7B-FCmWOk",
        "outputId": "dff41016-9408-4d0c-b1e6-c0d08da3b781"
      },
      "execution_count": null,
      "outputs": [
        {
          "output_type": "display_data",
          "data": {
            "text/plain": [
              "<Figure size 432x288 with 1 Axes>"
            ],
            "image/png": "[encoded data removed]"
          },
          "metadata": {
            "needs_background": "light"
          }
        }
      ]
    },
    {
      "cell_type": "code",
      "source": [
        "date = pd.to_datetime(\"4th of July,2015\")\n",
        "date"
      ],
      "metadata": {
        "colab": {
          "base_uri": "https://localhost:8080/"
        },
        "id": "d6ik-S93maiK",
        "outputId": "09fa470b-2c88-4c16-d6fa-a1cc68c1cb69"
      },
      "execution_count": null,
      "outputs": [
        {
          "output_type": "execute_result",
          "data": {
            "text/plain": [
              "Timestamp('2015-07-04 00:00:00')"
            ]
          },
          "metadata": {},
          "execution_count": 117
        }
      ]
    },
    {
      "cell_type": "code",
      "source": [
        "date = pd.to_datetime(\"07/04/2015\")\n",
        "date"
      ],
      "metadata": {
        "colab": {
          "base_uri": "https://localhost:8080/"
        },
        "id": "gzCwlG5-nwLp",
        "outputId": "2c0b2297-5de9-4476-fec3-36e860a5f32d"
      },
      "execution_count": null,
      "outputs": [
        {
          "output_type": "execute_result",
          "data": {
            "text/plain": [
              "Timestamp('2015-07-04 00:00:00')"
            ]
          },
          "metadata": {},
          "execution_count": 118
        }
      ]
    },
    {
      "cell_type": "code",
      "source": [
        "#\"%A\" - day\n",
        "date.strftime(\"%A\")"
      ],
      "metadata": {
        "colab": {
          "base_uri": "https://localhost:8080/",
          "height": 35
        },
        "id": "Ega376Yqn6A9",
        "outputId": "ea3a66be-0d7d-4822-cb2a-b7a38ee237fc"
      },
      "execution_count": null,
      "outputs": [
        {
          "output_type": "execute_result",
          "data": {
            "text/plain": [
              "'Saturday'"
            ],
            "application/vnd.google.colaboratory.intrinsic+json": {
              "type": "string"
            }
          },
          "metadata": {},
          "execution_count": 120
        }
      ]
    },
    {
      "cell_type": "code",
      "source": [
        "#\"%B\"-month\n",
        "date.strftime(\"%B\")"
      ],
      "metadata": {
        "colab": {
          "base_uri": "https://localhost:8080/",
          "height": 35
        },
        "id": "_NmM8yuCoQ4U",
        "outputId": "88c052ce-f20e-42c1-801f-18c1136d099c"
      },
      "execution_count": null,
      "outputs": [
        {
          "output_type": "execute_result",
          "data": {
            "text/plain": [
              "'July'"
            ],
            "application/vnd.google.colaboratory.intrinsic+json": {
              "type": "string"
            }
          },
          "metadata": {},
          "execution_count": 121
        }
      ]
    },
    {
      "cell_type": "code",
      "source": [
        "date + pd.to_timedelta(np.arange(12),\"D\")"
      ],
      "metadata": {
        "colab": {
          "base_uri": "https://localhost:8080/"
        },
        "id": "A0UHcKvmoZpU",
        "outputId": "1e19d708-2476-4610-c127-69e9499f40e5"
      },
      "execution_count": null,
      "outputs": [
        {
          "output_type": "execute_result",
          "data": {
            "text/plain": [
              "DatetimeIndex(['2015-07-04', '2015-07-05', '2015-07-06', '2015-07-07',\n",
              "               '2015-07-08', '2015-07-09', '2015-07-10', '2015-07-11',\n",
              "               '2015-07-12', '2015-07-13', '2015-07-14', '2015-07-15'],\n",
              "              dtype='datetime64[ns]', freq=None)"
            ]
          },
          "metadata": {},
          "execution_count": 122
        }
      ]
    },
    {
      "cell_type": "markdown",
      "source": [
        "Using now() function in datetime, can you print the day and year from the date?\n",
        "Using the current time and date, print the next 10 minutes\n",
        "The figure below is an example showing the next 10 minutes from the current time"
      ],
      "metadata": {
        "id": "p5LOYKxVpKNk"
      }
    },
    {
      "cell_type": "code",
      "source": [
        "import datetime\n",
        "datetime.datetime.now()"
      ],
      "metadata": {
        "colab": {
          "base_uri": "https://localhost:8080/"
        },
        "id": "K-cuWq3_pLxK",
        "outputId": "8aceb015-b4af-4dea-f64a-f286b4c147d3"
      },
      "execution_count": null,
      "outputs": [
        {
          "output_type": "execute_result",
          "data": {
            "text/plain": [
              "datetime.datetime(2022, 11, 16, 13, 35, 13, 443990)"
            ]
          },
          "metadata": {},
          "execution_count": 125
        }
      ]
    },
    {
      "cell_type": "code",
      "source": [
        "x = datetime.datetime.now()\n",
        "x + pd.to_timedelta(np.arange(10),\"Minute\")"
      ],
      "metadata": {
        "colab": {
          "base_uri": "https://localhost:8080/"
        },
        "id": "LE5J_bIhp-x_",
        "outputId": "1b1c4033-2f00-45e7-cdcc-69309bfda5cc"
      },
      "execution_count": null,
      "outputs": [
        {
          "output_type": "execute_result",
          "data": {
            "text/plain": [
              "DatetimeIndex(['2022-11-16 13:39:14.480264', '2022-11-16 13:40:14.480264',\n",
              "               '2022-11-16 13:41:14.480264', '2022-11-16 13:42:14.480264',\n",
              "               '2022-11-16 13:43:14.480264', '2022-11-16 13:44:14.480264',\n",
              "               '2022-11-16 13:45:14.480264', '2022-11-16 13:46:14.480264',\n",
              "               '2022-11-16 13:47:14.480264', '2022-11-16 13:48:14.480264'],\n",
              "              dtype='datetime64[ns]', freq=None)"
            ]
          },
          "metadata": {},
          "execution_count": 126
        }
      ]
    },
    {
      "cell_type": "code",
      "source": [
        "index = pd.DatetimeIndex([\"2022-10-13\",\"2022-11-13\",\"2023-10-13\",\"2023-11-13\"])\n",
        "data = pd.Series([0,1,2,3],index = index)\n",
        "data"
      ],
      "metadata": {
        "colab": {
          "base_uri": "https://localhost:8080/"
        },
        "id": "JJQ2U8otrBU1",
        "outputId": "72c09e5a-b6f9-45f4-d45c-7e73e6e4fa57"
      },
      "execution_count": null,
      "outputs": [
        {
          "output_type": "execute_result",
          "data": {
            "text/plain": [
              "2022-10-13    0\n",
              "2022-11-13    1\n",
              "2023-10-13    2\n",
              "2023-11-13    3\n",
              "dtype: int64"
            ]
          },
          "metadata": {},
          "execution_count": 127
        }
      ]
    },
    {
      "cell_type": "code",
      "source": [
        "#slicing\n",
        "data[\"2022-10-13\": \"2023-10-13\"]"
      ],
      "metadata": {
        "colab": {
          "base_uri": "https://localhost:8080/"
        },
        "id": "OSauoAsPrkom",
        "outputId": "6e65182e-72ac-43be-9181-6cc57fd0f11e"
      },
      "execution_count": null,
      "outputs": [
        {
          "output_type": "execute_result",
          "data": {
            "text/plain": [
              "2022-10-13    0\n",
              "2022-11-13    1\n",
              "2023-10-13    2\n",
              "dtype: int64"
            ]
          },
          "metadata": {},
          "execution_count": 128
        }
      ]
    },
    {
      "cell_type": "code",
      "source": [
        "#Regular sequence\n",
        "pd.date_range('2015-07-03','2015-07-10')"
      ],
      "metadata": {
        "colab": {
          "base_uri": "https://localhost:8080/"
        },
        "id": "X4UWAOz-r1ik",
        "outputId": "0f1cc70f-10e4-416b-fcda-746747845087"
      },
      "execution_count": null,
      "outputs": [
        {
          "output_type": "execute_result",
          "data": {
            "text/plain": [
              "DatetimeIndex(['2015-07-03', '2015-07-04', '2015-07-05', '2015-07-06',\n",
              "               '2015-07-07', '2015-07-08', '2015-07-09', '2015-07-10'],\n",
              "              dtype='datetime64[ns]', freq='D')"
            ]
          },
          "metadata": {},
          "execution_count": 130
        }
      ]
    },
    {
      "cell_type": "code",
      "source": [
        "pd.date_range('2015-07-03','2015-07-10',freq = \"H\")"
      ],
      "metadata": {
        "colab": {
          "base_uri": "https://localhost:8080/"
        },
        "id": "vY_1rG-isin4",
        "outputId": "f5b6dd08-47b9-4e8a-8ae4-bce7af290ac1"
      },
      "execution_count": null,
      "outputs": [
        {
          "output_type": "execute_result",
          "data": {
            "text/plain": [
              "DatetimeIndex(['2015-07-03 00:00:00', '2015-07-03 01:00:00',\n",
              "               '2015-07-03 02:00:00', '2015-07-03 03:00:00',\n",
              "               '2015-07-03 04:00:00', '2015-07-03 05:00:00',\n",
              "               '2015-07-03 06:00:00', '2015-07-03 07:00:00',\n",
              "               '2015-07-03 08:00:00', '2015-07-03 09:00:00',\n",
              "               ...\n",
              "               '2015-07-09 15:00:00', '2015-07-09 16:00:00',\n",
              "               '2015-07-09 17:00:00', '2015-07-09 18:00:00',\n",
              "               '2015-07-09 19:00:00', '2015-07-09 20:00:00',\n",
              "               '2015-07-09 21:00:00', '2015-07-09 22:00:00',\n",
              "               '2015-07-09 23:00:00', '2015-07-10 00:00:00'],\n",
              "              dtype='datetime64[ns]', length=169, freq='H')"
            ]
          },
          "metadata": {},
          "execution_count": 131
        }
      ]
    },
    {
      "cell_type": "code",
      "source": [
        "pd.date_range('2015-07-03','2015-07-10',freq = \"D\")"
      ],
      "metadata": {
        "colab": {
          "base_uri": "https://localhost:8080/"
        },
        "id": "dMUToVe3sobF",
        "outputId": "2f6df2fe-6289-4816-c3bc-59f6b975777c"
      },
      "execution_count": null,
      "outputs": [
        {
          "output_type": "execute_result",
          "data": {
            "text/plain": [
              "DatetimeIndex(['2015-07-03', '2015-07-04', '2015-07-05', '2015-07-06',\n",
              "               '2015-07-07', '2015-07-08', '2015-07-09', '2015-07-10'],\n",
              "              dtype='datetime64[ns]', freq='D')"
            ]
          },
          "metadata": {},
          "execution_count": 132
        }
      ]
    },
    {
      "cell_type": "code",
      "source": [
        "pd.date_range('2015-07-03', periods=8)"
      ],
      "metadata": {
        "colab": {
          "base_uri": "https://localhost:8080/"
        },
        "id": "dYNyPfC8tAC-",
        "outputId": "56873445-f473-4a3a-d962-34d4af06fcbf"
      },
      "execution_count": null,
      "outputs": [
        {
          "output_type": "execute_result",
          "data": {
            "text/plain": [
              "DatetimeIndex(['2015-07-03', '2015-07-04', '2015-07-05', '2015-07-06',\n",
              "               '2015-07-07', '2015-07-08', '2015-07-09', '2015-07-10'],\n",
              "              dtype='datetime64[ns]', freq='D')"
            ]
          },
          "metadata": {},
          "execution_count": 135
        }
      ]
    },
    {
      "cell_type": "code",
      "source": [
        "pd.date_range('2015-07-03', periods=8,freq =\"H\")"
      ],
      "metadata": {
        "colab": {
          "base_uri": "https://localhost:8080/"
        },
        "id": "iVdoaV7Rtf8z",
        "outputId": "c4f8da15-b057-4dc2-9355-14776aff5e08"
      },
      "execution_count": null,
      "outputs": [
        {
          "output_type": "execute_result",
          "data": {
            "text/plain": [
              "DatetimeIndex(['2015-07-03 00:00:00', '2015-07-03 01:00:00',\n",
              "               '2015-07-03 02:00:00', '2015-07-03 03:00:00',\n",
              "               '2015-07-03 04:00:00', '2015-07-03 05:00:00',\n",
              "               '2015-07-03 06:00:00', '2015-07-03 07:00:00'],\n",
              "              dtype='datetime64[ns]', freq='H')"
            ]
          },
          "metadata": {},
          "execution_count": 137
        }
      ]
    },
    {
      "cell_type": "markdown",
      "source": [
        "pd.date_range() , pd.period_range() for periods, and pd.timedelta_range() ."
      ],
      "metadata": {
        "id": "UY9lGlRctwyo"
      }
    },
    {
      "cell_type": "markdown",
      "source": [
        "Data Cleansing"
      ],
      "metadata": {
        "id": "kDcyLu7YxFnX"
      }
    },
    {
      "cell_type": "code",
      "source": [
        "df2 = pd.read_csv(\"/content/drive/MyDrive/Food samples.csv\")\n"
      ],
      "metadata": {
        "id": "vOS6udGPxISX"
      },
      "execution_count": null,
      "outputs": []
    },
    {
      "cell_type": "code",
      "source": [
        "# checking for missing values\n",
        "df2.isnull().sum()\n"
      ],
      "metadata": {
        "colab": {
          "base_uri": "https://localhost:8080/"
        },
        "id": "Gm7FAFZ_zLCi",
        "outputId": "c3578942-34f2-439d-8b00-5bea96a6d6d6"
      },
      "execution_count": null,
      "outputs": [
        {
          "output_type": "execute_result",
          "data": {
            "text/plain": [
              "id           0\n",
              "OrderDate    1\n",
              "Region       0\n",
              "City         1\n",
              "Category     1\n",
              "Product      1\n",
              "Quantity     1\n",
              "UnitPrice    1\n",
              "dtype: int64"
            ]
          },
          "metadata": {},
          "execution_count": 145
        }
      ]
    },
    {
      "cell_type": "code",
      "source": [
        "df2.loc[df2.isnull().any(axis=1)]"
      ],
      "metadata": {
        "colab": {
          "base_uri": "https://localhost:8080/",
          "height": 81
        },
        "id": "KFEUshaVzONF",
        "outputId": "a3e8334c-e6f6-40d7-9ff1-06d487ed0641"
      },
      "execution_count": null,
      "outputs": [
        {
          "output_type": "execute_result",
          "data": {
            "text/plain": [
              "   id OrderDate Region City Category Product  Quantity  UnitPrice\n",
              "4   5       NaN   East  NaN      NaN     NaN       NaN        NaN"
            ],
            "text/html": [
              "\n",
              "  <div id=\"df-960e1943-7edf-4c8e-a901-65aa7316096f\">\n",
              "    <div class=\"colab-df-container\">\n",
              "      <div>\n",
              "<style scoped>\n",
              "    .dataframe tbody tr th:only-of-type {\n",
              "        vertical-align: middle;\n",
              "    }\n",
              "\n",
              "    .dataframe tbody tr th {\n",
              "        vertical-align: top;\n",
              "    }\n",
              "\n",
              "    .dataframe thead th {\n",
              "        text-align: right;\n",
              "    }\n",
              "</style>\n",
              "<table border=\"1\" class=\"dataframe\">\n",
              "  <thead>\n",
              "    <tr style=\"text-align: right;\">\n",
              "      <th></th>\n",
              "      <th>id</th>\n",
              "      <th>OrderDate</th>\n",
              "      <th>Region</th>\n",
              "      <th>City</th>\n",
              "      <th>Category</th>\n",
              "      <th>Product</th>\n",
              "      <th>Quantity</th>\n",
              "      <th>UnitPrice</th>\n",
              "    </tr>\n",
              "  </thead>\n",
              "  <tbody>\n",
              "    <tr>\n",
              "      <th>4</th>\n",
              "      <td>5</td>\n",
              "      <td>NaN</td>\n",
              "      <td>East</td>\n",
              "      <td>NaN</td>\n",
              "      <td>NaN</td>\n",
              "      <td>NaN</td>\n",
              "      <td>NaN</td>\n",
              "      <td>NaN</td>\n",
              "    </tr>\n",
              "  </tbody>\n",
              "</table>\n",
              "</div>\n",
              "      <button class=\"colab-df-convert\" onclick=\"convertToInteractive('df-960e1943-7edf-4c8e-a901-65aa7316096f')\"\n",
              "              title=\"Convert this dataframe to an interactive table.\"\n",
              "              style=\"display:none;\">\n",
              "        \n",
              "  <svg xmlns=\"http://www.w3.org/2000/svg\" height=\"24px\"viewBox=\"0 0 24 24\"\n",
              "       width=\"24px\">\n",
              "    <path d=\"M0 0h24v24H0V0z\" fill=\"none\"/>\n",
              "    <path d=\"M18.56 5.44l.94 2.06.94-2.06 2.06-.94-2.06-.94-.94-2.06-.94 2.06-2.06.94zm-11 1L8.5 8.5l.94-2.06 2.06-.94-2.06-.94L8.5 2.5l-.94 2.06-2.06.94zm10 10l.94 2.06.94-2.06 2.06-.94-2.06-.94-.94-2.06-.94 2.06-2.06.94z\"/><path d=\"M17.41 7.96l-1.37-1.37c-.4-.4-.92-.59-1.43-.59-.52 0-1.04.2-1.43.59L10.3 9.45l-7.72 7.72c-.78.78-.78 2.05 0 2.83L4 21.41c.39.39.9.59 1.41.59.51 0 1.02-.2 1.41-.59l7.78-7.78 2.81-2.81c.8-.78.8-2.07 0-2.86zM5.41 20L4 18.59l7.72-7.72 1.47 1.35L5.41 20z\"/>\n",
              "  </svg>\n",
              "      </button>\n",
              "      \n",
              "  <style>\n",
              "    .colab-df-container {\n",
              "      display:flex;\n",
              "      flex-wrap:wrap;\n",
              "      gap: 12px;\n",
              "    }\n",
              "\n",
              "    .colab-df-convert {\n",
              "      background-color: #E8F0FE;\n",
              "      border: none;\n",
              "      border-radius: 50%;\n",
              "      cursor: pointer;\n",
              "      display: none;\n",
              "      fill: #1967D2;\n",
              "      height: 32px;\n",
              "      padding: 0 0 0 0;\n",
              "      width: 32px;\n",
              "    }\n",
              "\n",
              "    .colab-df-convert:hover {\n",
              "      background-color: #E2EBFA;\n",
              "      box-shadow: 0px 1px 2px rgba(60, 64, 67, 0.3), 0px 1px 3px 1px rgba(60, 64, 67, 0.15);\n",
              "      fill: #174EA6;\n",
              "    }\n",
              "\n",
              "    [theme=dark] .colab-df-convert {\n",
              "      background-color: #3B4455;\n",
              "      fill: #D2E3FC;\n",
              "    }\n",
              "\n",
              "    [theme=dark] .colab-df-convert:hover {\n",
              "      background-color: #434B5C;\n",
              "      box-shadow: 0px 1px 3px 1px rgba(0, 0, 0, 0.15);\n",
              "      filter: drop-shadow(0px 1px 2px rgba(0, 0, 0, 0.3));\n",
              "      fill: #FFFFFF;\n",
              "    }\n",
              "  </style>\n",
              "\n",
              "      <script>\n",
              "        const buttonEl =\n",
              "          document.querySelector('#df-960e1943-7edf-4c8e-a901-65aa7316096f button.colab-df-convert');\n",
              "        buttonEl.style.display =\n",
              "          google.colab.kernel.accessAllowed ? 'block' : 'none';\n",
              "\n",
              "        async function convertToInteractive(key) {\n",
              "          const element = document.querySelector('#df-960e1943-7edf-4c8e-a901-65aa7316096f');\n",
              "          const dataTable =\n",
              "            await google.colab.kernel.invokeFunction('convertToInteractive',\n",
              "                                                     [key], {});\n",
              "          if (!dataTable) return;\n",
              "\n",
              "          const docLinkHtml = 'Like what you see? Visit the ' +\n",
              "            '<a target=\"_blank\" href=https://colab.research.google.com/notebooks/data_table.ipynb>data table notebook</a>'\n",
              "            + ' to learn more about interactive tables.';\n",
              "          element.innerHTML = '';\n",
              "          dataTable['output_type'] = 'display_data';\n",
              "          await google.colab.output.renderOutput(dataTable, element);\n",
              "          const docLink = document.createElement('div');\n",
              "          docLink.innerHTML = docLinkHtml;\n",
              "          element.appendChild(docLink);\n",
              "        }\n",
              "      </script>\n",
              "    </div>\n",
              "  </div>\n",
              "  "
            ]
          },
          "metadata": {},
          "execution_count": 146
        }
      ]
    },
    {
      "cell_type": "code",
      "source": [
        "#drop nan\n",
        "#reset index after drop\n",
        "df2 =df2.dropna().reset_index(drop=True)\n",
        "df2"
      ],
      "metadata": {
        "colab": {
          "base_uri": "https://localhost:8080/",
          "height": 269
        },
        "id": "eWaTI5lKzVMe",
        "outputId": "d78a03d6-62dc-4064-ea8c-50e8a5c1bb16"
      },
      "execution_count": null,
      "outputs": [
        {
          "output_type": "execute_result",
          "data": {
            "text/plain": [
              "   id  OrderDate Region         City  Category         Product  Quantity  \\\n",
              "0   1   1/1/2020   East       Boston      Bars          Carrot      33.0   \n",
              "1   2   1/4/2020   East       Boston  Crackers     Whole Wheat      87.0   \n",
              "2   3   1/7/2020   West  Los Angeles   Cookies  Chocolate Chip      58.0   \n",
              "3   4  1/10/2020   East     New York   Cookies  Chocolate Chip      82.0   \n",
              "4   6  1/16/2020   East       Boston      Bars          Carrot      54.0   \n",
              "5   7  1/19/2020   East       Boston  Crackers     Whole Wheat     149.0   \n",
              "6   8  1/22/2020   West  Los Angeles      Bars          Carrot      51.0   \n",
              "\n",
              "   UnitPrice  \n",
              "0       1.77  \n",
              "1       3.49  \n",
              "2       1.87  \n",
              "3       1.87  \n",
              "4       1.77  \n",
              "5       3.49  \n",
              "6       1.77  "
            ],
            "text/html": [
              "\n",
              "  <div id=\"df-ba9ccd1c-4263-463e-ab23-dbe253c9a350\">\n",
              "    <div class=\"colab-df-container\">\n",
              "      <div>\n",
              "<style scoped>\n",
              "    .dataframe tbody tr th:only-of-type {\n",
              "        vertical-align: middle;\n",
              "    }\n",
              "\n",
              "    .dataframe tbody tr th {\n",
              "        vertical-align: top;\n",
              "    }\n",
              "\n",
              "    .dataframe thead th {\n",
              "        text-align: right;\n",
              "    }\n",
              "</style>\n",
              "<table border=\"1\" class=\"dataframe\">\n",
              "  <thead>\n",
              "    <tr style=\"text-align: right;\">\n",
              "      <th></th>\n",
              "      <th>id</th>\n",
              "      <th>OrderDate</th>\n",
              "      <th>Region</th>\n",
              "      <th>City</th>\n",
              "      <th>Category</th>\n",
              "      <th>Product</th>\n",
              "      <th>Quantity</th>\n",
              "      <th>UnitPrice</th>\n",
              "    </tr>\n",
              "  </thead>\n",
              "  <tbody>\n",
              "    <tr>\n",
              "      <th>0</th>\n",
              "      <td>1</td>\n",
              "      <td>1/1/2020</td>\n",
              "      <td>East</td>\n",
              "      <td>Boston</td>\n",
              "      <td>Bars</td>\n",
              "      <td>Carrot</td>\n",
              "      <td>33.0</td>\n",
              "      <td>1.77</td>\n",
              "    </tr>\n",
              "    <tr>\n",
              "      <th>1</th>\n",
              "      <td>2</td>\n",
              "      <td>1/4/2020</td>\n",
              "      <td>East</td>\n",
              "      <td>Boston</td>\n",
              "      <td>Crackers</td>\n",
              "      <td>Whole Wheat</td>\n",
              "      <td>87.0</td>\n",
              "      <td>3.49</td>\n",
              "    </tr>\n",
              "    <tr>\n",
              "      <th>2</th>\n",
              "      <td>3</td>\n",
              "      <td>1/7/2020</td>\n",
              "      <td>West</td>\n",
              "      <td>Los Angeles</td>\n",
              "      <td>Cookies</td>\n",
              "      <td>Chocolate Chip</td>\n",
              "      <td>58.0</td>\n",
              "      <td>1.87</td>\n",
              "    </tr>\n",
              "    <tr>\n",
              "      <th>3</th>\n",
              "      <td>4</td>\n",
              "      <td>1/10/2020</td>\n",
              "      <td>East</td>\n",
              "      <td>New York</td>\n",
              "      <td>Cookies</td>\n",
              "      <td>Chocolate Chip</td>\n",
              "      <td>82.0</td>\n",
              "      <td>1.87</td>\n",
              "    </tr>\n",
              "    <tr>\n",
              "      <th>4</th>\n",
              "      <td>6</td>\n",
              "      <td>1/16/2020</td>\n",
              "      <td>East</td>\n",
              "      <td>Boston</td>\n",
              "      <td>Bars</td>\n",
              "      <td>Carrot</td>\n",
              "      <td>54.0</td>\n",
              "      <td>1.77</td>\n",
              "    </tr>\n",
              "    <tr>\n",
              "      <th>5</th>\n",
              "      <td>7</td>\n",
              "      <td>1/19/2020</td>\n",
              "      <td>East</td>\n",
              "      <td>Boston</td>\n",
              "      <td>Crackers</td>\n",
              "      <td>Whole Wheat</td>\n",
              "      <td>149.0</td>\n",
              "      <td>3.49</td>\n",
              "    </tr>\n",
              "    <tr>\n",
              "      <th>6</th>\n",
              "      <td>8</td>\n",
              "      <td>1/22/2020</td>\n",
              "      <td>West</td>\n",
              "      <td>Los Angeles</td>\n",
              "      <td>Bars</td>\n",
              "      <td>Carrot</td>\n",
              "      <td>51.0</td>\n",
              "      <td>1.77</td>\n",
              "    </tr>\n",
              "  </tbody>\n",
              "</table>\n",
              "</div>\n",
              "      <button class=\"colab-df-convert\" onclick=\"convertToInteractive('df-ba9ccd1c-4263-463e-ab23-dbe253c9a350')\"\n",
              "              title=\"Convert this dataframe to an interactive table.\"\n",
              "              style=\"display:none;\">\n",
              "        \n",
              "  <svg xmlns=\"http://www.w3.org/2000/svg\" height=\"24px\"viewBox=\"0 0 24 24\"\n",
              "       width=\"24px\">\n",
              "    <path d=\"M0 0h24v24H0V0z\" fill=\"none\"/>\n",
              "    <path d=\"M18.56 5.44l.94 2.06.94-2.06 2.06-.94-2.06-.94-.94-2.06-.94 2.06-2.06.94zm-11 1L8.5 8.5l.94-2.06 2.06-.94-2.06-.94L8.5 2.5l-.94 2.06-2.06.94zm10 10l.94 2.06.94-2.06 2.06-.94-2.06-.94-.94-2.06-.94 2.06-2.06.94z\"/><path d=\"M17.41 7.96l-1.37-1.37c-.4-.4-.92-.59-1.43-.59-.52 0-1.04.2-1.43.59L10.3 9.45l-7.72 7.72c-.78.78-.78 2.05 0 2.83L4 21.41c.39.39.9.59 1.41.59.51 0 1.02-.2 1.41-.59l7.78-7.78 2.81-2.81c.8-.78.8-2.07 0-2.86zM5.41 20L4 18.59l7.72-7.72 1.47 1.35L5.41 20z\"/>\n",
              "  </svg>\n",
              "      </button>\n",
              "      \n",
              "  <style>\n",
              "    .colab-df-container {\n",
              "      display:flex;\n",
              "      flex-wrap:wrap;\n",
              "      gap: 12px;\n",
              "    }\n",
              "\n",
              "    .colab-df-convert {\n",
              "      background-color: #E8F0FE;\n",
              "      border: none;\n",
              "      border-radius: 50%;\n",
              "      cursor: pointer;\n",
              "      display: none;\n",
              "      fill: #1967D2;\n",
              "      height: 32px;\n",
              "      padding: 0 0 0 0;\n",
              "      width: 32px;\n",
              "    }\n",
              "\n",
              "    .colab-df-convert:hover {\n",
              "      background-color: #E2EBFA;\n",
              "      box-shadow: 0px 1px 2px rgba(60, 64, 67, 0.3), 0px 1px 3px 1px rgba(60, 64, 67, 0.15);\n",
              "      fill: #174EA6;\n",
              "    }\n",
              "\n",
              "    [theme=dark] .colab-df-convert {\n",
              "      background-color: #3B4455;\n",
              "      fill: #D2E3FC;\n",
              "    }\n",
              "\n",
              "    [theme=dark] .colab-df-convert:hover {\n",
              "      background-color: #434B5C;\n",
              "      box-shadow: 0px 1px 3px 1px rgba(0, 0, 0, 0.15);\n",
              "      filter: drop-shadow(0px 1px 2px rgba(0, 0, 0, 0.3));\n",
              "      fill: #FFFFFF;\n",
              "    }\n",
              "  </style>\n",
              "\n",
              "      <script>\n",
              "        const buttonEl =\n",
              "          document.querySelector('#df-ba9ccd1c-4263-463e-ab23-dbe253c9a350 button.colab-df-convert');\n",
              "        buttonEl.style.display =\n",
              "          google.colab.kernel.accessAllowed ? 'block' : 'none';\n",
              "\n",
              "        async function convertToInteractive(key) {\n",
              "          const element = document.querySelector('#df-ba9ccd1c-4263-463e-ab23-dbe253c9a350');\n",
              "          const dataTable =\n",
              "            await google.colab.kernel.invokeFunction('convertToInteractive',\n",
              "                                                     [key], {});\n",
              "          if (!dataTable) return;\n",
              "\n",
              "          const docLinkHtml = 'Like what you see? Visit the ' +\n",
              "            '<a target=\"_blank\" href=https://colab.research.google.com/notebooks/data_table.ipynb>data table notebook</a>'\n",
              "            + ' to learn more about interactive tables.';\n",
              "          element.innerHTML = '';\n",
              "          dataTable['output_type'] = 'display_data';\n",
              "          await google.colab.output.renderOutput(dataTable, element);\n",
              "          const docLink = document.createElement('div');\n",
              "          docLink.innerHTML = docLinkHtml;\n",
              "          element.appendChild(docLink);\n",
              "        }\n",
              "      </script>\n",
              "    </div>\n",
              "  </div>\n",
              "  "
            ]
          },
          "metadata": {},
          "execution_count": 147
        }
      ]
    },
    {
      "cell_type": "code",
      "source": [
        "df2.drop([\"id\"],axis=1,inplace=True)\n",
        "df2"
      ],
      "metadata": {
        "colab": {
          "base_uri": "https://localhost:8080/",
          "height": 336
        },
        "id": "sBFRxVQX0Ej4",
        "outputId": "e6c1d86d-900c-4dff-f1c3-c3f9f0337b32"
      },
      "execution_count": null,
      "outputs": [
        {
          "output_type": "error",
          "ename": "KeyError",
          "evalue": "ignored",
          "traceback": [
            "\u001b[0;31m---------------------------------------------------------------------------\u001b[0m",
            "\u001b[0;31mKeyError\u001b[0m                                  Traceback (most recent call last)",
            "\u001b[0;32m<ipython-input-151-82fe4ee6d672>\u001b[0m in \u001b[0;36m<module>\u001b[0;34m\u001b[0m\n\u001b[0;32m----> 1\u001b[0;31m \u001b[0mdf2\u001b[0m\u001b[0;34m.\u001b[0m\u001b[0mdrop\u001b[0m\u001b[0;34m(\u001b[0m\u001b[0;34m[\u001b[0m\u001b[0;34m\"id\"\u001b[0m\u001b[0;34m]\u001b[0m\u001b[0;34m,\u001b[0m\u001b[0maxis\u001b[0m\u001b[0;34m=\u001b[0m\u001b[0;36m1\u001b[0m\u001b[0;34m,\u001b[0m\u001b[0minplace\u001b[0m\u001b[0;34m=\u001b[0m\u001b[0;32mTrue\u001b[0m\u001b[0;34m)\u001b[0m\u001b[0;34m\u001b[0m\u001b[0;34m\u001b[0m\u001b[0m\n\u001b[0m\u001b[1;32m      2\u001b[0m \u001b[0mdf2\u001b[0m\u001b[0;34m\u001b[0m\u001b[0;34m\u001b[0m\u001b[0m\n",
            "\u001b[0;32m/usr/local/lib/python3.7/dist-packages/pandas/util/_decorators.py\u001b[0m in \u001b[0;36mwrapper\u001b[0;34m(*args, **kwargs)\u001b[0m\n\u001b[1;32m    309\u001b[0m                     \u001b[0mstacklevel\u001b[0m\u001b[0;34m=\u001b[0m\u001b[0mstacklevel\u001b[0m\u001b[0;34m,\u001b[0m\u001b[0;34m\u001b[0m\u001b[0;34m\u001b[0m\u001b[0m\n\u001b[1;32m    310\u001b[0m                 )\n\u001b[0;32m--> 311\u001b[0;31m             \u001b[0;32mreturn\u001b[0m \u001b[0mfunc\u001b[0m\u001b[0;34m(\u001b[0m\u001b[0;34m*\u001b[0m\u001b[0margs\u001b[0m\u001b[0;34m,\u001b[0m \u001b[0;34m**\u001b[0m\u001b[0mkwargs\u001b[0m\u001b[0;34m)\u001b[0m\u001b[0;34m\u001b[0m\u001b[0;34m\u001b[0m\u001b[0m\n\u001b[0m\u001b[1;32m    312\u001b[0m \u001b[0;34m\u001b[0m\u001b[0m\n\u001b[1;32m    313\u001b[0m         \u001b[0;32mreturn\u001b[0m \u001b[0mwrapper\u001b[0m\u001b[0;34m\u001b[0m\u001b[0;34m\u001b[0m\u001b[0m\n",
            "\u001b[0;32m/usr/local/lib/python3.7/dist-packages/pandas/core/frame.py\u001b[0m in \u001b[0;36mdrop\u001b[0;34m(self, labels, axis, index, columns, level, inplace, errors)\u001b[0m\n\u001b[1;32m   4911\u001b[0m             \u001b[0mlevel\u001b[0m\u001b[0;34m=\u001b[0m\u001b[0mlevel\u001b[0m\u001b[0;34m,\u001b[0m\u001b[0;34m\u001b[0m\u001b[0;34m\u001b[0m\u001b[0m\n\u001b[1;32m   4912\u001b[0m             \u001b[0minplace\u001b[0m\u001b[0;34m=\u001b[0m\u001b[0minplace\u001b[0m\u001b[0;34m,\u001b[0m\u001b[0;34m\u001b[0m\u001b[0;34m\u001b[0m\u001b[0m\n\u001b[0;32m-> 4913\u001b[0;31m             \u001b[0merrors\u001b[0m\u001b[0;34m=\u001b[0m\u001b[0merrors\u001b[0m\u001b[0;34m,\u001b[0m\u001b[0;34m\u001b[0m\u001b[0;34m\u001b[0m\u001b[0m\n\u001b[0m\u001b[1;32m   4914\u001b[0m         )\n\u001b[1;32m   4915\u001b[0m \u001b[0;34m\u001b[0m\u001b[0m\n",
            "\u001b[0;32m/usr/local/lib/python3.7/dist-packages/pandas/core/generic.py\u001b[0m in \u001b[0;36mdrop\u001b[0;34m(self, labels, axis, index, columns, level, inplace, errors)\u001b[0m\n\u001b[1;32m   4148\u001b[0m         \u001b[0;32mfor\u001b[0m \u001b[0maxis\u001b[0m\u001b[0;34m,\u001b[0m \u001b[0mlabels\u001b[0m \u001b[0;32min\u001b[0m \u001b[0maxes\u001b[0m\u001b[0;34m.\u001b[0m\u001b[0mitems\u001b[0m\u001b[0;34m(\u001b[0m\u001b[0;34m)\u001b[0m\u001b[0;34m:\u001b[0m\u001b[0;34m\u001b[0m\u001b[0;34m\u001b[0m\u001b[0m\n\u001b[1;32m   4149\u001b[0m             \u001b[0;32mif\u001b[0m \u001b[0mlabels\u001b[0m \u001b[0;32mis\u001b[0m \u001b[0;32mnot\u001b[0m \u001b[0;32mNone\u001b[0m\u001b[0;34m:\u001b[0m\u001b[0;34m\u001b[0m\u001b[0;34m\u001b[0m\u001b[0m\n\u001b[0;32m-> 4150\u001b[0;31m                 \u001b[0mobj\u001b[0m \u001b[0;34m=\u001b[0m \u001b[0mobj\u001b[0m\u001b[0;34m.\u001b[0m\u001b[0m_drop_axis\u001b[0m\u001b[0;34m(\u001b[0m\u001b[0mlabels\u001b[0m\u001b[0;34m,\u001b[0m \u001b[0maxis\u001b[0m\u001b[0;34m,\u001b[0m \u001b[0mlevel\u001b[0m\u001b[0;34m=\u001b[0m\u001b[0mlevel\u001b[0m\u001b[0;34m,\u001b[0m \u001b[0merrors\u001b[0m\u001b[0;34m=\u001b[0m\u001b[0merrors\u001b[0m\u001b[0;34m)\u001b[0m\u001b[0;34m\u001b[0m\u001b[0;34m\u001b[0m\u001b[0m\n\u001b[0m\u001b[1;32m   4151\u001b[0m \u001b[0;34m\u001b[0m\u001b[0m\n\u001b[1;32m   4152\u001b[0m         \u001b[0;32mif\u001b[0m \u001b[0minplace\u001b[0m\u001b[0;34m:\u001b[0m\u001b[0;34m\u001b[0m\u001b[0;34m\u001b[0m\u001b[0m\n",
            "\u001b[0;32m/usr/local/lib/python3.7/dist-packages/pandas/core/generic.py\u001b[0m in \u001b[0;36m_drop_axis\u001b[0;34m(self, labels, axis, level, errors)\u001b[0m\n\u001b[1;32m   4183\u001b[0m                 \u001b[0mnew_axis\u001b[0m \u001b[0;34m=\u001b[0m \u001b[0maxis\u001b[0m\u001b[0;34m.\u001b[0m\u001b[0mdrop\u001b[0m\u001b[0;34m(\u001b[0m\u001b[0mlabels\u001b[0m\u001b[0;34m,\u001b[0m \u001b[0mlevel\u001b[0m\u001b[0;34m=\u001b[0m\u001b[0mlevel\u001b[0m\u001b[0;34m,\u001b[0m \u001b[0merrors\u001b[0m\u001b[0;34m=\u001b[0m\u001b[0merrors\u001b[0m\u001b[0;34m)\u001b[0m\u001b[0;34m\u001b[0m\u001b[0;34m\u001b[0m\u001b[0m\n\u001b[1;32m   4184\u001b[0m             \u001b[0;32melse\u001b[0m\u001b[0;34m:\u001b[0m\u001b[0;34m\u001b[0m\u001b[0;34m\u001b[0m\u001b[0m\n\u001b[0;32m-> 4185\u001b[0;31m                 \u001b[0mnew_axis\u001b[0m \u001b[0;34m=\u001b[0m \u001b[0maxis\u001b[0m\u001b[0;34m.\u001b[0m\u001b[0mdrop\u001b[0m\u001b[0;34m(\u001b[0m\u001b[0mlabels\u001b[0m\u001b[0;34m,\u001b[0m \u001b[0merrors\u001b[0m\u001b[0;34m=\u001b[0m\u001b[0merrors\u001b[0m\u001b[0;34m)\u001b[0m\u001b[0;34m\u001b[0m\u001b[0;34m\u001b[0m\u001b[0m\n\u001b[0m\u001b[1;32m   4186\u001b[0m             \u001b[0mresult\u001b[0m \u001b[0;34m=\u001b[0m \u001b[0mself\u001b[0m\u001b[0;34m.\u001b[0m\u001b[0mreindex\u001b[0m\u001b[0;34m(\u001b[0m\u001b[0;34m**\u001b[0m\u001b[0;34m{\u001b[0m\u001b[0maxis_name\u001b[0m\u001b[0;34m:\u001b[0m \u001b[0mnew_axis\u001b[0m\u001b[0;34m}\u001b[0m\u001b[0;34m)\u001b[0m\u001b[0;34m\u001b[0m\u001b[0;34m\u001b[0m\u001b[0m\n\u001b[1;32m   4187\u001b[0m \u001b[0;34m\u001b[0m\u001b[0m\n",
            "\u001b[0;32m/usr/local/lib/python3.7/dist-packages/pandas/core/indexes/base.py\u001b[0m in \u001b[0;36mdrop\u001b[0;34m(self, labels, errors)\u001b[0m\n\u001b[1;32m   6015\u001b[0m         \u001b[0;32mif\u001b[0m \u001b[0mmask\u001b[0m\u001b[0;34m.\u001b[0m\u001b[0many\u001b[0m\u001b[0;34m(\u001b[0m\u001b[0;34m)\u001b[0m\u001b[0;34m:\u001b[0m\u001b[0;34m\u001b[0m\u001b[0;34m\u001b[0m\u001b[0m\n\u001b[1;32m   6016\u001b[0m             \u001b[0;32mif\u001b[0m \u001b[0merrors\u001b[0m \u001b[0;34m!=\u001b[0m \u001b[0;34m\"ignore\"\u001b[0m\u001b[0;34m:\u001b[0m\u001b[0;34m\u001b[0m\u001b[0;34m\u001b[0m\u001b[0m\n\u001b[0;32m-> 6017\u001b[0;31m                 \u001b[0;32mraise\u001b[0m \u001b[0mKeyError\u001b[0m\u001b[0;34m(\u001b[0m\u001b[0;34mf\"{labels[mask]} not found in axis\"\u001b[0m\u001b[0;34m)\u001b[0m\u001b[0;34m\u001b[0m\u001b[0;34m\u001b[0m\u001b[0m\n\u001b[0m\u001b[1;32m   6018\u001b[0m             \u001b[0mindexer\u001b[0m \u001b[0;34m=\u001b[0m \u001b[0mindexer\u001b[0m\u001b[0;34m[\u001b[0m\u001b[0;34m~\u001b[0m\u001b[0mmask\u001b[0m\u001b[0;34m]\u001b[0m\u001b[0;34m\u001b[0m\u001b[0;34m\u001b[0m\u001b[0m\n\u001b[1;32m   6019\u001b[0m         \u001b[0;32mreturn\u001b[0m \u001b[0mself\u001b[0m\u001b[0;34m.\u001b[0m\u001b[0mdelete\u001b[0m\u001b[0;34m(\u001b[0m\u001b[0mindexer\u001b[0m\u001b[0;34m)\u001b[0m\u001b[0;34m\u001b[0m\u001b[0;34m\u001b[0m\u001b[0m\n",
            "\u001b[0;31mKeyError\u001b[0m: \"['id'] not found in axis\""
          ]
        }
      ]
    },
    {
      "cell_type": "code",
      "source": [
        "df2[\"Total Price\"] = df2[\"Quantity\"]*df2[\"UnitPrice\"]\n",
        "df2"
      ],
      "metadata": {
        "colab": {
          "base_uri": "https://localhost:8080/",
          "height": 269
        },
        "id": "FrP9UikY05so",
        "outputId": "f253399f-e7c0-4ff5-aa84-a4a6ca77aa87"
      },
      "execution_count": null,
      "outputs": [
        {
          "output_type": "execute_result",
          "data": {
            "text/plain": [
              "   OrderDate Region         City  Category         Product  Quantity  \\\n",
              "0   1/1/2020   East       Boston      Bars          Carrot      33.0   \n",
              "1   1/4/2020   East       Boston  Crackers     Whole Wheat      87.0   \n",
              "2   1/7/2020   West  Los Angeles   Cookies  Chocolate Chip      58.0   \n",
              "3  1/10/2020   East     New York   Cookies  Chocolate Chip      82.0   \n",
              "4  1/16/2020   East       Boston      Bars          Carrot      54.0   \n",
              "5  1/19/2020   East       Boston  Crackers     Whole Wheat     149.0   \n",
              "6  1/22/2020   West  Los Angeles      Bars          Carrot      51.0   \n",
              "\n",
              "   UnitPrice  Total Price  \n",
              "0       1.77        58.41  \n",
              "1       3.49       303.63  \n",
              "2       1.87       108.46  \n",
              "3       1.87       153.34  \n",
              "4       1.77        95.58  \n",
              "5       3.49       520.01  \n",
              "6       1.77        90.27  "
            ],
            "text/html": [
              "\n",
              "  <div id=\"df-8a7fee7e-3630-4ff6-b45e-2629bc93f1b1\">\n",
              "    <div class=\"colab-df-container\">\n",
              "      <div>\n",
              "<style scoped>\n",
              "    .dataframe tbody tr th:only-of-type {\n",
              "        vertical-align: middle;\n",
              "    }\n",
              "\n",
              "    .dataframe tbody tr th {\n",
              "        vertical-align: top;\n",
              "    }\n",
              "\n",
              "    .dataframe thead th {\n",
              "        text-align: right;\n",
              "    }\n",
              "</style>\n",
              "<table border=\"1\" class=\"dataframe\">\n",
              "  <thead>\n",
              "    <tr style=\"text-align: right;\">\n",
              "      <th></th>\n",
              "      <th>OrderDate</th>\n",
              "      <th>Region</th>\n",
              "      <th>City</th>\n",
              "      <th>Category</th>\n",
              "      <th>Product</th>\n",
              "      <th>Quantity</th>\n",
              "      <th>UnitPrice</th>\n",
              "      <th>Total Price</th>\n",
              "    </tr>\n",
              "  </thead>\n",
              "  <tbody>\n",
              "    <tr>\n",
              "      <th>0</th>\n",
              "      <td>1/1/2020</td>\n",
              "      <td>East</td>\n",
              "      <td>Boston</td>\n",
              "      <td>Bars</td>\n",
              "      <td>Carrot</td>\n",
              "      <td>33.0</td>\n",
              "      <td>1.77</td>\n",
              "      <td>58.41</td>\n",
              "    </tr>\n",
              "    <tr>\n",
              "      <th>1</th>\n",
              "      <td>1/4/2020</td>\n",
              "      <td>East</td>\n",
              "      <td>Boston</td>\n",
              "      <td>Crackers</td>\n",
              "      <td>Whole Wheat</td>\n",
              "      <td>87.0</td>\n",
              "      <td>3.49</td>\n",
              "      <td>303.63</td>\n",
              "    </tr>\n",
              "    <tr>\n",
              "      <th>2</th>\n",
              "      <td>1/7/2020</td>\n",
              "      <td>West</td>\n",
              "      <td>Los Angeles</td>\n",
              "      <td>Cookies</td>\n",
              "      <td>Chocolate Chip</td>\n",
              "      <td>58.0</td>\n",
              "      <td>1.87</td>\n",
              "      <td>108.46</td>\n",
              "    </tr>\n",
              "    <tr>\n",
              "      <th>3</th>\n",
              "      <td>1/10/2020</td>\n",
              "      <td>East</td>\n",
              "      <td>New York</td>\n",
              "      <td>Cookies</td>\n",
              "      <td>Chocolate Chip</td>\n",
              "      <td>82.0</td>\n",
              "      <td>1.87</td>\n",
              "      <td>153.34</td>\n",
              "    </tr>\n",
              "    <tr>\n",
              "      <th>4</th>\n",
              "      <td>1/16/2020</td>\n",
              "      <td>East</td>\n",
              "      <td>Boston</td>\n",
              "      <td>Bars</td>\n",
              "      <td>Carrot</td>\n",
              "      <td>54.0</td>\n",
              "      <td>1.77</td>\n",
              "      <td>95.58</td>\n",
              "    </tr>\n",
              "    <tr>\n",
              "      <th>5</th>\n",
              "      <td>1/19/2020</td>\n",
              "      <td>East</td>\n",
              "      <td>Boston</td>\n",
              "      <td>Crackers</td>\n",
              "      <td>Whole Wheat</td>\n",
              "      <td>149.0</td>\n",
              "      <td>3.49</td>\n",
              "      <td>520.01</td>\n",
              "    </tr>\n",
              "    <tr>\n",
              "      <th>6</th>\n",
              "      <td>1/22/2020</td>\n",
              "      <td>West</td>\n",
              "      <td>Los Angeles</td>\n",
              "      <td>Bars</td>\n",
              "      <td>Carrot</td>\n",
              "      <td>51.0</td>\n",
              "      <td>1.77</td>\n",
              "      <td>90.27</td>\n",
              "    </tr>\n",
              "  </tbody>\n",
              "</table>\n",
              "</div>\n",
              "      <button class=\"colab-df-convert\" onclick=\"convertToInteractive('df-8a7fee7e-3630-4ff6-b45e-2629bc93f1b1')\"\n",
              "              title=\"Convert this dataframe to an interactive table.\"\n",
              "              style=\"display:none;\">\n",
              "        \n",
              "  <svg xmlns=\"http://www.w3.org/2000/svg\" height=\"24px\"viewBox=\"0 0 24 24\"\n",
              "       width=\"24px\">\n",
              "    <path d=\"M0 0h24v24H0V0z\" fill=\"none\"/>\n",
              "    <path d=\"M18.56 5.44l.94 2.06.94-2.06 2.06-.94-2.06-.94-.94-2.06-.94 2.06-2.06.94zm-11 1L8.5 8.5l.94-2.06 2.06-.94-2.06-.94L8.5 2.5l-.94 2.06-2.06.94zm10 10l.94 2.06.94-2.06 2.06-.94-2.06-.94-.94-2.06-.94 2.06-2.06.94z\"/><path d=\"M17.41 7.96l-1.37-1.37c-.4-.4-.92-.59-1.43-.59-.52 0-1.04.2-1.43.59L10.3 9.45l-7.72 7.72c-.78.78-.78 2.05 0 2.83L4 21.41c.39.39.9.59 1.41.59.51 0 1.02-.2 1.41-.59l7.78-7.78 2.81-2.81c.8-.78.8-2.07 0-2.86zM5.41 20L4 18.59l7.72-7.72 1.47 1.35L5.41 20z\"/>\n",
              "  </svg>\n",
              "      </button>\n",
              "      \n",
              "  <style>\n",
              "    .colab-df-container {\n",
              "      display:flex;\n",
              "      flex-wrap:wrap;\n",
              "      gap: 12px;\n",
              "    }\n",
              "\n",
              "    .colab-df-convert {\n",
              "      background-color: #E8F0FE;\n",
              "      border: none;\n",
              "      border-radius: 50%;\n",
              "      cursor: pointer;\n",
              "      display: none;\n",
              "      fill: #1967D2;\n",
              "      height: 32px;\n",
              "      padding: 0 0 0 0;\n",
              "      width: 32px;\n",
              "    }\n",
              "\n",
              "    .colab-df-convert:hover {\n",
              "      background-color: #E2EBFA;\n",
              "      box-shadow: 0px 1px 2px rgba(60, 64, 67, 0.3), 0px 1px 3px 1px rgba(60, 64, 67, 0.15);\n",
              "      fill: #174EA6;\n",
              "    }\n",
              "\n",
              "    [theme=dark] .colab-df-convert {\n",
              "      background-color: #3B4455;\n",
              "      fill: #D2E3FC;\n",
              "    }\n",
              "\n",
              "    [theme=dark] .colab-df-convert:hover {\n",
              "      background-color: #434B5C;\n",
              "      box-shadow: 0px 1px 3px 1px rgba(0, 0, 0, 0.15);\n",
              "      filter: drop-shadow(0px 1px 2px rgba(0, 0, 0, 0.3));\n",
              "      fill: #FFFFFF;\n",
              "    }\n",
              "  </style>\n",
              "\n",
              "      <script>\n",
              "        const buttonEl =\n",
              "          document.querySelector('#df-8a7fee7e-3630-4ff6-b45e-2629bc93f1b1 button.colab-df-convert');\n",
              "        buttonEl.style.display =\n",
              "          google.colab.kernel.accessAllowed ? 'block' : 'none';\n",
              "\n",
              "        async function convertToInteractive(key) {\n",
              "          const element = document.querySelector('#df-8a7fee7e-3630-4ff6-b45e-2629bc93f1b1');\n",
              "          const dataTable =\n",
              "            await google.colab.kernel.invokeFunction('convertToInteractive',\n",
              "                                                     [key], {});\n",
              "          if (!dataTable) return;\n",
              "\n",
              "          const docLinkHtml = 'Like what you see? Visit the ' +\n",
              "            '<a target=\"_blank\" href=https://colab.research.google.com/notebooks/data_table.ipynb>data table notebook</a>'\n",
              "            + ' to learn more about interactive tables.';\n",
              "          element.innerHTML = '';\n",
              "          dataTable['output_type'] = 'display_data';\n",
              "          await google.colab.output.renderOutput(dataTable, element);\n",
              "          const docLink = document.createElement('div');\n",
              "          docLink.innerHTML = docLinkHtml;\n",
              "          element.appendChild(docLink);\n",
              "        }\n",
              "      </script>\n",
              "    </div>\n",
              "  </div>\n",
              "  "
            ]
          },
          "metadata": {},
          "execution_count": 153
        }
      ]
    },
    {
      "cell_type": "code",
      "source": [
        "df2"
      ],
      "metadata": {
        "colab": {
          "base_uri": "https://localhost:8080/",
          "height": 269
        },
        "id": "O-HVE-yT1vKE",
        "outputId": "77fb4429-c7a5-4c31-ae43-23f6b536b161"
      },
      "execution_count": null,
      "outputs": [
        {
          "output_type": "execute_result",
          "data": {
            "text/plain": [
              "   OrderDate Region         City  Category         Product  Quantity  \\\n",
              "0   1/1/2020   East       Boston      Bars          Carrot      33.0   \n",
              "1   1/4/2020   East       Boston  Crackers     Whole Wheat      87.0   \n",
              "2   1/7/2020   West  Los Angeles   Cookies  Chocolate Chip      58.0   \n",
              "3  1/10/2020   East     New York   Cookies  Chocolate Chip      82.0   \n",
              "4  1/16/2020   East       Boston      Bars          Carrot      54.0   \n",
              "5  1/19/2020   East       Boston  Crackers     Whole Wheat     149.0   \n",
              "6  1/22/2020   West  Los Angeles      Bars          Carrot      51.0   \n",
              "\n",
              "   UnitPrice  Total Price  \n",
              "0       1.77        58.41  \n",
              "1       3.49       303.63  \n",
              "2       1.87       108.46  \n",
              "3       1.87       153.34  \n",
              "4       1.77        95.58  \n",
              "5       3.49       520.01  \n",
              "6       1.77        90.27  "
            ],
            "text/html": [
              "\n",
              "  <div id=\"df-de5effe7-4416-4bba-9f53-d34bef9d2d8a\">\n",
              "    <div class=\"colab-df-container\">\n",
              "      <div>\n",
              "<style scoped>\n",
              "    .dataframe tbody tr th:only-of-type {\n",
              "        vertical-align: middle;\n",
              "    }\n",
              "\n",
              "    .dataframe tbody tr th {\n",
              "        vertical-align: top;\n",
              "    }\n",
              "\n",
              "    .dataframe thead th {\n",
              "        text-align: right;\n",
              "    }\n",
              "</style>\n",
              "<table border=\"1\" class=\"dataframe\">\n",
              "  <thead>\n",
              "    <tr style=\"text-align: right;\">\n",
              "      <th></th>\n",
              "      <th>OrderDate</th>\n",
              "      <th>Region</th>\n",
              "      <th>City</th>\n",
              "      <th>Category</th>\n",
              "      <th>Product</th>\n",
              "      <th>Quantity</th>\n",
              "      <th>UnitPrice</th>\n",
              "      <th>Total Price</th>\n",
              "    </tr>\n",
              "  </thead>\n",
              "  <tbody>\n",
              "    <tr>\n",
              "      <th>0</th>\n",
              "      <td>1/1/2020</td>\n",
              "      <td>East</td>\n",
              "      <td>Boston</td>\n",
              "      <td>Bars</td>\n",
              "      <td>Carrot</td>\n",
              "      <td>33.0</td>\n",
              "      <td>1.77</td>\n",
              "      <td>58.41</td>\n",
              "    </tr>\n",
              "    <tr>\n",
              "      <th>1</th>\n",
              "      <td>1/4/2020</td>\n",
              "      <td>East</td>\n",
              "      <td>Boston</td>\n",
              "      <td>Crackers</td>\n",
              "      <td>Whole Wheat</td>\n",
              "      <td>87.0</td>\n",
              "      <td>3.49</td>\n",
              "      <td>303.63</td>\n",
              "    </tr>\n",
              "    <tr>\n",
              "      <th>2</th>\n",
              "      <td>1/7/2020</td>\n",
              "      <td>West</td>\n",
              "      <td>Los Angeles</td>\n",
              "      <td>Cookies</td>\n",
              "      <td>Chocolate Chip</td>\n",
              "      <td>58.0</td>\n",
              "      <td>1.87</td>\n",
              "      <td>108.46</td>\n",
              "    </tr>\n",
              "    <tr>\n",
              "      <th>3</th>\n",
              "      <td>1/10/2020</td>\n",
              "      <td>East</td>\n",
              "      <td>New York</td>\n",
              "      <td>Cookies</td>\n",
              "      <td>Chocolate Chip</td>\n",
              "      <td>82.0</td>\n",
              "      <td>1.87</td>\n",
              "      <td>153.34</td>\n",
              "    </tr>\n",
              "    <tr>\n",
              "      <th>4</th>\n",
              "      <td>1/16/2020</td>\n",
              "      <td>East</td>\n",
              "      <td>Boston</td>\n",
              "      <td>Bars</td>\n",
              "      <td>Carrot</td>\n",
              "      <td>54.0</td>\n",
              "      <td>1.77</td>\n",
              "      <td>95.58</td>\n",
              "    </tr>\n",
              "    <tr>\n",
              "      <th>5</th>\n",
              "      <td>1/19/2020</td>\n",
              "      <td>East</td>\n",
              "      <td>Boston</td>\n",
              "      <td>Crackers</td>\n",
              "      <td>Whole Wheat</td>\n",
              "      <td>149.0</td>\n",
              "      <td>3.49</td>\n",
              "      <td>520.01</td>\n",
              "    </tr>\n",
              "    <tr>\n",
              "      <th>6</th>\n",
              "      <td>1/22/2020</td>\n",
              "      <td>West</td>\n",
              "      <td>Los Angeles</td>\n",
              "      <td>Bars</td>\n",
              "      <td>Carrot</td>\n",
              "      <td>51.0</td>\n",
              "      <td>1.77</td>\n",
              "      <td>90.27</td>\n",
              "    </tr>\n",
              "  </tbody>\n",
              "</table>\n",
              "</div>\n",
              "      <button class=\"colab-df-convert\" onclick=\"convertToInteractive('df-de5effe7-4416-4bba-9f53-d34bef9d2d8a')\"\n",
              "              title=\"Convert this dataframe to an interactive table.\"\n",
              "              style=\"display:none;\">\n",
              "        \n",
              "  <svg xmlns=\"http://www.w3.org/2000/svg\" height=\"24px\"viewBox=\"0 0 24 24\"\n",
              "       width=\"24px\">\n",
              "    <path d=\"M0 0h24v24H0V0z\" fill=\"none\"/>\n",
              "    <path d=\"M18.56 5.44l.94 2.06.94-2.06 2.06-.94-2.06-.94-.94-2.06-.94 2.06-2.06.94zm-11 1L8.5 8.5l.94-2.06 2.06-.94-2.06-.94L8.5 2.5l-.94 2.06-2.06.94zm10 10l.94 2.06.94-2.06 2.06-.94-2.06-.94-.94-2.06-.94 2.06-2.06.94z\"/><path d=\"M17.41 7.96l-1.37-1.37c-.4-.4-.92-.59-1.43-.59-.52 0-1.04.2-1.43.59L10.3 9.45l-7.72 7.72c-.78.78-.78 2.05 0 2.83L4 21.41c.39.39.9.59 1.41.59.51 0 1.02-.2 1.41-.59l7.78-7.78 2.81-2.81c.8-.78.8-2.07 0-2.86zM5.41 20L4 18.59l7.72-7.72 1.47 1.35L5.41 20z\"/>\n",
              "  </svg>\n",
              "      </button>\n",
              "      \n",
              "  <style>\n",
              "    .colab-df-container {\n",
              "      display:flex;\n",
              "      flex-wrap:wrap;\n",
              "      gap: 12px;\n",
              "    }\n",
              "\n",
              "    .colab-df-convert {\n",
              "      background-color: #E8F0FE;\n",
              "      border: none;\n",
              "      border-radius: 50%;\n",
              "      cursor: pointer;\n",
              "      display: none;\n",
              "      fill: #1967D2;\n",
              "      height: 32px;\n",
              "      padding: 0 0 0 0;\n",
              "      width: 32px;\n",
              "    }\n",
              "\n",
              "    .colab-df-convert:hover {\n",
              "      background-color: #E2EBFA;\n",
              "      box-shadow: 0px 1px 2px rgba(60, 64, 67, 0.3), 0px 1px 3px 1px rgba(60, 64, 67, 0.15);\n",
              "      fill: #174EA6;\n",
              "    }\n",
              "\n",
              "    [theme=dark] .colab-df-convert {\n",
              "      background-color: #3B4455;\n",
              "      fill: #D2E3FC;\n",
              "    }\n",
              "\n",
              "    [theme=dark] .colab-df-convert:hover {\n",
              "      background-color: #434B5C;\n",
              "      box-shadow: 0px 1px 3px 1px rgba(0, 0, 0, 0.15);\n",
              "      filter: drop-shadow(0px 1px 2px rgba(0, 0, 0, 0.3));\n",
              "      fill: #FFFFFF;\n",
              "    }\n",
              "  </style>\n",
              "\n",
              "      <script>\n",
              "        const buttonEl =\n",
              "          document.querySelector('#df-de5effe7-4416-4bba-9f53-d34bef9d2d8a button.colab-df-convert');\n",
              "        buttonEl.style.display =\n",
              "          google.colab.kernel.accessAllowed ? 'block' : 'none';\n",
              "\n",
              "        async function convertToInteractive(key) {\n",
              "          const element = document.querySelector('#df-de5effe7-4416-4bba-9f53-d34bef9d2d8a');\n",
              "          const dataTable =\n",
              "            await google.colab.kernel.invokeFunction('convertToInteractive',\n",
              "                                                     [key], {});\n",
              "          if (!dataTable) return;\n",
              "\n",
              "          const docLinkHtml = 'Like what you see? Visit the ' +\n",
              "            '<a target=\"_blank\" href=https://colab.research.google.com/notebooks/data_table.ipynb>data table notebook</a>'\n",
              "            + ' to learn more about interactive tables.';\n",
              "          element.innerHTML = '';\n",
              "          dataTable['output_type'] = 'display_data';\n",
              "          await google.colab.output.renderOutput(dataTable, element);\n",
              "          const docLink = document.createElement('div');\n",
              "          docLink.innerHTML = docLinkHtml;\n",
              "          element.appendChild(docLink);\n",
              "        }\n",
              "      </script>\n",
              "    </div>\n",
              "  </div>\n",
              "  "
            ]
          },
          "metadata": {},
          "execution_count": 154
        }
      ]
    },
    {
      "cell_type": "code",
      "source": [
        "df2.City.unique()"
      ],
      "metadata": {
        "colab": {
          "base_uri": "https://localhost:8080/"
        },
        "id": "cZwCCHmV2d2N",
        "outputId": "cc11a951-fecd-459e-d478-67f24dc2c300"
      },
      "execution_count": null,
      "outputs": [
        {
          "output_type": "execute_result",
          "data": {
            "text/plain": [
              "array(['Boston', 'Los Angeles', 'New York'], dtype=object)"
            ]
          },
          "metadata": {},
          "execution_count": 155
        }
      ]
    },
    {
      "cell_type": "code",
      "source": [
        "df2.City.unique().tolist()"
      ],
      "metadata": {
        "colab": {
          "base_uri": "https://localhost:8080/"
        },
        "id": "LXvakBPa3aJ5",
        "outputId": "38e789af-4f9d-42e7-ca01-5e5c69aeb9f3"
      },
      "execution_count": null,
      "outputs": [
        {
          "output_type": "execute_result",
          "data": {
            "text/plain": [
              "['Boston', 'Los Angeles', 'New York']"
            ]
          },
          "metadata": {},
          "execution_count": 157
        }
      ]
    },
    {
      "cell_type": "code",
      "source": [
        "df2.groupby(\"City\")[\"Total Price\"].sum()"
      ],
      "metadata": {
        "colab": {
          "base_uri": "https://localhost:8080/"
        },
        "id": "2Vp4KKfa3w5J",
        "outputId": "9dbc856a-2300-4a66-aa65-32bf4b3e8f11"
      },
      "execution_count": null,
      "outputs": [
        {
          "output_type": "execute_result",
          "data": {
            "text/plain": [
              "City\n",
              "Boston         977.63\n",
              "Los Angeles    198.73\n",
              "New York       153.34\n",
              "Name: Total Price, dtype: float64"
            ]
          },
          "metadata": {},
          "execution_count": 160
        }
      ]
    },
    {
      "cell_type": "code",
      "source": [
        "sorted_df2 = df2.sort_values(by = [\"Total Price\"], ascending = False)\n",
        "sorted_df2"
      ],
      "metadata": {
        "colab": {
          "base_uri": "https://localhost:8080/",
          "height": 269
        },
        "id": "Bk7r0PSj4OIM",
        "outputId": "b0558994-2623-42c7-c6d7-6af779a35dbe"
      },
      "execution_count": null,
      "outputs": [
        {
          "output_type": "execute_result",
          "data": {
            "text/plain": [
              "   OrderDate Region         City  Category         Product  Quantity  \\\n",
              "5  1/19/2020   East       Boston  Crackers     Whole Wheat     149.0   \n",
              "1   1/4/2020   East       Boston  Crackers     Whole Wheat      87.0   \n",
              "3  1/10/2020   East     New York   Cookies  Chocolate Chip      82.0   \n",
              "2   1/7/2020   West  Los Angeles   Cookies  Chocolate Chip      58.0   \n",
              "4  1/16/2020   East       Boston      Bars          Carrot      54.0   \n",
              "6  1/22/2020   West  Los Angeles      Bars          Carrot      51.0   \n",
              "0   1/1/2020   East       Boston      Bars          Carrot      33.0   \n",
              "\n",
              "   UnitPrice  Total Price  \n",
              "5       3.49       520.01  \n",
              "1       3.49       303.63  \n",
              "3       1.87       153.34  \n",
              "2       1.87       108.46  \n",
              "4       1.77        95.58  \n",
              "6       1.77        90.27  \n",
              "0       1.77        58.41  "
            ],
            "text/html": [
              "\n",
              "  <div id=\"df-6dc8f0a2-059c-40db-8ae5-f08301f79668\">\n",
              "    <div class=\"colab-df-container\">\n",
              "      <div>\n",
              "<style scoped>\n",
              "    .dataframe tbody tr th:only-of-type {\n",
              "        vertical-align: middle;\n",
              "    }\n",
              "\n",
              "    .dataframe tbody tr th {\n",
              "        vertical-align: top;\n",
              "    }\n",
              "\n",
              "    .dataframe thead th {\n",
              "        text-align: right;\n",
              "    }\n",
              "</style>\n",
              "<table border=\"1\" class=\"dataframe\">\n",
              "  <thead>\n",
              "    <tr style=\"text-align: right;\">\n",
              "      <th></th>\n",
              "      <th>OrderDate</th>\n",
              "      <th>Region</th>\n",
              "      <th>City</th>\n",
              "      <th>Category</th>\n",
              "      <th>Product</th>\n",
              "      <th>Quantity</th>\n",
              "      <th>UnitPrice</th>\n",
              "      <th>Total Price</th>\n",
              "    </tr>\n",
              "  </thead>\n",
              "  <tbody>\n",
              "    <tr>\n",
              "      <th>5</th>\n",
              "      <td>1/19/2020</td>\n",
              "      <td>East</td>\n",
              "      <td>Boston</td>\n",
              "      <td>Crackers</td>\n",
              "      <td>Whole Wheat</td>\n",
              "      <td>149.0</td>\n",
              "      <td>3.49</td>\n",
              "      <td>520.01</td>\n",
              "    </tr>\n",
              "    <tr>\n",
              "      <th>1</th>\n",
              "      <td>1/4/2020</td>\n",
              "      <td>East</td>\n",
              "      <td>Boston</td>\n",
              "      <td>Crackers</td>\n",
              "      <td>Whole Wheat</td>\n",
              "      <td>87.0</td>\n",
              "      <td>3.49</td>\n",
              "      <td>303.63</td>\n",
              "    </tr>\n",
              "    <tr>\n",
              "      <th>3</th>\n",
              "      <td>1/10/2020</td>\n",
              "      <td>East</td>\n",
              "      <td>New York</td>\n",
              "      <td>Cookies</td>\n",
              "      <td>Chocolate Chip</td>\n",
              "      <td>82.0</td>\n",
              "      <td>1.87</td>\n",
              "      <td>153.34</td>\n",
              "    </tr>\n",
              "    <tr>\n",
              "      <th>2</th>\n",
              "      <td>1/7/2020</td>\n",
              "      <td>West</td>\n",
              "      <td>Los Angeles</td>\n",
              "      <td>Cookies</td>\n",
              "      <td>Chocolate Chip</td>\n",
              "      <td>58.0</td>\n",
              "      <td>1.87</td>\n",
              "      <td>108.46</td>\n",
              "    </tr>\n",
              "    <tr>\n",
              "      <th>4</th>\n",
              "      <td>1/16/2020</td>\n",
              "      <td>East</td>\n",
              "      <td>Boston</td>\n",
              "      <td>Bars</td>\n",
              "      <td>Carrot</td>\n",
              "      <td>54.0</td>\n",
              "      <td>1.77</td>\n",
              "      <td>95.58</td>\n",
              "    </tr>\n",
              "    <tr>\n",
              "      <th>6</th>\n",
              "      <td>1/22/2020</td>\n",
              "      <td>West</td>\n",
              "      <td>Los Angeles</td>\n",
              "      <td>Bars</td>\n",
              "      <td>Carrot</td>\n",
              "      <td>51.0</td>\n",
              "      <td>1.77</td>\n",
              "      <td>90.27</td>\n",
              "    </tr>\n",
              "    <tr>\n",
              "      <th>0</th>\n",
              "      <td>1/1/2020</td>\n",
              "      <td>East</td>\n",
              "      <td>Boston</td>\n",
              "      <td>Bars</td>\n",
              "      <td>Carrot</td>\n",
              "      <td>33.0</td>\n",
              "      <td>1.77</td>\n",
              "      <td>58.41</td>\n",
              "    </tr>\n",
              "  </tbody>\n",
              "</table>\n",
              "</div>\n",
              "      <button class=\"colab-df-convert\" onclick=\"convertToInteractive('df-6dc8f0a2-059c-40db-8ae5-f08301f79668')\"\n",
              "              title=\"Convert this dataframe to an interactive table.\"\n",
              "              style=\"display:none;\">\n",
              "        \n",
              "  <svg xmlns=\"http://www.w3.org/2000/svg\" height=\"24px\"viewBox=\"0 0 24 24\"\n",
              "       width=\"24px\">\n",
              "    <path d=\"M0 0h24v24H0V0z\" fill=\"none\"/>\n",
              "    <path d=\"M18.56 5.44l.94 2.06.94-2.06 2.06-.94-2.06-.94-.94-2.06-.94 2.06-2.06.94zm-11 1L8.5 8.5l.94-2.06 2.06-.94-2.06-.94L8.5 2.5l-.94 2.06-2.06.94zm10 10l.94 2.06.94-2.06 2.06-.94-2.06-.94-.94-2.06-.94 2.06-2.06.94z\"/><path d=\"M17.41 7.96l-1.37-1.37c-.4-.4-.92-.59-1.43-.59-.52 0-1.04.2-1.43.59L10.3 9.45l-7.72 7.72c-.78.78-.78 2.05 0 2.83L4 21.41c.39.39.9.59 1.41.59.51 0 1.02-.2 1.41-.59l7.78-7.78 2.81-2.81c.8-.78.8-2.07 0-2.86zM5.41 20L4 18.59l7.72-7.72 1.47 1.35L5.41 20z\"/>\n",
              "  </svg>\n",
              "      </button>\n",
              "      \n",
              "  <style>\n",
              "    .colab-df-container {\n",
              "      display:flex;\n",
              "      flex-wrap:wrap;\n",
              "      gap: 12px;\n",
              "    }\n",
              "\n",
              "    .colab-df-convert {\n",
              "      background-color: #E8F0FE;\n",
              "      border: none;\n",
              "      border-radius: 50%;\n",
              "      cursor: pointer;\n",
              "      display: none;\n",
              "      fill: #1967D2;\n",
              "      height: 32px;\n",
              "      padding: 0 0 0 0;\n",
              "      width: 32px;\n",
              "    }\n",
              "\n",
              "    .colab-df-convert:hover {\n",
              "      background-color: #E2EBFA;\n",
              "      box-shadow: 0px 1px 2px rgba(60, 64, 67, 0.3), 0px 1px 3px 1px rgba(60, 64, 67, 0.15);\n",
              "      fill: #174EA6;\n",
              "    }\n",
              "\n",
              "    [theme=dark] .colab-df-convert {\n",
              "      background-color: #3B4455;\n",
              "      fill: #D2E3FC;\n",
              "    }\n",
              "\n",
              "    [theme=dark] .colab-df-convert:hover {\n",
              "      background-color: #434B5C;\n",
              "      box-shadow: 0px 1px 3px 1px rgba(0, 0, 0, 0.15);\n",
              "      filter: drop-shadow(0px 1px 2px rgba(0, 0, 0, 0.3));\n",
              "      fill: #FFFFFF;\n",
              "    }\n",
              "  </style>\n",
              "\n",
              "      <script>\n",
              "        const buttonEl =\n",
              "          document.querySelector('#df-6dc8f0a2-059c-40db-8ae5-f08301f79668 button.colab-df-convert');\n",
              "        buttonEl.style.display =\n",
              "          google.colab.kernel.accessAllowed ? 'block' : 'none';\n",
              "\n",
              "        async function convertToInteractive(key) {\n",
              "          const element = document.querySelector('#df-6dc8f0a2-059c-40db-8ae5-f08301f79668');\n",
              "          const dataTable =\n",
              "            await google.colab.kernel.invokeFunction('convertToInteractive',\n",
              "                                                     [key], {});\n",
              "          if (!dataTable) return;\n",
              "\n",
              "          const docLinkHtml = 'Like what you see? Visit the ' +\n",
              "            '<a target=\"_blank\" href=https://colab.research.google.com/notebooks/data_table.ipynb>data table notebook</a>'\n",
              "            + ' to learn more about interactive tables.';\n",
              "          element.innerHTML = '';\n",
              "          dataTable['output_type'] = 'display_data';\n",
              "          await google.colab.output.renderOutput(dataTable, element);\n",
              "          const docLink = document.createElement('div');\n",
              "          docLink.innerHTML = docLinkHtml;\n",
              "          element.appendChild(docLink);\n",
              "        }\n",
              "      </script>\n",
              "    </div>\n",
              "  </div>\n",
              "  "
            ]
          },
          "metadata": {},
          "execution_count": 162
        }
      ]
    },
    {
      "cell_type": "code",
      "source": [
        "sorted_df2 = df2.sort_values(by = [\"Total Price\"], ascending = True)\n",
        "sorted_df2"
      ],
      "metadata": {
        "colab": {
          "base_uri": "https://localhost:8080/",
          "height": 269
        },
        "id": "2uQX1XPd4y-k",
        "outputId": "1cc80d5a-350f-4d92-840c-be53c782a6a0"
      },
      "execution_count": null,
      "outputs": [
        {
          "output_type": "execute_result",
          "data": {
            "text/plain": [
              "   OrderDate Region         City  Category         Product  Quantity  \\\n",
              "0   1/1/2020   East       Boston      Bars          Carrot      33.0   \n",
              "6  1/22/2020   West  Los Angeles      Bars          Carrot      51.0   \n",
              "4  1/16/2020   East       Boston      Bars          Carrot      54.0   \n",
              "2   1/7/2020   West  Los Angeles   Cookies  Chocolate Chip      58.0   \n",
              "3  1/10/2020   East     New York   Cookies  Chocolate Chip      82.0   \n",
              "1   1/4/2020   East       Boston  Crackers     Whole Wheat      87.0   \n",
              "5  1/19/2020   East       Boston  Crackers     Whole Wheat     149.0   \n",
              "\n",
              "   UnitPrice  Total Price  \n",
              "0       1.77        58.41  \n",
              "6       1.77        90.27  \n",
              "4       1.77        95.58  \n",
              "2       1.87       108.46  \n",
              "3       1.87       153.34  \n",
              "1       3.49       303.63  \n",
              "5       3.49       520.01  "
            ],
            "text/html": [
              "\n",
              "  <div id=\"df-4392f256-a1d8-4751-936e-d9fb7ae2400d\">\n",
              "    <div class=\"colab-df-container\">\n",
              "      <div>\n",
              "<style scoped>\n",
              "    .dataframe tbody tr th:only-of-type {\n",
              "        vertical-align: middle;\n",
              "    }\n",
              "\n",
              "    .dataframe tbody tr th {\n",
              "        vertical-align: top;\n",
              "    }\n",
              "\n",
              "    .dataframe thead th {\n",
              "        text-align: right;\n",
              "    }\n",
              "</style>\n",
              "<table border=\"1\" class=\"dataframe\">\n",
              "  <thead>\n",
              "    <tr style=\"text-align: right;\">\n",
              "      <th></th>\n",
              "      <th>OrderDate</th>\n",
              "      <th>Region</th>\n",
              "      <th>City</th>\n",
              "      <th>Category</th>\n",
              "      <th>Product</th>\n",
              "      <th>Quantity</th>\n",
              "      <th>UnitPrice</th>\n",
              "      <th>Total Price</th>\n",
              "    </tr>\n",
              "  </thead>\n",
              "  <tbody>\n",
              "    <tr>\n",
              "      <th>0</th>\n",
              "      <td>1/1/2020</td>\n",
              "      <td>East</td>\n",
              "      <td>Boston</td>\n",
              "      <td>Bars</td>\n",
              "      <td>Carrot</td>\n",
              "      <td>33.0</td>\n",
              "      <td>1.77</td>\n",
              "      <td>58.41</td>\n",
              "    </tr>\n",
              "    <tr>\n",
              "      <th>6</th>\n",
              "      <td>1/22/2020</td>\n",
              "      <td>West</td>\n",
              "      <td>Los Angeles</td>\n",
              "      <td>Bars</td>\n",
              "      <td>Carrot</td>\n",
              "      <td>51.0</td>\n",
              "      <td>1.77</td>\n",
              "      <td>90.27</td>\n",
              "    </tr>\n",
              "    <tr>\n",
              "      <th>4</th>\n",
              "      <td>1/16/2020</td>\n",
              "      <td>East</td>\n",
              "      <td>Boston</td>\n",
              "      <td>Bars</td>\n",
              "      <td>Carrot</td>\n",
              "      <td>54.0</td>\n",
              "      <td>1.77</td>\n",
              "      <td>95.58</td>\n",
              "    </tr>\n",
              "    <tr>\n",
              "      <th>2</th>\n",
              "      <td>1/7/2020</td>\n",
              "      <td>West</td>\n",
              "      <td>Los Angeles</td>\n",
              "      <td>Cookies</td>\n",
              "      <td>Chocolate Chip</td>\n",
              "      <td>58.0</td>\n",
              "      <td>1.87</td>\n",
              "      <td>108.46</td>\n",
              "    </tr>\n",
              "    <tr>\n",
              "      <th>3</th>\n",
              "      <td>1/10/2020</td>\n",
              "      <td>East</td>\n",
              "      <td>New York</td>\n",
              "      <td>Cookies</td>\n",
              "      <td>Chocolate Chip</td>\n",
              "      <td>82.0</td>\n",
              "      <td>1.87</td>\n",
              "      <td>153.34</td>\n",
              "    </tr>\n",
              "    <tr>\n",
              "      <th>1</th>\n",
              "      <td>1/4/2020</td>\n",
              "      <td>East</td>\n",
              "      <td>Boston</td>\n",
              "      <td>Crackers</td>\n",
              "      <td>Whole Wheat</td>\n",
              "      <td>87.0</td>\n",
              "      <td>3.49</td>\n",
              "      <td>303.63</td>\n",
              "    </tr>\n",
              "    <tr>\n",
              "      <th>5</th>\n",
              "      <td>1/19/2020</td>\n",
              "      <td>East</td>\n",
              "      <td>Boston</td>\n",
              "      <td>Crackers</td>\n",
              "      <td>Whole Wheat</td>\n",
              "      <td>149.0</td>\n",
              "      <td>3.49</td>\n",
              "      <td>520.01</td>\n",
              "    </tr>\n",
              "  </tbody>\n",
              "</table>\n",
              "</div>\n",
              "      <button class=\"colab-df-convert\" onclick=\"convertToInteractive('df-4392f256-a1d8-4751-936e-d9fb7ae2400d')\"\n",
              "              title=\"Convert this dataframe to an interactive table.\"\n",
              "              style=\"display:none;\">\n",
              "        \n",
              "  <svg xmlns=\"http://www.w3.org/2000/svg\" height=\"24px\"viewBox=\"0 0 24 24\"\n",
              "       width=\"24px\">\n",
              "    <path d=\"M0 0h24v24H0V0z\" fill=\"none\"/>\n",
              "    <path d=\"M18.56 5.44l.94 2.06.94-2.06 2.06-.94-2.06-.94-.94-2.06-.94 2.06-2.06.94zm-11 1L8.5 8.5l.94-2.06 2.06-.94-2.06-.94L8.5 2.5l-.94 2.06-2.06.94zm10 10l.94 2.06.94-2.06 2.06-.94-2.06-.94-.94-2.06-.94 2.06-2.06.94z\"/><path d=\"M17.41 7.96l-1.37-1.37c-.4-.4-.92-.59-1.43-.59-.52 0-1.04.2-1.43.59L10.3 9.45l-7.72 7.72c-.78.78-.78 2.05 0 2.83L4 21.41c.39.39.9.59 1.41.59.51 0 1.02-.2 1.41-.59l7.78-7.78 2.81-2.81c.8-.78.8-2.07 0-2.86zM5.41 20L4 18.59l7.72-7.72 1.47 1.35L5.41 20z\"/>\n",
              "  </svg>\n",
              "      </button>\n",
              "      \n",
              "  <style>\n",
              "    .colab-df-container {\n",
              "      display:flex;\n",
              "      flex-wrap:wrap;\n",
              "      gap: 12px;\n",
              "    }\n",
              "\n",
              "    .colab-df-convert {\n",
              "      background-color: #E8F0FE;\n",
              "      border: none;\n",
              "      border-radius: 50%;\n",
              "      cursor: pointer;\n",
              "      display: none;\n",
              "      fill: #1967D2;\n",
              "      height: 32px;\n",
              "      padding: 0 0 0 0;\n",
              "      width: 32px;\n",
              "    }\n",
              "\n",
              "    .colab-df-convert:hover {\n",
              "      background-color: #E2EBFA;\n",
              "      box-shadow: 0px 1px 2px rgba(60, 64, 67, 0.3), 0px 1px 3px 1px rgba(60, 64, 67, 0.15);\n",
              "      fill: #174EA6;\n",
              "    }\n",
              "\n",
              "    [theme=dark] .colab-df-convert {\n",
              "      background-color: #3B4455;\n",
              "      fill: #D2E3FC;\n",
              "    }\n",
              "\n",
              "    [theme=dark] .colab-df-convert:hover {\n",
              "      background-color: #434B5C;\n",
              "      box-shadow: 0px 1px 3px 1px rgba(0, 0, 0, 0.15);\n",
              "      filter: drop-shadow(0px 1px 2px rgba(0, 0, 0, 0.3));\n",
              "      fill: #FFFFFF;\n",
              "    }\n",
              "  </style>\n",
              "\n",
              "      <script>\n",
              "        const buttonEl =\n",
              "          document.querySelector('#df-4392f256-a1d8-4751-936e-d9fb7ae2400d button.colab-df-convert');\n",
              "        buttonEl.style.display =\n",
              "          google.colab.kernel.accessAllowed ? 'block' : 'none';\n",
              "\n",
              "        async function convertToInteractive(key) {\n",
              "          const element = document.querySelector('#df-4392f256-a1d8-4751-936e-d9fb7ae2400d');\n",
              "          const dataTable =\n",
              "            await google.colab.kernel.invokeFunction('convertToInteractive',\n",
              "                                                     [key], {});\n",
              "          if (!dataTable) return;\n",
              "\n",
              "          const docLinkHtml = 'Like what you see? Visit the ' +\n",
              "            '<a target=\"_blank\" href=https://colab.research.google.com/notebooks/data_table.ipynb>data table notebook</a>'\n",
              "            + ' to learn more about interactive tables.';\n",
              "          element.innerHTML = '';\n",
              "          dataTable['output_type'] = 'display_data';\n",
              "          await google.colab.output.renderOutput(dataTable, element);\n",
              "          const docLink = document.createElement('div');\n",
              "          docLink.innerHTML = docLinkHtml;\n",
              "          element.appendChild(docLink);\n",
              "        }\n",
              "      </script>\n",
              "    </div>\n",
              "  </div>\n",
              "  "
            ]
          },
          "metadata": {},
          "execution_count": 163
        }
      ]
    },
    {
      "cell_type": "code",
      "source": [
        "raw_data = {'ID': [1, 2, 3, 4, 5],\n",
        "            'Name': ['Sara', 'Katie', 'David', 'Hazal', 'Georgie'],\n",
        "            'Address': [42, 38, 36, 41, 35],\n",
        "            'Salary': [33000, 45000, 65000, 95000, 35000]}\n",
        "raw_data"
      ],
      "metadata": {
        "colab": {
          "base_uri": "https://localhost:8080/"
        },
        "id": "Yn_MOexv420C",
        "outputId": "a94dd9da-c3ff-4f4b-940f-ba0523a404d0"
      },
      "execution_count": null,
      "outputs": [
        {
          "output_type": "execute_result",
          "data": {
            "text/plain": [
              "{'ID': [1, 2, 3, 4, 5],\n",
              " 'Name': ['Sara', 'Katie', 'David', 'Hazal', 'Georgie'],\n",
              " 'Address': [42, 38, 36, 41, 35],\n",
              " 'Salary': [33000, 45000, 65000, 95000, 35000]}"
            ]
          },
          "metadata": {},
          "execution_count": 165
        }
      ]
    },
    {
      "cell_type": "code",
      "source": [
        "x = pd.DataFrame(raw_data,columns = [\"ID\",\"Name\",\"Address\",\"Salary\"])\n",
        "print(x)"
      ],
      "metadata": {
        "colab": {
          "base_uri": "https://localhost:8080/"
        },
        "id": "IsAOWrFH5RYy",
        "outputId": "9c44a9cc-0676-4d90-e7cb-aaaa4ab10467"
      },
      "execution_count": null,
      "outputs": [
        {
          "output_type": "stream",
          "name": "stdout",
          "text": [
            "   ID     Name  Address  Salary\n",
            "0   1     Sara       42   33000\n",
            "1   2    Katie       38   45000\n",
            "2   3    David       36   65000\n",
            "3   4    Hazal       41   95000\n",
            "4   5  Georgie       35   35000\n"
          ]
        }
      ]
    },
    {
      "cell_type": "code",
      "source": [
        "x[\"Salary\"]=rank[\"Salary\"].rank(ascending = False)\n",
        "print(x)"
      ],
      "metadata": {
        "colab": {
          "base_uri": "https://localhost:8080/"
        },
        "id": "tq_XeY1o5sC-",
        "outputId": "0398bfd3-ca47-4f4f-ed6b-4cb652a53a74"
      },
      "execution_count": null,
      "outputs": [
        {
          "output_type": "stream",
          "name": "stdout",
          "text": [
            "   ID     Name  Address  Salary\n",
            "0   1     Sara       42     1.0\n",
            "1   2    Katie       38     3.0\n",
            "2   3    David       36     4.0\n",
            "3   4    Hazal       41     5.0\n",
            "4   5  Georgie       35     2.0\n"
          ]
        }
      ]
    },
    {
      "cell_type": "code",
      "source": [
        "# axis   0 = rows , 1 = column"
      ],
      "metadata": {
        "id": "1o9OdZ4S7Jky"
      },
      "execution_count": null,
      "outputs": []
    }
  ]
}